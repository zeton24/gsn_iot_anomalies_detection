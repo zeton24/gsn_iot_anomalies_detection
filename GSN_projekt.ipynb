{
  "nbformat": 4,
  "nbformat_minor": 0,
  "metadata": {
    "colab": {
      "provenance": [],
      "collapsed_sections": [
        "xksGPv6tKcVf",
        "8XZXq2RN_8Fq",
        "lka_Av-N-0ZV",
        "VPwSvIEZ6dDF",
        "2ctLoR9A6iJg"
      ],
      "include_colab_link": true
    },
    "kernelspec": {
      "name": "python3",
      "display_name": "Python 3"
    },
    "language_info": {
      "name": "python"
    }
  },
  "cells": [
    {
      "cell_type": "markdown",
      "metadata": {
        "id": "view-in-github",
        "colab_type": "text"
      },
      "source": [
        "<a href=\"https://colab.research.google.com/github/zeton24/gsn_iot_anomalies_detection/blob/main/GSN_projekt.ipynb\" target=\"_parent\"><img src=\"https://colab.research.google.com/assets/colab-badge.svg\" alt=\"Open In Colab\"/></a>"
      ]
    },
    {
      "cell_type": "markdown",
      "source": [
        "Convolutional (Conv2d)\n",
        "https://pytorch.org/docs/stable/generated/torch.nn.Conv2d.html#torch.nn.Conv2d\n",
        "\n",
        "Average Pooling https://pytorch.org/docs/stable/generated/torch.nn.AvgPool2d.html#torch.nn.AvgPool2d\n",
        "\n",
        "Normalization\n",
        "https://pytorch.org/docs/stable/generated/torch.nn.BatchNorm1d.html#torch.nn.BatchNorm1d\n",
        "\n",
        "Spatial Dropout\n",
        "https://pytorch.org/docs/stable/generated/torch.nn.Dropout2d.html#torch.nn.Dropout2d\n",
        "\n",
        "Fully connected layer -> nn.Linear()\n"
      ],
      "metadata": {
        "id": "f8AlM5uOovz-"
      }
    },
    {
      "cell_type": "code",
      "source": [
        "import torch.nn as nn\n",
        "import torch.nn.functional as F\n",
        "\n",
        "import torch.optim as optim\n",
        "from torch.utils.data import DataLoader"
      ],
      "metadata": {
        "id": "YsotMKY_-viE"
      },
      "execution_count": 1,
      "outputs": []
    },
    {
      "cell_type": "code",
      "source": [
        "import torch"
      ],
      "metadata": {
        "id": "cM7kc7THAPKz"
      },
      "execution_count": 2,
      "outputs": []
    },
    {
      "cell_type": "markdown",
      "source": [
        "## Dataset i Dataloader"
      ],
      "metadata": {
        "id": "xksGPv6tKcVf"
      }
    },
    {
      "cell_type": "markdown",
      "source": [
        "todo\n",
        " - transformy w datasecie\n",
        " - tensory na wyjściu dataloadera"
      ],
      "metadata": {
        "id": "GmT59WpvYdG0"
      }
    },
    {
      "cell_type": "code",
      "source": [
        "def to_one_hot(category, n_classes):\n",
        "  result = torch.zeros(n_classes)\n",
        "  result[category] = 1\n",
        "  return result"
      ],
      "metadata": {
        "id": "YcYWDfJyAL0P"
      },
      "execution_count": 3,
      "outputs": []
    },
    {
      "cell_type": "code",
      "source": [
        "# wzięte z https://pytorch.org/tutorials/beginner/basics/data_tutorial.html\n",
        "# i znacząco zmienione, bo my mamy 1 plik wejściowy, a oni folder z obrazkami\n",
        "# jak to nie będzie mega powolne, to spoko, ale może być powolne i wtedy nie wiem, co robimy\n",
        "\n",
        "class IoTDataset(torch.utils.data.Dataset):\n",
        "  def __init__(self, input_file):\n",
        "    self.input_file = open(input_file, \"r\")\n",
        "    self.dict_of_classes = {\"Mirai-Ackflooding\": 0, \"Mirai-Hostbruteforceg\": 1, \"Mirai-UDP Flooding\": 2, \"Mirai-HTTP Flooding\": 3,\n",
        "                            \"DoS-Synflooding\": 4, \"Scan Port OS\": 5, \"Normal\": 6} # todo reszta klas\n",
        "    self.n_classes = 16 # len(self.dict_of_classes)\n",
        "\n",
        "  def __len__(self):\n",
        "    i = 0\n",
        "    for i, line in enumerate(self.input_file):\n",
        "      pass\n",
        "    self.input_file.seek(0)\n",
        "    return i + 1\n",
        "\n",
        "  def __getitem__(self, idx):\n",
        "    for i, line in enumerate(self.input_file):\n",
        "      if i == idx:\n",
        "        data = line.split(\";\") # docelowo zmienić na \",\"\n",
        "\n",
        "        image = torch.Tensor(list(map(float, data[:64])))\n",
        "        image = torch.reshape(image, (1,64))\n",
        "\n",
        "        label = data[-1]\n",
        "        if label.endswith(\"\\n\"):\n",
        "          label = label[:-1]\n",
        "        label = self.dict_of_classes[label] # -2, lub -3 dla prostszych przypadków\n",
        "        label = to_one_hot(label, self.n_classes)\n",
        "\n",
        "        self.input_file.seek(0)\n",
        "        break\n",
        "    return image, label"
      ],
      "metadata": {
        "id": "jwh6V7mTKbTx"
      },
      "execution_count": 4,
      "outputs": []
    },
    {
      "cell_type": "code",
      "source": [
        "dataset = IoTDataset(\"test_dataset.csv\")\n",
        "dataloader = DataLoader(dataset, batch_size=1, shuffle=True)"
      ],
      "metadata": {
        "id": "R1MIiyx0QK9t"
      },
      "execution_count": 6,
      "outputs": []
    },
    {
      "cell_type": "code",
      "source": [
        "for train_features, train_labels in dataloader:\n",
        "  print(train_features.shape, train_features.dtype)\n",
        "  print(train_labels)\n",
        "  break"
      ],
      "metadata": {
        "id": "MfobgY3tXgeE",
        "outputId": "e2504e1a-66bf-4166-ace1-d3e2d3334787",
        "colab": {
          "base_uri": "https://localhost:8080/"
        }
      },
      "execution_count": 29,
      "outputs": [
        {
          "output_type": "stream",
          "name": "stdout",
          "text": [
            "torch.Size([1, 1, 64]) torch.float32\n",
            "tensor([[0., 0., 0., 0., 0., 1., 0., 0., 0., 0., 0., 0., 0., 0., 0., 0.]])\n"
          ]
        }
      ]
    },
    {
      "cell_type": "markdown",
      "source": [
        "## Elementy do wykorzystania"
      ],
      "metadata": {
        "id": "8XZXq2RN_8Fq"
      }
    },
    {
      "cell_type": "markdown",
      "source": [
        "### Modele sieci 1D, 2D, 3D"
      ],
      "metadata": {
        "id": "lka_Av-N-0ZV"
      }
    },
    {
      "cell_type": "code",
      "source": [
        "class Model1D(nn.Module):\n",
        "    def __init__(self):\n",
        "        super().__init__()\n",
        "        self.convblock1 = nn.Sequential(\n",
        "            nn.Conv1d(in_channels=1, out_channels=32, kernel_size=5, padding='same'),\n",
        "            nn.ReLU(inplace=True),\n",
        "            nn.BatchNorm1d(32),\n",
        "            nn.AvgPool1d(2),\n",
        "            nn.Dropout(p=0.05)\n",
        "        )\n",
        "\n",
        "        self.convblock2 = nn.Sequential(\n",
        "            nn.Conv1d(in_channels=32, out_channels=64, kernel_size=5, padding='same'),\n",
        "            nn.ReLU(inplace=True),\n",
        "            nn.BatchNorm1d(64),\n",
        "            nn.AvgPool1d(2),\n",
        "            nn.Dropout(p=0.05)\n",
        "        )\n",
        "\n",
        "        self.convblock3 = nn.Sequential(\n",
        "            nn.Conv1d(in_channels=64, out_channels=128, kernel_size=5, padding='same'),\n",
        "            nn.ReLU(inplace=True),\n",
        "            nn.BatchNorm1d(128),\n",
        "            nn.AvgPool1d(2),\n",
        "            nn.Dropout(p=0.05)\n",
        "        )\n",
        "\n",
        "        self.convblock4 = nn.Sequential(\n",
        "            nn.Conv1d(in_channels=128, out_channels=256, kernel_size=5, padding='same'),\n",
        "            nn.ReLU(inplace=True),\n",
        "            nn.BatchNorm1d(256),\n",
        "            nn.AvgPool1d(2),\n",
        "            nn.Dropout(p=0.05)\n",
        "        )\n",
        "\n",
        "        # Nazwa bloku do rozważenia, taka mi się wymyśliła, ale nie upieram się przy niej.\n",
        "        self.evaluator = nn.Sequential(\n",
        "            nn.Flatten(),\n",
        "            nn.Linear(1024, 512),\n",
        "            nn.ReLU(inplace=True),\n",
        "            nn.Linear(512, 16)\n",
        "            # Bez aktywacji na końcu, bo softmax się doda automatycznie razem z cross entropy.\n",
        "        )\n",
        "\n",
        "    def forward(self, x):\n",
        "        x = self.convblock1(x)\n",
        "        x = self.convblock2(x)\n",
        "        x = self.convblock3(x)\n",
        "        x = self.convblock4(x)\n",
        "        x = self.evaluator(x)\n",
        "        return x"
      ],
      "metadata": {
        "id": "DMoPFNCg-5Tr"
      },
      "execution_count": 7,
      "outputs": []
    },
    {
      "cell_type": "code",
      "source": [
        "class Model2D(nn.Module):\n",
        "    def __init__(self):\n",
        "        super().__init__()\n",
        "        self.convblock1 = nn.Sequential(\n",
        "            nn.Conv2d(in_channels=1, out_channels=32, kernel_size=5, padding='same'),\n",
        "            nn.ReLU(inplace=True),\n",
        "            nn.BatchNorm2d(32),\n",
        "            nn.AvgPool2d(2),\n",
        "            nn.Dropout(p=0.05)\n",
        "        )\n",
        "\n",
        "        self.convblock2 = nn.Sequential(\n",
        "            nn.Conv2d(in_channels=32, out_channels=64, kernel_size=5, padding='same'),\n",
        "            nn.ReLU(inplace=True),\n",
        "            nn.BatchNorm2d(64),\n",
        "            nn.AvgPool2d(2),\n",
        "            nn.Dropout(p=0.05)\n",
        "        )\n",
        "\n",
        "        self.convblock3 = nn.Sequential(\n",
        "            nn.Conv2d(in_channels=64, out_channels=128, kernel_size=5, padding='same'),\n",
        "            nn.ReLU(inplace=True),\n",
        "            nn.BatchNorm2d(128),\n",
        "            nn.AvgPool2d(2),\n",
        "            nn.Dropout(p=0.05)\n",
        "        )\n",
        "\n",
        "        self.convblock4 = nn.Sequential(\n",
        "            nn.Conv2d(in_channels=128, out_channels=256, kernel_size=5, padding='same'),\n",
        "            nn.ReLU(inplace=True),\n",
        "\n",
        "            # Oni w artykule dają normalizację, ale pytorch wywala błąd.\n",
        "            # Moim zdaniem słusznie, bo o ile rozumiem ten wzór na normalizację (co jest w dokumentacji),\n",
        "            # to przy wymiarze wejścia [batch_size, 256, 1, 1] wyjście to tensor zer o takim samym wymiarze.\n",
        "            # Po prostu normalizacja zmienia nam średnią na 0 (odchylenie standardowe też, ale to nieistotne),\n",
        "            # a jak mamy 1 element, to zmiana średniej na 0, to zmiana elementu na 0.\n",
        "            # Więc nawet jak jakoś obejdziemy ten błąd, to wyniki będą bez sensu.\n",
        "            # Moim zdaniem w artykule jest błąd (a przynajmniej na rysunku, może w implementacji tego nie ma).\n",
        "\n",
        "            nn.BatchNorm2d(256),\n",
        "            nn.Dropout(p=0.05)\n",
        "        )\n",
        "\n",
        "        self.evaluator = nn.Sequential(\n",
        "            nn.Flatten(),\n",
        "            nn.Linear(256, 512),\n",
        "            nn.ReLU(inplace=True),\n",
        "            nn.Linear(512, 16)\n",
        "        )\n",
        "\n",
        "    def forward(self, x):\n",
        "        x = torch.reshape(x, (x.shape[0],1,8,8)) # można ten reshape dać gdzie indziej jak się znajdzie lepsze miejsce\n",
        "        x = self.convblock1(x)\n",
        "        x = self.convblock2(x)\n",
        "        x = self.convblock3(x)\n",
        "        x = self.convblock4(x)\n",
        "        x = self.evaluator(x)\n",
        "        return x"
      ],
      "metadata": {
        "id": "BI-iPxXK-5M6"
      },
      "execution_count": 8,
      "outputs": []
    },
    {
      "cell_type": "code",
      "execution_count": 9,
      "metadata": {
        "id": "cwt-wXMAd5-L"
      },
      "outputs": [],
      "source": [
        "class Model3D(nn.Module):\n",
        "    def __init__(self):\n",
        "        super().__init__()\n",
        "        self.convblock1 = nn.Sequential(\n",
        "            nn.Conv3d(in_channels=1, out_channels=32, kernel_size=5, padding='same'),\n",
        "            nn.ReLU(inplace=True),\n",
        "            nn.BatchNorm3d(32),\n",
        "            nn.AvgPool3d(2),\n",
        "            nn.Dropout(p=0.05)\n",
        "        )\n",
        "\n",
        "        self.convblock2 = nn.Sequential(\n",
        "            nn.Conv3d(in_channels=32, out_channels=64, kernel_size=5, padding='same'),\n",
        "            nn.ReLU(inplace=True),\n",
        "            nn.BatchNorm3d(64),\n",
        "            nn.AvgPool3d(2),\n",
        "            nn.Dropout(p=0.05)\n",
        "        )\n",
        "\n",
        "        self.convblock3 = nn.Sequential(\n",
        "            nn.Conv3d(in_channels=64, out_channels=128, kernel_size=5, padding='same'),\n",
        "            nn.ReLU(inplace=True),\n",
        "            nn.BatchNorm3d(128),\n",
        "            nn.Dropout(p=0.05)\n",
        "        )\n",
        "\n",
        "        self.convblock4 = nn.Sequential(\n",
        "            nn.Conv3d(in_channels=128, out_channels=256, kernel_size=5, padding='same'),\n",
        "            nn.ReLU(inplace=True),\n",
        "            nn.BatchNorm3d(256),\n",
        "            nn.Dropout(p=0.05)\n",
        "        )\n",
        "\n",
        "        self.evaluator = nn.Sequential(\n",
        "            nn.Flatten(),\n",
        "            nn.Linear(256, 512),\n",
        "            nn.ReLU(inplace=True),\n",
        "            nn.Linear(512, 16)\n",
        "        )\n",
        "\n",
        "    def forward(self, x):\n",
        "        x = torch.reshape(x, (x.shape[0],1,4,4,4))\n",
        "        x = self.convblock1(x)\n",
        "        x = self.convblock2(x)\n",
        "        x = self.convblock3(x)\n",
        "        x = self.convblock4(x)\n",
        "        x = self.evaluator(x)\n",
        "        return x"
      ]
    },
    {
      "cell_type": "markdown",
      "source": [
        "### Batch loader"
      ],
      "metadata": {
        "id": "VPwSvIEZ6dDF"
      }
    },
    {
      "cell_type": "code",
      "source": [
        "# Na bazie datasetu z labów - zwraca kolejne batche.\n",
        "# Nie jest jakiś genialny, ale i tak go używam tylko tu do testów.\n",
        "\n",
        "class Dataset:\n",
        "  def __init__(self, data, labels, batch_size=1):\n",
        "    self.data = data\n",
        "    self.labels = labels\n",
        "    self.batch_size = batch_size\n",
        "    self.n_batches = len(self.data) // batch_size\n",
        "\n",
        "  def __iter__(self):\n",
        "    for i in range(self.n_batches):\n",
        "      inputs = torch.zeros(self.batch_size, 1, 64) # shape zahardkodowany\n",
        "      labels = torch.zeros(self.batch_size, self.labels.shape[1])\n",
        "\n",
        "      for j in range(self.batch_size):\n",
        "        inputs[j, 0] = self.data[i*self.batch_size+j]\n",
        "        labels[j]= self.labels[i*self.batch_size+j]\n",
        "\n",
        "      yield inputs, labels\n",
        "\n",
        "  # todo - jakiś shuffle by się przydał, ale to tylko jeśli byśmy z tego korzystały"
      ],
      "metadata": {
        "id": "aSnHM9rz2uYd"
      },
      "execution_count": 10,
      "outputs": []
    },
    {
      "cell_type": "markdown",
      "source": [
        "### Funkcje do treningu i testowania"
      ],
      "metadata": {
        "id": "2ctLoR9A6iJg"
      }
    },
    {
      "cell_type": "code",
      "source": [
        "# Funkcja przeprowadzająca traning\n",
        "def train(net, loader, optimizer, criterion, epochs):\n",
        "  net.train()\n",
        "  for epoch in range(epochs):\n",
        "    epoch_loss = 0.\n",
        "    for i, (inputs, labels) in enumerate(loader):\n",
        "\n",
        "      # zero the parameter gradients\n",
        "      optimizer.zero_grad()\n",
        "\n",
        "      outputs = net(inputs)\n",
        "      loss = criterion(outputs, labels)\n",
        "\n",
        "      loss.backward()\n",
        "      optimizer.step()\n",
        "\n",
        "      epoch_loss += loss\n",
        "\n",
        "    # Wczesne przerwanie w razie dostatecznie dobrych wyników.\n",
        "    if epoch_loss<0.1:\n",
        "      print(f'[{epoch + 1}, {i + 1:5d}] eloss: {epoch_loss:.3f}')\n",
        "      break\n",
        "\n",
        "    if epoch % 5 == 4: # wypisywanie co 5 epok\n",
        "      print(f'[{epoch + 1}, {i + 1:5d}] eloss: {epoch_loss:.3f}')"
      ],
      "metadata": {
        "id": "80aVYkDFK4oe"
      },
      "execution_count": 11,
      "outputs": []
    },
    {
      "cell_type": "code",
      "source": [
        "def test(network, test_set, n_classes = 16):\n",
        "  network.eval() # Przełącza sieć w tryb testowania, m. in. wyłącza dropouta.\n",
        "  err_matrix = torch.zeros((n_classes, n_classes), dtype=int)\n",
        "\n",
        "  with torch.no_grad():\n",
        "\n",
        "    for inputs, labels in test_set:\n",
        "\n",
        "      outputs = network(inputs)\n",
        "\n",
        "      _, label = torch.max(labels, 1)\n",
        "      _, predicted = torch.max(outputs, 1)\n",
        "\n",
        "      for truth, prediction in zip(label, predicted):\n",
        "        err_matrix[truth, prediction] += 1\n",
        "\n",
        "  return err_matrix"
      ],
      "metadata": {
        "id": "HKHJHsinOxPf"
      },
      "execution_count": 12,
      "outputs": []
    },
    {
      "cell_type": "code",
      "source": [
        "# Funkcja tworzy losowe etykiety one-hot.\n",
        "\n",
        "def rand_and_predict(dataset_size, output_length):\n",
        "  labels = torch.zeros(dataset_size, output_length)\n",
        "  for i in range(dataset_size):\n",
        "    hot = torch.randint(output_length,(1,))\n",
        "    labels[i, hot] = 1\n",
        "  return labels\n"
      ],
      "metadata": {
        "id": "vp9UCrvpG6LG"
      },
      "execution_count": 13,
      "outputs": []
    },
    {
      "cell_type": "markdown",
      "source": [
        "## Test na małych danych"
      ],
      "metadata": {
        "id": "ogyerTgz_oHr"
      }
    },
    {
      "cell_type": "code",
      "source": [
        "inputsR = torch.rand(24,1,64)\n",
        "labelsR = rand_and_predict(24,16)"
      ],
      "metadata": {
        "id": "gs1Ignft8Yru"
      },
      "execution_count": 14,
      "outputs": []
    },
    {
      "cell_type": "code",
      "source": [
        "classes = {\"Mirai-Ackflooding\": 0, \"Mirai-Hostbruteforceg\": 1, \"Mirai-UDP Flooding\": 2, \"Mirai-HTTP Flooding\": 3, \"DoS-Synflooding\": 4, \"Scan Port OS\": 5, \"Normal\": 6}\n",
        "inputs = torch.zeros(24,1,64)\n",
        "labels = torch.zeros(24,16)\n",
        "with open('test_dataset.csv') as f:\n",
        "  for i, line in enumerate(f):\n",
        "    data = line.split(\";\") # docelowo zmienić na \",\"\n",
        "    image = torch.Tensor(list(map(float, data[1:65])))\n",
        "    image = torch.reshape(image, (1,64))\n",
        "\n",
        "    label = data[-1]\n",
        "    if label.endswith(\"\\n\"):\n",
        "      label = label[:-1]\n",
        "    label = classes[label]\n",
        "    label = to_one_hot(label, 16)\n",
        "\n",
        "    inputs[i] = image\n",
        "    labels[i] = label"
      ],
      "metadata": {
        "id": "kvYZRLjhGL-C"
      },
      "execution_count": 15,
      "outputs": []
    },
    {
      "cell_type": "code",
      "source": [
        "loader = Dataset(inputs, labels, batch_size=1)"
      ],
      "metadata": {
        "id": "IIyXs5qFrd8s"
      },
      "execution_count": 21,
      "outputs": []
    },
    {
      "cell_type": "code",
      "source": [
        "criterion = nn.CrossEntropyLoss()\n",
        "criterion_test = nn.CrossEntropyLoss()"
      ],
      "metadata": {
        "id": "dcips5nY1GwH"
      },
      "execution_count": 17,
      "outputs": []
    },
    {
      "cell_type": "markdown",
      "source": [
        "### Model 1D"
      ],
      "metadata": {
        "id": "skdjpL2v8Tue"
      }
    },
    {
      "cell_type": "code",
      "source": [
        "network1 = Model1D()\n",
        "optimizer1 = optim.Adam(network1.parameters(), lr=0.001)"
      ],
      "metadata": {
        "id": "aM2wHDnc86Cm"
      },
      "execution_count": 27,
      "outputs": []
    },
    {
      "cell_type": "code",
      "source": [
        "train(network1, dataloader, optimizer1, criterion, 100)"
      ],
      "metadata": {
        "id": "8zkn_Dco9CGv",
        "colab": {
          "base_uri": "https://localhost:8080/"
        },
        "outputId": "61a603a6-1686-4ccf-e204-b2547045faac"
      },
      "execution_count": 28,
      "outputs": [
        {
          "output_type": "stream",
          "name": "stdout",
          "text": [
            "[5,    24] eloss: 40.877\n",
            "[10,    24] eloss: 33.170\n",
            "[15,    24] eloss: 31.742\n",
            "[20,    24] eloss: 30.291\n",
            "[25,    24] eloss: 26.671\n",
            "[30,    24] eloss: 27.405\n",
            "[35,    24] eloss: 25.353\n",
            "[40,    24] eloss: 24.087\n",
            "[45,    24] eloss: 24.806\n",
            "[50,    24] eloss: 23.498\n",
            "[55,    24] eloss: 21.670\n",
            "[60,    24] eloss: 39.874\n",
            "[65,    24] eloss: 23.592\n",
            "[70,    24] eloss: 23.179\n",
            "[75,    24] eloss: 19.978\n",
            "[80,    24] eloss: 20.069\n",
            "[85,    24] eloss: 19.272\n",
            "[90,    24] eloss: 22.855\n",
            "[95,    24] eloss: 17.845\n",
            "[100,    24] eloss: 17.003\n"
          ]
        }
      ]
    },
    {
      "cell_type": "code",
      "source": [
        "result1 = test(network1, dataloader)\n",
        "print(f\"Accuracy: {sum(sum(result1*torch.eye(16)))*100/sum(sum(result1)):.2f}%\")\n",
        "print(result1)"
      ],
      "metadata": {
        "id": "XgWnwhTb5McQ",
        "colab": {
          "base_uri": "https://localhost:8080/"
        },
        "outputId": "1f1663a7-66c9-4c2b-f47c-6bc4e5b76838"
      },
      "execution_count": 30,
      "outputs": [
        {
          "output_type": "stream",
          "name": "stdout",
          "text": [
            "Accuracy: 12.50%\n",
            "tensor([[3, 0, 0, 0, 0, 0, 1, 0, 0, 0, 0, 0, 0, 0, 0, 0],\n",
            "        [4, 0, 0, 0, 0, 0, 1, 0, 0, 0, 0, 0, 0, 0, 0, 0],\n",
            "        [4, 0, 0, 0, 0, 0, 2, 0, 0, 0, 0, 0, 0, 0, 0, 0],\n",
            "        [1, 0, 0, 0, 0, 0, 1, 0, 0, 0, 0, 0, 0, 0, 0, 0],\n",
            "        [1, 0, 0, 0, 0, 0, 2, 0, 0, 0, 0, 0, 0, 0, 0, 0],\n",
            "        [3, 0, 0, 0, 0, 0, 0, 0, 0, 0, 0, 0, 0, 0, 0, 0],\n",
            "        [1, 0, 0, 0, 0, 0, 0, 0, 0, 0, 0, 0, 0, 0, 0, 0],\n",
            "        [0, 0, 0, 0, 0, 0, 0, 0, 0, 0, 0, 0, 0, 0, 0, 0],\n",
            "        [0, 0, 0, 0, 0, 0, 0, 0, 0, 0, 0, 0, 0, 0, 0, 0],\n",
            "        [0, 0, 0, 0, 0, 0, 0, 0, 0, 0, 0, 0, 0, 0, 0, 0],\n",
            "        [0, 0, 0, 0, 0, 0, 0, 0, 0, 0, 0, 0, 0, 0, 0, 0],\n",
            "        [0, 0, 0, 0, 0, 0, 0, 0, 0, 0, 0, 0, 0, 0, 0, 0],\n",
            "        [0, 0, 0, 0, 0, 0, 0, 0, 0, 0, 0, 0, 0, 0, 0, 0],\n",
            "        [0, 0, 0, 0, 0, 0, 0, 0, 0, 0, 0, 0, 0, 0, 0, 0],\n",
            "        [0, 0, 0, 0, 0, 0, 0, 0, 0, 0, 0, 0, 0, 0, 0, 0],\n",
            "        [0, 0, 0, 0, 0, 0, 0, 0, 0, 0, 0, 0, 0, 0, 0, 0]])\n"
          ]
        }
      ]
    },
    {
      "cell_type": "markdown",
      "source": [
        "### Model 2D"
      ],
      "metadata": {
        "id": "S8AgdBFHBHbb"
      }
    },
    {
      "cell_type": "code",
      "source": [
        "network2 = Model2D()\n",
        "optimizer2 = optim.Adam(network2.parameters(), lr=0.001)"
      ],
      "metadata": {
        "id": "DLvlw3ilBHbc"
      },
      "execution_count": null,
      "outputs": []
    },
    {
      "cell_type": "code",
      "source": [
        "train(network2, dataloader, optimizer2, criterion, 1000)"
      ],
      "metadata": {
        "colab": {
          "base_uri": "https://localhost:8080/"
        },
        "outputId": "76034f8b-f2ab-4fd9-c807-5c94889ed59e",
        "id": "WI6na7CEBHbc"
      },
      "execution_count": null,
      "outputs": [
        {
          "output_type": "stream",
          "name": "stdout",
          "text": [
            "[5,     4] eloss: 7.275\n",
            "[10,     4] eloss: 7.030\n",
            "[15,     4] eloss: 6.238\n",
            "[20,     4] eloss: 6.616\n",
            "[25,     4] eloss: 7.006\n",
            "[30,     4] eloss: 6.149\n",
            "[35,     4] eloss: 6.485\n",
            "[40,     4] eloss: 6.458\n",
            "[45,     4] eloss: 7.641\n",
            "[50,     4] eloss: 6.131\n",
            "[55,     4] eloss: 6.651\n",
            "[60,     4] eloss: 6.188\n",
            "[65,     4] eloss: 7.138\n",
            "[70,     4] eloss: 6.377\n",
            "[75,     4] eloss: 6.658\n",
            "[80,     4] eloss: 6.430\n",
            "[85,     4] eloss: 7.010\n",
            "[90,     4] eloss: 6.625\n",
            "[95,     4] eloss: 6.997\n",
            "[100,     4] eloss: 6.651\n",
            "[105,     4] eloss: 6.966\n",
            "[110,     4] eloss: 6.573\n",
            "[115,     4] eloss: 6.902\n",
            "[120,     4] eloss: 5.474\n",
            "[125,     4] eloss: 5.982\n",
            "[130,     4] eloss: 5.916\n",
            "[135,     4] eloss: 6.248\n",
            "[140,     4] eloss: 5.447\n",
            "[145,     4] eloss: 6.966\n",
            "[150,     4] eloss: 6.682\n",
            "[155,     4] eloss: 6.024\n",
            "[160,     4] eloss: 5.989\n",
            "[165,     4] eloss: 6.268\n",
            "[170,     4] eloss: 5.765\n",
            "[175,     4] eloss: 5.820\n",
            "[180,     4] eloss: 5.712\n",
            "[185,     4] eloss: 6.296\n",
            "[190,     4] eloss: 5.583\n",
            "[195,     4] eloss: 6.952\n",
            "[200,     4] eloss: 5.398\n",
            "[205,     4] eloss: 6.422\n",
            "[210,     4] eloss: 5.542\n",
            "[215,     4] eloss: 5.974\n",
            "[220,     4] eloss: 6.502\n",
            "[225,     4] eloss: 5.467\n",
            "[230,     4] eloss: 6.656\n",
            "[235,     4] eloss: 5.381\n",
            "[240,     4] eloss: 5.563\n",
            "[245,     4] eloss: 5.576\n",
            "[250,     4] eloss: 5.827\n",
            "[255,     4] eloss: 5.553\n",
            "[260,     4] eloss: 5.570\n",
            "[265,     4] eloss: 6.250\n",
            "[270,     4] eloss: 6.593\n",
            "[275,     4] eloss: 5.597\n",
            "[280,     4] eloss: 5.266\n",
            "[285,     4] eloss: 5.107\n",
            "[290,     4] eloss: 4.962\n",
            "[295,     4] eloss: 5.981\n",
            "[300,     4] eloss: 5.175\n",
            "[305,     4] eloss: 6.295\n",
            "[310,     4] eloss: 5.271\n",
            "[315,     4] eloss: 5.305\n",
            "[320,     4] eloss: 5.788\n",
            "[325,     4] eloss: 6.320\n",
            "[330,     4] eloss: 5.562\n",
            "[335,     4] eloss: 4.936\n",
            "[340,     4] eloss: 5.556\n",
            "[345,     4] eloss: 6.111\n",
            "[350,     4] eloss: 6.103\n",
            "[355,     4] eloss: 5.797\n",
            "[360,     4] eloss: 5.804\n",
            "[365,     4] eloss: 5.419\n",
            "[370,     4] eloss: 5.214\n",
            "[375,     4] eloss: 5.970\n",
            "[380,     4] eloss: 5.366\n",
            "[385,     4] eloss: 6.517\n",
            "[390,     4] eloss: 5.612\n",
            "[395,     4] eloss: 5.453\n",
            "[400,     4] eloss: 6.020\n",
            "[405,     4] eloss: 4.797\n",
            "[410,     4] eloss: 5.500\n",
            "[415,     4] eloss: 5.430\n",
            "[420,     4] eloss: 5.930\n",
            "[425,     4] eloss: 5.488\n",
            "[430,     4] eloss: 4.805\n",
            "[435,     4] eloss: 5.816\n",
            "[440,     4] eloss: 5.870\n",
            "[445,     4] eloss: 4.830\n",
            "[450,     4] eloss: 5.177\n",
            "[455,     4] eloss: 5.320\n",
            "[460,     4] eloss: 4.161\n",
            "[465,     4] eloss: 4.941\n",
            "[470,     4] eloss: 4.754\n",
            "[475,     4] eloss: 6.207\n",
            "[480,     4] eloss: 5.751\n",
            "[485,     4] eloss: 4.721\n",
            "[490,     4] eloss: 4.452\n",
            "[495,     4] eloss: 5.850\n",
            "[500,     4] eloss: 4.537\n",
            "[505,     4] eloss: 5.124\n",
            "[510,     4] eloss: 5.358\n",
            "[515,     4] eloss: 4.876\n",
            "[520,     4] eloss: 4.700\n",
            "[525,     4] eloss: 5.045\n",
            "[530,     4] eloss: 4.645\n",
            "[535,     4] eloss: 4.854\n",
            "[540,     4] eloss: 4.969\n",
            "[545,     4] eloss: 3.791\n",
            "[550,     4] eloss: 4.722\n",
            "[555,     4] eloss: 4.487\n",
            "[560,     4] eloss: 5.449\n",
            "[565,     4] eloss: 5.692\n",
            "[570,     4] eloss: 5.231\n",
            "[575,     4] eloss: 4.812\n",
            "[580,     4] eloss: 4.435\n",
            "[585,     4] eloss: 4.881\n",
            "[590,     4] eloss: 4.217\n",
            "[595,     4] eloss: 4.880\n",
            "[600,     4] eloss: 4.403\n",
            "[605,     4] eloss: 5.207\n",
            "[610,     4] eloss: 3.689\n",
            "[615,     4] eloss: 5.111\n",
            "[620,     4] eloss: 5.989\n",
            "[625,     4] eloss: 4.526\n",
            "[630,     4] eloss: 4.034\n",
            "[635,     4] eloss: 4.853\n",
            "[640,     4] eloss: 4.175\n",
            "[645,     4] eloss: 3.933\n",
            "[650,     4] eloss: 4.176\n",
            "[655,     4] eloss: 3.605\n",
            "[660,     4] eloss: 3.345\n",
            "[665,     4] eloss: 5.352\n",
            "[670,     4] eloss: 2.911\n",
            "[675,     4] eloss: 4.236\n",
            "[680,     4] eloss: 4.786\n",
            "[685,     4] eloss: 4.587\n",
            "[690,     4] eloss: 4.422\n",
            "[695,     4] eloss: 3.717\n",
            "[700,     4] eloss: 3.457\n",
            "[705,     4] eloss: 4.056\n",
            "[710,     4] eloss: 4.483\n",
            "[715,     4] eloss: 3.871\n",
            "[720,     4] eloss: 4.058\n",
            "[725,     4] eloss: 3.402\n",
            "[730,     4] eloss: 3.702\n",
            "[735,     4] eloss: 3.213\n",
            "[740,     4] eloss: 3.883\n",
            "[745,     4] eloss: 3.340\n",
            "[750,     4] eloss: 4.505\n",
            "[755,     4] eloss: 2.957\n",
            "[760,     4] eloss: 3.372\n",
            "[765,     4] eloss: 4.543\n",
            "[770,     4] eloss: 3.600\n",
            "[775,     4] eloss: 3.432\n",
            "[780,     4] eloss: 3.776\n",
            "[785,     4] eloss: 3.842\n",
            "[790,     4] eloss: 3.497\n",
            "[795,     4] eloss: 4.049\n",
            "[800,     4] eloss: 3.745\n",
            "[805,     4] eloss: 3.777\n",
            "[810,     4] eloss: 2.947\n",
            "[815,     4] eloss: 4.263\n",
            "[820,     4] eloss: 3.917\n",
            "[825,     4] eloss: 3.284\n",
            "[830,     4] eloss: 4.439\n",
            "[835,     4] eloss: 3.862\n",
            "[840,     4] eloss: 2.854\n",
            "[845,     4] eloss: 3.219\n",
            "[850,     4] eloss: 3.772\n",
            "[855,     4] eloss: 3.897\n",
            "[860,     4] eloss: 4.314\n",
            "[865,     4] eloss: 3.708\n",
            "[870,     4] eloss: 3.775\n",
            "[875,     4] eloss: 3.960\n",
            "[880,     4] eloss: 3.664\n",
            "[885,     4] eloss: 3.814\n",
            "[890,     4] eloss: 3.460\n",
            "[895,     4] eloss: 3.327\n",
            "[900,     4] eloss: 3.544\n",
            "[905,     4] eloss: 2.689\n",
            "[910,     4] eloss: 4.649\n",
            "[915,     4] eloss: 2.888\n",
            "[920,     4] eloss: 5.144\n",
            "[925,     4] eloss: 3.728\n",
            "[930,     4] eloss: 3.626\n",
            "[935,     4] eloss: 3.240\n",
            "[940,     4] eloss: 3.227\n",
            "[945,     4] eloss: 4.091\n",
            "[950,     4] eloss: 2.776\n",
            "[955,     4] eloss: 3.419\n",
            "[960,     4] eloss: 2.721\n",
            "[965,     4] eloss: 3.249\n",
            "[970,     4] eloss: 3.075\n",
            "[975,     4] eloss: 3.379\n",
            "[980,     4] eloss: 3.768\n",
            "[985,     4] eloss: 4.400\n",
            "[990,     4] eloss: 2.594\n",
            "[995,     4] eloss: 3.254\n",
            "[1000,     4] eloss: 3.258\n"
          ]
        }
      ]
    },
    {
      "cell_type": "code",
      "source": [
        "result2 = test(network2, dataloader)\n",
        "print(f\"Accuracy: {sum(sum(result2*torch.eye(16)))*100/sum(sum(result2)):.2f}%\")\n",
        "print(result2)"
      ],
      "metadata": {
        "colab": {
          "base_uri": "https://localhost:8080/"
        },
        "outputId": "36006180-fc62-46c4-ac30-4aa89383a87f",
        "id": "xDRV00hzBHbd"
      },
      "execution_count": null,
      "outputs": [
        {
          "output_type": "stream",
          "name": "stdout",
          "text": [
            "Accuracy: 50.00%\n",
            "tensor([[2, 0, 1, 0, 0, 1, 0, 0, 0, 0, 0, 0, 0, 0, 0, 0],\n",
            "        [0, 2, 2, 0, 0, 1, 0, 0, 0, 0, 0, 0, 0, 0, 0, 0],\n",
            "        [2, 0, 4, 0, 0, 0, 0, 0, 0, 0, 0, 0, 0, 0, 0, 0],\n",
            "        [1, 0, 1, 0, 0, 0, 0, 0, 0, 0, 0, 0, 0, 0, 0, 0],\n",
            "        [0, 0, 0, 0, 3, 0, 0, 0, 0, 0, 0, 0, 0, 0, 0, 0],\n",
            "        [0, 0, 1, 0, 1, 1, 0, 0, 0, 0, 0, 0, 0, 0, 0, 0],\n",
            "        [1, 0, 0, 0, 0, 0, 0, 0, 0, 0, 0, 0, 0, 0, 0, 0],\n",
            "        [0, 0, 0, 0, 0, 0, 0, 0, 0, 0, 0, 0, 0, 0, 0, 0],\n",
            "        [0, 0, 0, 0, 0, 0, 0, 0, 0, 0, 0, 0, 0, 0, 0, 0],\n",
            "        [0, 0, 0, 0, 0, 0, 0, 0, 0, 0, 0, 0, 0, 0, 0, 0],\n",
            "        [0, 0, 0, 0, 0, 0, 0, 0, 0, 0, 0, 0, 0, 0, 0, 0],\n",
            "        [0, 0, 0, 0, 0, 0, 0, 0, 0, 0, 0, 0, 0, 0, 0, 0],\n",
            "        [0, 0, 0, 0, 0, 0, 0, 0, 0, 0, 0, 0, 0, 0, 0, 0],\n",
            "        [0, 0, 0, 0, 0, 0, 0, 0, 0, 0, 0, 0, 0, 0, 0, 0],\n",
            "        [0, 0, 0, 0, 0, 0, 0, 0, 0, 0, 0, 0, 0, 0, 0, 0],\n",
            "        [0, 0, 0, 0, 0, 0, 0, 0, 0, 0, 0, 0, 0, 0, 0, 0]])\n"
          ]
        }
      ]
    },
    {
      "cell_type": "markdown",
      "source": [
        "### Model 3D"
      ],
      "metadata": {
        "id": "Z_P-0rNkFxnC"
      }
    },
    {
      "cell_type": "code",
      "source": [
        "network3 = Model3D()\n",
        "optimizer3 = optim.Adam(network3.parameters(), lr=0.001)"
      ],
      "metadata": {
        "id": "7-Mk5B2KFxnC"
      },
      "execution_count": null,
      "outputs": []
    },
    {
      "cell_type": "code",
      "source": [
        "train(network3, dataloader, optimizer3, criterion, 1000)"
      ],
      "metadata": {
        "colab": {
          "base_uri": "https://localhost:8080/"
        },
        "outputId": "dfbeea39-a739-4f67-ae30-999c30be1f34",
        "id": "3I0UN6PhFxnE"
      },
      "execution_count": null,
      "outputs": [
        {
          "output_type": "stream",
          "name": "stdout",
          "text": [
            "[5,     4] eloss: 7.161\n",
            "[10,     4] eloss: 7.325\n",
            "[15,     4] eloss: 7.343\n",
            "[20,     4] eloss: 6.893\n",
            "[25,     4] eloss: 6.531\n",
            "[30,     4] eloss: 6.352\n",
            "[35,     4] eloss: 6.177\n",
            "[40,     4] eloss: 7.261\n",
            "[45,     4] eloss: 5.986\n",
            "[50,     4] eloss: 6.563\n",
            "[55,     4] eloss: 7.978\n",
            "[60,     4] eloss: 7.122\n",
            "[65,     4] eloss: 6.607\n",
            "[70,     4] eloss: 5.824\n",
            "[75,     4] eloss: 6.536\n",
            "[80,     4] eloss: 6.441\n",
            "[85,     4] eloss: 7.166\n",
            "[90,     4] eloss: 5.965\n",
            "[95,     4] eloss: 6.461\n",
            "[100,     4] eloss: 6.912\n",
            "[105,     4] eloss: 5.504\n",
            "[110,     4] eloss: 7.765\n",
            "[115,     4] eloss: 5.779\n",
            "[120,     4] eloss: 6.643\n",
            "[125,     4] eloss: 6.589\n",
            "[130,     4] eloss: 6.201\n",
            "[135,     4] eloss: 6.680\n",
            "[140,     4] eloss: 6.206\n",
            "[145,     4] eloss: 6.293\n",
            "[150,     4] eloss: 5.939\n",
            "[155,     4] eloss: 6.773\n",
            "[160,     4] eloss: 5.777\n",
            "[165,     4] eloss: 5.747\n",
            "[170,     4] eloss: 6.199\n",
            "[175,     4] eloss: 6.494\n",
            "[180,     4] eloss: 6.612\n",
            "[185,     4] eloss: 6.787\n",
            "[190,     4] eloss: 6.832\n",
            "[195,     4] eloss: 6.887\n",
            "[200,     4] eloss: 5.810\n",
            "[205,     4] eloss: 5.870\n",
            "[210,     4] eloss: 5.970\n",
            "[215,     4] eloss: 6.601\n",
            "[220,     4] eloss: 6.210\n",
            "[225,     4] eloss: 5.675\n",
            "[230,     4] eloss: 7.013\n",
            "[235,     4] eloss: 6.412\n",
            "[240,     4] eloss: 5.778\n",
            "[245,     4] eloss: 7.266\n",
            "[250,     4] eloss: 6.227\n",
            "[255,     4] eloss: 6.131\n",
            "[260,     4] eloss: 6.245\n",
            "[265,     4] eloss: 6.096\n",
            "[270,     4] eloss: 6.354\n",
            "[275,     4] eloss: 5.904\n",
            "[280,     4] eloss: 5.994\n",
            "[285,     4] eloss: 6.234\n",
            "[290,     4] eloss: 5.892\n",
            "[295,     4] eloss: 7.204\n",
            "[300,     4] eloss: 5.966\n",
            "[305,     4] eloss: 6.089\n",
            "[310,     4] eloss: 5.461\n",
            "[315,     4] eloss: 6.286\n",
            "[320,     4] eloss: 5.632\n",
            "[325,     4] eloss: 5.960\n",
            "[330,     4] eloss: 5.266\n",
            "[335,     4] eloss: 5.782\n",
            "[340,     4] eloss: 5.675\n",
            "[345,     4] eloss: 5.139\n",
            "[350,     4] eloss: 5.113\n",
            "[355,     4] eloss: 5.512\n",
            "[360,     4] eloss: 4.546\n",
            "[365,     4] eloss: 5.015\n",
            "[370,     4] eloss: 5.163\n",
            "[375,     4] eloss: 4.997\n",
            "[380,     4] eloss: 4.980\n",
            "[385,     4] eloss: 5.230\n",
            "[390,     4] eloss: 5.448\n",
            "[395,     4] eloss: 4.684\n",
            "[400,     4] eloss: 4.954\n",
            "[405,     4] eloss: 4.783\n",
            "[410,     4] eloss: 4.516\n",
            "[415,     4] eloss: 3.858\n",
            "[420,     4] eloss: 5.374\n",
            "[425,     4] eloss: 5.848\n",
            "[430,     4] eloss: 5.730\n",
            "[435,     4] eloss: 4.620\n",
            "[440,     4] eloss: 4.224\n",
            "[445,     4] eloss: 5.008\n",
            "[450,     4] eloss: 4.489\n",
            "[455,     4] eloss: 4.636\n",
            "[460,     4] eloss: 3.586\n",
            "[465,     4] eloss: 3.894\n",
            "[470,     4] eloss: 5.677\n",
            "[475,     4] eloss: 3.990\n",
            "[480,     4] eloss: 5.338\n",
            "[485,     4] eloss: 4.278\n",
            "[490,     4] eloss: 4.068\n",
            "[495,     4] eloss: 4.139\n",
            "[500,     4] eloss: 3.516\n",
            "[505,     4] eloss: 5.013\n",
            "[510,     4] eloss: 4.436\n",
            "[515,     4] eloss: 4.833\n",
            "[520,     4] eloss: 3.930\n",
            "[525,     4] eloss: 3.803\n",
            "[530,     4] eloss: 4.786\n",
            "[535,     4] eloss: 3.803\n",
            "[540,     4] eloss: 3.641\n",
            "[545,     4] eloss: 3.625\n",
            "[550,     4] eloss: 4.144\n",
            "[555,     4] eloss: 3.394\n",
            "[560,     4] eloss: 4.291\n",
            "[565,     4] eloss: 3.388\n",
            "[570,     4] eloss: 4.934\n",
            "[575,     4] eloss: 2.958\n",
            "[580,     4] eloss: 3.026\n",
            "[585,     4] eloss: 4.781\n",
            "[590,     4] eloss: 3.689\n",
            "[595,     4] eloss: 4.212\n",
            "[600,     4] eloss: 3.188\n",
            "[605,     4] eloss: 4.235\n",
            "[610,     4] eloss: 4.235\n",
            "[615,     4] eloss: 3.088\n",
            "[620,     4] eloss: 4.320\n",
            "[625,     4] eloss: 3.518\n",
            "[630,     4] eloss: 3.261\n",
            "[635,     4] eloss: 4.307\n",
            "[640,     4] eloss: 4.039\n",
            "[645,     4] eloss: 3.222\n",
            "[650,     4] eloss: 3.404\n",
            "[655,     4] eloss: 3.799\n",
            "[660,     4] eloss: 3.497\n",
            "[665,     4] eloss: 3.548\n",
            "[670,     4] eloss: 3.224\n",
            "[675,     4] eloss: 4.600\n",
            "[680,     4] eloss: 4.047\n",
            "[685,     4] eloss: 3.267\n",
            "[690,     4] eloss: 2.724\n",
            "[695,     4] eloss: 2.947\n",
            "[700,     4] eloss: 2.185\n",
            "[705,     4] eloss: 4.562\n",
            "[710,     4] eloss: 3.255\n",
            "[715,     4] eloss: 3.118\n",
            "[720,     4] eloss: 2.707\n",
            "[725,     4] eloss: 3.421\n",
            "[730,     4] eloss: 3.526\n",
            "[735,     4] eloss: 3.102\n",
            "[740,     4] eloss: 3.638\n",
            "[745,     4] eloss: 2.385\n",
            "[750,     4] eloss: 3.000\n",
            "[755,     4] eloss: 4.292\n",
            "[760,     4] eloss: 3.843\n",
            "[765,     4] eloss: 2.784\n",
            "[770,     4] eloss: 3.313\n",
            "[775,     4] eloss: 2.470\n",
            "[780,     4] eloss: 3.061\n",
            "[785,     4] eloss: 2.662\n",
            "[790,     4] eloss: 3.465\n",
            "[795,     4] eloss: 2.211\n",
            "[800,     4] eloss: 2.988\n",
            "[805,     4] eloss: 3.459\n",
            "[810,     4] eloss: 2.886\n",
            "[815,     4] eloss: 2.846\n",
            "[820,     4] eloss: 2.699\n",
            "[825,     4] eloss: 3.215\n",
            "[830,     4] eloss: 2.277\n",
            "[835,     4] eloss: 3.286\n",
            "[840,     4] eloss: 2.346\n",
            "[845,     4] eloss: 3.631\n",
            "[850,     4] eloss: 2.615\n",
            "[855,     4] eloss: 3.580\n",
            "[860,     4] eloss: 5.242\n",
            "[865,     4] eloss: 1.859\n",
            "[870,     4] eloss: 2.411\n",
            "[875,     4] eloss: 2.720\n",
            "[880,     4] eloss: 1.764\n",
            "[885,     4] eloss: 2.229\n",
            "[890,     4] eloss: 1.950\n",
            "[895,     4] eloss: 2.915\n",
            "[900,     4] eloss: 3.391\n",
            "[905,     4] eloss: 2.595\n",
            "[910,     4] eloss: 2.871\n",
            "[915,     4] eloss: 2.898\n",
            "[920,     4] eloss: 2.250\n",
            "[925,     4] eloss: 2.838\n",
            "[930,     4] eloss: 2.759\n",
            "[935,     4] eloss: 2.014\n",
            "[940,     4] eloss: 2.679\n",
            "[945,     4] eloss: 2.852\n",
            "[950,     4] eloss: 2.394\n",
            "[955,     4] eloss: 2.304\n",
            "[960,     4] eloss: 2.317\n",
            "[965,     4] eloss: 2.937\n",
            "[970,     4] eloss: 2.174\n",
            "[975,     4] eloss: 2.594\n",
            "[980,     4] eloss: 2.500\n",
            "[985,     4] eloss: 2.089\n",
            "[990,     4] eloss: 2.189\n",
            "[995,     4] eloss: 3.023\n",
            "[1000,     4] eloss: 3.307\n"
          ]
        }
      ]
    },
    {
      "cell_type": "code",
      "source": [
        "result3 = test(network3, dataloader)\n",
        "print(f\"Accuracy: {sum(sum(result3*torch.eye(16)))*100/sum(sum(result3)):.2f}%\")\n",
        "print(result3)"
      ],
      "metadata": {
        "colab": {
          "base_uri": "https://localhost:8080/"
        },
        "outputId": "5ab45793-5713-4457-e494-38e559ec8f48",
        "id": "9oslUrSAFxnE"
      },
      "execution_count": null,
      "outputs": [
        {
          "output_type": "stream",
          "name": "stdout",
          "text": [
            "Accuracy: 66.67%\n",
            "tensor([[1, 1, 1, 1, 0, 0, 0, 0, 0, 0, 0, 0, 0, 0, 0, 0],\n",
            "        [0, 5, 0, 0, 0, 0, 0, 0, 0, 0, 0, 0, 0, 0, 0, 0],\n",
            "        [0, 2, 3, 1, 0, 0, 0, 0, 0, 0, 0, 0, 0, 0, 0, 0],\n",
            "        [0, 0, 1, 1, 0, 0, 0, 0, 0, 0, 0, 0, 0, 0, 0, 0],\n",
            "        [0, 0, 0, 0, 3, 0, 0, 0, 0, 0, 0, 0, 0, 0, 0, 0],\n",
            "        [0, 1, 0, 0, 0, 2, 0, 0, 0, 0, 0, 0, 0, 0, 0, 0],\n",
            "        [0, 0, 0, 0, 0, 0, 1, 0, 0, 0, 0, 0, 0, 0, 0, 0],\n",
            "        [0, 0, 0, 0, 0, 0, 0, 0, 0, 0, 0, 0, 0, 0, 0, 0],\n",
            "        [0, 0, 0, 0, 0, 0, 0, 0, 0, 0, 0, 0, 0, 0, 0, 0],\n",
            "        [0, 0, 0, 0, 0, 0, 0, 0, 0, 0, 0, 0, 0, 0, 0, 0],\n",
            "        [0, 0, 0, 0, 0, 0, 0, 0, 0, 0, 0, 0, 0, 0, 0, 0],\n",
            "        [0, 0, 0, 0, 0, 0, 0, 0, 0, 0, 0, 0, 0, 0, 0, 0],\n",
            "        [0, 0, 0, 0, 0, 0, 0, 0, 0, 0, 0, 0, 0, 0, 0, 0],\n",
            "        [0, 0, 0, 0, 0, 0, 0, 0, 0, 0, 0, 0, 0, 0, 0, 0],\n",
            "        [0, 0, 0, 0, 0, 0, 0, 0, 0, 0, 0, 0, 0, 0, 0, 0],\n",
            "        [0, 0, 0, 0, 0, 0, 0, 0, 0, 0, 0, 0, 0, 0, 0, 0]])\n"
          ]
        }
      ]
    },
    {
      "cell_type": "markdown",
      "source": [
        "## Notatki, żeby nie szukać ciągle w artykule, bałagan trochę, ale są"
      ],
      "metadata": {
        "id": "pk2BaOAZkNbd"
      }
    },
    {
      "cell_type": "markdown",
      "source": [
        "koszt - cross entropy\n",
        "\n",
        "aktywacja lineara - relu\n",
        "\n",
        "aktywacja po 16 neuronach - softmax\n",
        "\n",
        "zrobili L1, L2 i dropout, ale nie wchodziłam w to dokładnie\n",
        "\n",
        "batch - 64, 128 dawały najlepsze wyniki\n",
        "\n",
        "eksperymentalnie sprawdzili, że 100 epok daje zbieżność\n",
        "\n",
        "w adamie dali 0.0001 learning rate\n"
      ],
      "metadata": {
        "id": "5vWorsaTkQLk"
      }
    }
  ]
}