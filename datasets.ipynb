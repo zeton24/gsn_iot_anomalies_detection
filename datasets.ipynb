{
  "nbformat": 4,
  "nbformat_minor": 0,
  "metadata": {
    "colab": {
      "provenance": [],
      "authorship_tag": "ABX9TyMemGVlvxCC5ktM9+vfsLRC",
      "include_colab_link": true
    },
    "kernelspec": {
      "name": "python3",
      "display_name": "Python 3"
    },
    "language_info": {
      "name": "python"
    }
  },
  "cells": [
    {
      "cell_type": "markdown",
      "metadata": {
        "id": "view-in-github",
        "colab_type": "text"
      },
      "source": [
        "<a href=\"https://colab.research.google.com/github/zeton24/gsn_iot_anomalies_detection/blob/dataset/datasets.ipynb\" target=\"_parent\"><img src=\"https://colab.research.google.com/assets/colab-badge.svg\" alt=\"Open In Colab\"/></a>"
      ]
    },
    {
      "cell_type": "code",
      "execution_count": 1,
      "metadata": {
        "id": "3aZrygeUCo9Y"
      },
      "outputs": [],
      "source": [
        "import gdown"
      ]
    },
    {
      "cell_type": "code",
      "source": [
        "mqtt_id = \"1WdhBh-HbywkLLo1mROMjB_9b7kHOum0I\"\n",
        "gdown.download(id=mqtt_id, output=\"mqtt_dataset.pkl.gzip\")"
      ],
      "metadata": {
        "colab": {
          "base_uri": "https://localhost:8080/",
          "height": 126
        },
        "id": "rer2zYjOC8v-",
        "outputId": "27efee33-9709-4ee7-d19e-742687ae0600"
      },
      "execution_count": 7,
      "outputs": [
        {
          "output_type": "stream",
          "name": "stderr",
          "text": [
            "Downloading...\n",
            "From (original): https://drive.google.com/uc?id=1WdhBh-HbywkLLo1mROMjB_9b7kHOum0I\n",
            "From (redirected): https://drive.google.com/uc?id=1WdhBh-HbywkLLo1mROMjB_9b7kHOum0I&confirm=t&uuid=8b62dbc1-111b-4878-869b-1791d9239df3\n",
            "To: /content/mqtt_dataset.pkl.gzip\n",
            "100%|██████████| 358M/358M [00:07<00:00, 45.7MB/s]\n"
          ]
        },
        {
          "output_type": "execute_result",
          "data": {
            "text/plain": [
              "'mqtt_dataset.pkl.gzip'"
            ],
            "application/vnd.google.colaboratory.intrinsic+json": {
              "type": "string"
            }
          },
          "metadata": {},
          "execution_count": 7
        }
      ]
    },
    {
      "cell_type": "code",
      "source": [
        "import pandas as pd"
      ],
      "metadata": {
        "id": "BnM6NoQDFzgx"
      },
      "execution_count": 4,
      "outputs": []
    },
    {
      "cell_type": "code",
      "source": [
        "mapping = {'MQTT_bruteforce': [0,0,0], 'Sparta': [0,0,1], 'Normal': [0,1,0], 'Scan_sU': [0,1,1], 'Scan_A': [1,0,0]}\n",
        "\n",
        "class MQTTDataset:\n",
        "    def __init__(self, file_path=\"mqtt_dataset.pkl.gzip\", binary_classification=False):\n",
        "        self.data = pd.read_pickle(file_path, compression=\"gzip\")\n",
        "        mapping_binary = {\"Anomaly\": 1, \"Normal\": 0}\n",
        "        self.general_labels = self.data[\"Label\"].map(mapping_binary)\n",
        "        self.labels = self.data[\"Cat\"]\n",
        "        self.data = self.data.iloc[:, :-2]\n",
        "        self.counter = 0\n",
        "        self.length = self.__len__()\n",
        "        self.is_binary = binary_classification\n",
        "\n",
        "    def __len__(self):\n",
        "        return len(self.data)\n",
        "\n",
        "    def __getitem__(self, index):\n",
        "        data = self.data.iloc[index].values\n",
        "        if self.is_binary:\n",
        "          return data, self.general_labels[index]\n",
        "        else:\n",
        "          return data, mapping[self.labels[index]]\n",
        "\n",
        "\n",
        "    def __iter__(self):\n",
        "        return self\n",
        "\n",
        "    def __next__(self):\n",
        "        if self.counter < self.length:\n",
        "          item = self.__getitem__(self.counter)\n",
        "          self.counter += 1\n",
        "          return item\n",
        "        else:\n",
        "          self.counter = 0\n",
        "          raise StopIteration\n",
        "\n",
        "# Dataloader?"
      ],
      "metadata": {
        "id": "z_WAwa7xD2ft"
      },
      "execution_count": 21,
      "outputs": []
    },
    {
      "cell_type": "code",
      "source": [
        "mqtt_dataset = MQTTDataset()"
      ],
      "metadata": {
        "id": "S2akHfemHlqG"
      },
      "execution_count": null,
      "outputs": []
    },
    {
      "cell_type": "code",
      "source": [
        "for x, y in mqtt_dataset:\n",
        "  print(x,y)\n",
        "  break"
      ],
      "metadata": {
        "colab": {
          "base_uri": "https://localhost:8080/"
        },
        "id": "lpPgZkNCKpvM",
        "outputId": "f821f6d6-4c1a-4b83-c06b-f391dbeb5508"
      },
      "execution_count": 22,
      "outputs": [
        {
          "output_type": "stream",
          "name": "stdout",
          "text": [
            "[5.80000000e+01 2.00000000e+00 0.00000000e+00 0.00000000e+00\n",
            " 0.00000000e+00 0.00000000e+00 0.00000000e+00 0.00000000e+00\n",
            " 0.00000000e+00 0.00000000e+00 0.00000000e+00 0.00000000e+00\n",
            " 0.00000000e+00 0.00000000e+00 3.44827586e+04 5.80000000e+01\n",
            " 0.00000000e+00 5.80000000e+01 5.80000000e+01 5.80000000e+01\n",
            " 5.80000000e+01 0.00000000e+00 5.80000000e+01 5.80000000e+01\n",
            " 0.00000000e+00 0.00000000e+00 0.00000000e+00 0.00000000e+00\n",
            " 0.00000000e+00 0.00000000e+00 0.00000000e+00 6.40000000e+01\n",
            " 0.00000000e+00 3.44827586e+04 0.00000000e+00 0.00000000e+00\n",
            " 0.00000000e+00 0.00000000e+00 0.00000000e+00 0.00000000e+00\n",
            " 1.00000000e+00 0.00000000e+00 0.00000000e+00 0.00000000e+00\n",
            " 2.00000000e+00 0.00000000e+00 0.00000000e+00 0.00000000e+00\n",
            " 0.00000000e+00 0.00000000e+00 0.00000000e+00 0.00000000e+00\n",
            " 1.00000000e+00 0.00000000e+00 0.00000000e+00 0.00000000e+00\n",
            " 2.29000000e+02 0.00000000e+00 0.00000000e+00 3.20000000e+01\n",
            " 0.00000000e+00 0.00000000e+00 0.00000000e+00 0.00000000e+00] [0, 0, 0]\n"
          ]
        }
      ]
    }
  ]
}