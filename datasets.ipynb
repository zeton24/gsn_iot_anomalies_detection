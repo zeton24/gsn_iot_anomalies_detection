{
  "nbformat": 4,
  "nbformat_minor": 0,
  "metadata": {
    "colab": {
      "provenance": [],
      "authorship_tag": "ABX9TyPQkzmqboRKouTJupsYUxh4",
      "include_colab_link": true
    },
    "kernelspec": {
      "name": "python3",
      "display_name": "Python 3"
    },
    "language_info": {
      "name": "python"
    }
  },
  "cells": [
    {
      "cell_type": "markdown",
      "metadata": {
        "id": "view-in-github",
        "colab_type": "text"
      },
      "source": [
        "<a href=\"https://colab.research.google.com/github/zeton24/gsn_iot_anomalies_detection/blob/dataset/datasets.ipynb\" target=\"_parent\"><img src=\"https://colab.research.google.com/assets/colab-badge.svg\" alt=\"Open In Colab\"/></a>"
      ]
    },
    {
      "cell_type": "code",
      "execution_count": 1,
      "metadata": {
        "id": "3aZrygeUCo9Y"
      },
      "outputs": [],
      "source": [
        "import gdown\n",
        "import pandas as pd"
      ]
    },
    {
      "cell_type": "code",
      "source": [
        "class IoTDataset:\n",
        "    def __init__(self, file_path: str, binary_classification=False):\n",
        "        self.data = pd.read_pickle(file_path, compression=\"gzip\")\n",
        "        if binary_classification:\n",
        "          mapping_binary = {\"Anomaly\": 1, \"Normal\": 0}\n",
        "          self.labels = self.data[\"Label\"].map(mapping_binary)\n",
        "        else:\n",
        "          self.labels = pd.get_dummies(self.data[\"Cat\"], dtype=int).values\n",
        "        self.data = self.data.iloc[:, :-2]\n",
        "        self.counter = 0\n",
        "        self.length = self.__len__()\n",
        "\n",
        "    def __len__(self):\n",
        "        return len(self.data)\n",
        "\n",
        "    def __getitem__(self, index):\n",
        "        data = self.data.iloc[index].values\n",
        "        return data, self.labels[index]\n",
        "\n",
        "\n",
        "    def __iter__(self):\n",
        "        return self\n",
        "\n",
        "    def __next__(self):\n",
        "        if self.counter < self.length:\n",
        "          item = self.__getitem__(self.counter)\n",
        "          self.counter += 1\n",
        "          return item\n",
        "        else:\n",
        "          self.counter = 0\n",
        "          raise StopIteration\n",
        "\n",
        "# Dataloader?"
      ],
      "metadata": {
        "id": "z_WAwa7xD2ft"
      },
      "execution_count": 8,
      "outputs": []
    },
    {
      "cell_type": "code",
      "source": [
        "mqtt_id = \"1WdhBh-HbywkLLo1mROMjB_9b7kHOum0I\"\n",
        "gdown.download(id=mqtt_id, output=\"mqtt_dataset.pkl.gzip\")"
      ],
      "metadata": {
        "colab": {
          "base_uri": "https://localhost:8080/",
          "height": 126
        },
        "id": "rer2zYjOC8v-",
        "outputId": "b262f2a4-634a-47bf-da39-c49f86a57baf"
      },
      "execution_count": 10,
      "outputs": [
        {
          "output_type": "stream",
          "name": "stderr",
          "text": [
            "Downloading...\n",
            "From (original): https://drive.google.com/uc?id=1WdhBh-HbywkLLo1mROMjB_9b7kHOum0I\n",
            "From (redirected): https://drive.google.com/uc?id=1WdhBh-HbywkLLo1mROMjB_9b7kHOum0I&confirm=t&uuid=6d47487f-70e6-4c28-9401-ef243ea40dd7\n",
            "To: /content/mqtt_dataset.pkl.gzip\n",
            "100%|██████████| 358M/358M [00:03<00:00, 90.4MB/s]\n"
          ]
        },
        {
          "output_type": "execute_result",
          "data": {
            "text/plain": [
              "'mqtt_dataset.pkl.gzip'"
            ],
            "application/vnd.google.colaboratory.intrinsic+json": {
              "type": "string"
            }
          },
          "metadata": {},
          "execution_count": 10
        }
      ]
    },
    {
      "cell_type": "code",
      "source": [
        "mqtt_dataset = IoTDataset(file_path=\"mqtt_dataset.pkl.gzip\")"
      ],
      "metadata": {
        "id": "S2akHfemHlqG"
      },
      "execution_count": 11,
      "outputs": []
    },
    {
      "cell_type": "code",
      "source": [
        "for x, y in mqtt_dataset:\n",
        "  print(x,y)\n",
        "  break"
      ],
      "metadata": {
        "colab": {
          "base_uri": "https://localhost:8080/"
        },
        "id": "lpPgZkNCKpvM",
        "outputId": "dc40c698-96ee-4ca8-f260-fc63d3343226"
      },
      "execution_count": 12,
      "outputs": [
        {
          "output_type": "stream",
          "name": "stdout",
          "text": [
            "[5.80000000e+01 2.00000000e+00 0.00000000e+00 0.00000000e+00\n",
            " 0.00000000e+00 0.00000000e+00 0.00000000e+00 0.00000000e+00\n",
            " 0.00000000e+00 0.00000000e+00 0.00000000e+00 0.00000000e+00\n",
            " 0.00000000e+00 0.00000000e+00 3.44827586e+04 5.80000000e+01\n",
            " 0.00000000e+00 5.80000000e+01 5.80000000e+01 5.80000000e+01\n",
            " 5.80000000e+01 0.00000000e+00 5.80000000e+01 5.80000000e+01\n",
            " 0.00000000e+00 0.00000000e+00 0.00000000e+00 0.00000000e+00\n",
            " 0.00000000e+00 0.00000000e+00 0.00000000e+00 6.40000000e+01\n",
            " 0.00000000e+00 3.44827586e+04 0.00000000e+00 0.00000000e+00\n",
            " 0.00000000e+00 0.00000000e+00 0.00000000e+00 0.00000000e+00\n",
            " 1.00000000e+00 0.00000000e+00 0.00000000e+00 0.00000000e+00\n",
            " 2.00000000e+00 0.00000000e+00 0.00000000e+00 0.00000000e+00\n",
            " 0.00000000e+00 0.00000000e+00 0.00000000e+00 0.00000000e+00\n",
            " 1.00000000e+00 0.00000000e+00 0.00000000e+00 0.00000000e+00\n",
            " 2.29000000e+02 0.00000000e+00 0.00000000e+00 3.20000000e+01\n",
            " 0.00000000e+00 0.00000000e+00 0.00000000e+00 0.00000000e+00] [1 0 0 0 0]\n"
          ]
        }
      ]
    },
    {
      "cell_type": "code",
      "source": [
        "intrusion_id=\"1rHGxn7L_BgR0lva1KESP-6_H-x2tCMn0\"\n",
        "gdown.download(id=intrusion_id, output=\"intrusion_dataset.pkl.gzip\")"
      ],
      "metadata": {
        "colab": {
          "base_uri": "https://localhost:8080/",
          "height": 126
        },
        "id": "I3xkPOGWRrqO",
        "outputId": "f2012d11-d839-4fe5-f929-99cf9f9f9945"
      },
      "execution_count": 2,
      "outputs": [
        {
          "output_type": "stream",
          "name": "stderr",
          "text": [
            "Downloading...\n",
            "From (original): https://drive.google.com/uc?id=1rHGxn7L_BgR0lva1KESP-6_H-x2tCMn0\n",
            "From (redirected): https://drive.google.com/uc?id=1rHGxn7L_BgR0lva1KESP-6_H-x2tCMn0&confirm=t&uuid=41a9341c-5ef7-4c4e-9480-5358180d0d13\n",
            "To: /content/intrusion_dataset.pkl.gzip\n",
            "100%|██████████| 34.6M/34.6M [00:01<00:00, 20.9MB/s]\n"
          ]
        },
        {
          "output_type": "execute_result",
          "data": {
            "text/plain": [
              "'intrusion_dataset.pkl.gzip'"
            ],
            "application/vnd.google.colaboratory.intrinsic+json": {
              "type": "string"
            }
          },
          "metadata": {},
          "execution_count": 2
        }
      ]
    },
    {
      "cell_type": "code",
      "source": [
        "intrusion = IoTDataset(\"intrusion_dataset.pkl.gzip\")\n",
        "intrusion[0]"
      ],
      "metadata": {
        "colab": {
          "base_uri": "https://localhost:8080/"
        },
        "id": "3fQM-SyMSOJ_",
        "outputId": "0c9a23da-f6b3-408e-cacd-0c3ee90576d7"
      },
      "execution_count": 9,
      "outputs": [
        {
          "output_type": "execute_result",
          "data": {
            "text/plain": [
              "(array([ 7.50000000e+01,  1.00000000e+00,  1.00000000e+00,  9.82000000e+02,\n",
              "         1.43000000e+03,  9.82000000e+02,  9.82000000e+02,  9.82000000e+02,\n",
              "         0.00000000e+00,  1.43000000e+03,  1.43000000e+03,  1.43000000e+03,\n",
              "         0.00000000e+00,  3.21600000e+07,  2.66666667e+04,  7.50000000e+01,\n",
              "         0.00000000e+00,  7.50000000e+01,  7.50000000e+01,  0.00000000e+00,\n",
              "         0.00000000e+00,  0.00000000e+00,  0.00000000e+00,  0.00000000e+00,\n",
              "         0.00000000e+00,  0.00000000e+00,  0.00000000e+00,  0.00000000e+00,\n",
              "         0.00000000e+00,  0.00000000e+00,  0.00000000e+00,  8.00000000e+00,\n",
              "         8.00000000e+00,  1.33333333e+04,  1.33333333e+04,  9.82000000e+02,\n",
              "         1.43000000e+03,  1.28066667e+03,  2.58652921e+02,  6.69013333e+04,\n",
              "         0.00000000e+00,  0.00000000e+00,  0.00000000e+00,  0.00000000e+00,\n",
              "         0.00000000e+00,  0.00000000e+00,  1.00000000e+00,  1.92100000e+03,\n",
              "         9.82000000e+02,  1.43000000e+03,  0.00000000e+00,  0.00000000e+00,\n",
              "         1.00000000e+00,  9.82000000e+02,  1.00000000e+00,  1.43000000e+03,\n",
              "        -1.00000000e+00, -1.00000000e+00,  1.00000000e+00,  0.00000000e+00,\n",
              "         7.50000000e+01,  0.00000000e+00,  7.50000000e+01,  7.50000000e+01]),\n",
              " array([0, 0, 1, 0, 0]))"
            ]
          },
          "metadata": {},
          "execution_count": 9
        }
      ]
    }
  ]
}