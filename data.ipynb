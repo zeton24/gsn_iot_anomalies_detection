{
  "cells": [
    {
      "cell_type": "markdown",
      "metadata": {
        "id": "view-in-github",
        "colab_type": "text"
      },
      "source": [
        "<a href=\"https://colab.research.google.com/github/zeton24/gsn_iot_anomalies_detection/blob/main/data.ipynb\" target=\"_parent\"><img src=\"https://colab.research.google.com/assets/colab-badge.svg\" alt=\"Open In Colab\"/></a>"
      ]
    },
    {
      "cell_type": "code",
      "execution_count": null,
      "id": "cross-happening",
      "metadata": {
        "id": "cross-happening",
        "outputId": "bdb75a6e-5b54-41bd-ef14-7692ae45be44"
      },
      "outputs": [
        {
          "name": "stdout",
          "output_type": "stream",
          "text": [
            "Here we prepare datasets\n"
          ]
        }
      ],
      "source": [
        "print('Here we prepare datasets')"
      ]
    },
    {
      "cell_type": "code",
      "source": [
        "print('testing colab connection')"
      ],
      "metadata": {
        "id": "Ny9SSVEdCH5C",
        "outputId": "45403915-7365-4514-a2c1-6811c2a01983",
        "colab": {
          "base_uri": "https://localhost:8080/"
        }
      },
      "id": "Ny9SSVEdCH5C",
      "execution_count": 1,
      "outputs": [
        {
          "output_type": "stream",
          "name": "stdout",
          "text": [
            "testing colab connection\n"
          ]
        }
      ]
    }
  ],
  "metadata": {
    "kernelspec": {
      "display_name": "Python 3",
      "language": "python",
      "name": "python3"
    },
    "language_info": {
      "codemirror_mode": {
        "name": "ipython",
        "version": 3
      },
      "file_extension": ".py",
      "mimetype": "text/x-python",
      "name": "python",
      "nbconvert_exporter": "python",
      "pygments_lexer": "ipython3",
      "version": "3.9.1"
    },
    "colab": {
      "provenance": [],
      "include_colab_link": true
    }
  },
  "nbformat": 4,
  "nbformat_minor": 5
}