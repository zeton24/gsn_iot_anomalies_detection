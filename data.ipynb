{
 "cells": [
  {
   "cell_type": "markdown",
   "id": "given-audio",
   "metadata": {
    "colab_type": "text",
    "id": "view-in-github"
   },
   "source": [
    "<a href=\"https://colab.research.google.com/github/zeton24/gsn_iot_anomalies_detection/blob/main/data.ipynb\" target=\"_parent\"><img src=\"https://colab.research.google.com/assets/colab-badge.svg\" alt=\"Open In Colab\"/></a>"
   ]
  },
  {
   "cell_type": "code",
   "execution_count": 5,
   "id": "worst-invasion",
   "metadata": {},
   "outputs": [],
   "source": [
    "import pandas as pd\n"
   ]
  },
  {
   "cell_type": "code",
   "execution_count": 2,
   "id": "db7d04c3",
   "metadata": {},
   "outputs": [],
   "source": [
    "import polars as pl"
   ]
  },
  {
   "cell_type": "code",
   "execution_count": 6,
   "id": "5e35f88f",
   "metadata": {},
   "outputs": [],
   "source": [
    "columns_to_delete=['Flow_ID', 'Src_IP', 'Src_Port', 'Dst_IP', 'Dst_Port', 'Protocol', 'Timestamp']\n",
    "columns_to_delete += ['Active_Min', 'Active_Max', 'Active_Std', 'Active_Mean', 'ECE_Flag_Cnt',\n",
    "'Fwd_Byts/b_Avg', 'Fwd_Pkts/b_Avg', 'Fwd_Blk_Rate_Avg', 'Bwd_Byts/b_Avg', 'CWE_Flag_Count', 'Bwd_PSH_Flags', 'Bwd_URG_Flags']\n"
   ]
  },
  {
   "cell_type": "markdown",
   "id": "7d7d6d5c",
   "metadata": {},
   "source": [
    "# intrusion"
   ]
  },
  {
   "cell_type": "code",
   "execution_count": 7,
   "id": "Ny9SSVEdCH5C",
   "metadata": {
    "colab": {
     "base_uri": "https://localhost:8080/"
    },
    "id": "Ny9SSVEdCH5C",
    "outputId": "45403915-7365-4514-a2c1-6811c2a01983"
   },
   "outputs": [
    {
     "name": "stderr",
     "output_type": "stream",
     "text": [
      "c:\\Users\\zofia\\Desktop\\GSN\\projekt\\gsn_iot_anomalies_detection\\.venv\\Lib\\site-packages\\pandas\\core\\nanops.py:1016: RuntimeWarning: invalid value encountered in subtract\n",
      "  sqr = _ensure_numeric((avg - values) ** 2)\n",
      "c:\\Users\\zofia\\Desktop\\GSN\\projekt\\gsn_iot_anomalies_detection\\.venv\\Lib\\site-packages\\pandas\\core\\nanops.py:1016: RuntimeWarning: invalid value encountered in subtract\n",
      "  sqr = _ensure_numeric((avg - values) ** 2)\n"
     ]
    },
    {
     "data": {
      "text/html": [
       "<div>\n",
       "<style scoped>\n",
       "    .dataframe tbody tr th:only-of-type {\n",
       "        vertical-align: middle;\n",
       "    }\n",
       "\n",
       "    .dataframe tbody tr th {\n",
       "        vertical-align: top;\n",
       "    }\n",
       "\n",
       "    .dataframe thead th {\n",
       "        text-align: right;\n",
       "    }\n",
       "</style>\n",
       "<table border=\"1\" class=\"dataframe\">\n",
       "  <thead>\n",
       "    <tr style=\"text-align: right;\">\n",
       "      <th></th>\n",
       "      <th>Flow_Duration</th>\n",
       "      <th>Tot_Fwd_Pkts</th>\n",
       "      <th>Tot_Bwd_Pkts</th>\n",
       "      <th>TotLen_Fwd_Pkts</th>\n",
       "      <th>TotLen_Bwd_Pkts</th>\n",
       "      <th>Fwd_Pkt_Len_Max</th>\n",
       "      <th>Fwd_Pkt_Len_Min</th>\n",
       "      <th>Fwd_Pkt_Len_Mean</th>\n",
       "      <th>Fwd_Pkt_Len_Std</th>\n",
       "      <th>Bwd_Pkt_Len_Max</th>\n",
       "      <th>...</th>\n",
       "      <th>Subflow_Bwd_Pkts</th>\n",
       "      <th>Subflow_Bwd_Byts</th>\n",
       "      <th>Init_Fwd_Win_Byts</th>\n",
       "      <th>Init_Bwd_Win_Byts</th>\n",
       "      <th>Fwd_Act_Data_Pkts</th>\n",
       "      <th>Fwd_Seg_Size_Min</th>\n",
       "      <th>Idle_Mean</th>\n",
       "      <th>Idle_Std</th>\n",
       "      <th>Idle_Max</th>\n",
       "      <th>Idle_Min</th>\n",
       "    </tr>\n",
       "  </thead>\n",
       "  <tbody>\n",
       "    <tr>\n",
       "      <th>count</th>\n",
       "      <td>625783.000000</td>\n",
       "      <td>625783.000000</td>\n",
       "      <td>625783.00000</td>\n",
       "      <td>625783.000000</td>\n",
       "      <td>625783.000000</td>\n",
       "      <td>625783.000000</td>\n",
       "      <td>625783.000000</td>\n",
       "      <td>625783.000000</td>\n",
       "      <td>625783.000000</td>\n",
       "      <td>625783.000000</td>\n",
       "      <td>...</td>\n",
       "      <td>625783.00000</td>\n",
       "      <td>625783.000000</td>\n",
       "      <td>625783.0</td>\n",
       "      <td>625783.000000</td>\n",
       "      <td>625783.000000</td>\n",
       "      <td>625783.0</td>\n",
       "      <td>625783.000000</td>\n",
       "      <td>625783.000000</td>\n",
       "      <td>625783.000000</td>\n",
       "      <td>625783.000000</td>\n",
       "    </tr>\n",
       "    <tr>\n",
       "      <th>mean</th>\n",
       "      <td>635.422865</td>\n",
       "      <td>1.675566</td>\n",
       "      <td>1.46853</td>\n",
       "      <td>570.738980</td>\n",
       "      <td>929.280973</td>\n",
       "      <td>392.489726</td>\n",
       "      <td>348.126571</td>\n",
       "      <td>373.556651</td>\n",
       "      <td>28.161094</td>\n",
       "      <td>681.424563</td>\n",
       "      <td>...</td>\n",
       "      <td>1.46853</td>\n",
       "      <td>929.280973</td>\n",
       "      <td>-1.0</td>\n",
       "      <td>5880.924744</td>\n",
       "      <td>1.509913</td>\n",
       "      <td>0.0</td>\n",
       "      <td>502.503832</td>\n",
       "      <td>52.403995</td>\n",
       "      <td>561.540512</td>\n",
       "      <td>467.264459</td>\n",
       "    </tr>\n",
       "    <tr>\n",
       "      <th>std</th>\n",
       "      <td>3496.740723</td>\n",
       "      <td>4.309970</td>\n",
       "      <td>1.21949</td>\n",
       "      <td>1161.873195</td>\n",
       "      <td>1731.760875</td>\n",
       "      <td>619.575865</td>\n",
       "      <td>588.161845</td>\n",
       "      <td>596.552835</td>\n",
       "      <td>144.356190</td>\n",
       "      <td>694.997621</td>\n",
       "      <td>...</td>\n",
       "      <td>1.21949</td>\n",
       "      <td>1731.760875</td>\n",
       "      <td>0.0</td>\n",
       "      <td>11529.622909</td>\n",
       "      <td>4.332737</td>\n",
       "      <td>0.0</td>\n",
       "      <td>2112.957360</td>\n",
       "      <td>1153.184897</td>\n",
       "      <td>2866.497606</td>\n",
       "      <td>1931.909971</td>\n",
       "    </tr>\n",
       "    <tr>\n",
       "      <th>min</th>\n",
       "      <td>0.000000</td>\n",
       "      <td>0.000000</td>\n",
       "      <td>1.00000</td>\n",
       "      <td>0.000000</td>\n",
       "      <td>0.000000</td>\n",
       "      <td>0.000000</td>\n",
       "      <td>0.000000</td>\n",
       "      <td>0.000000</td>\n",
       "      <td>0.000000</td>\n",
       "      <td>0.000000</td>\n",
       "      <td>...</td>\n",
       "      <td>1.00000</td>\n",
       "      <td>0.000000</td>\n",
       "      <td>-1.0</td>\n",
       "      <td>-1.000000</td>\n",
       "      <td>0.000000</td>\n",
       "      <td>0.0</td>\n",
       "      <td>0.000000</td>\n",
       "      <td>0.000000</td>\n",
       "      <td>0.000000</td>\n",
       "      <td>0.000000</td>\n",
       "    </tr>\n",
       "    <tr>\n",
       "      <th>25%</th>\n",
       "      <td>76.000000</td>\n",
       "      <td>0.000000</td>\n",
       "      <td>1.00000</td>\n",
       "      <td>0.000000</td>\n",
       "      <td>18.000000</td>\n",
       "      <td>0.000000</td>\n",
       "      <td>0.000000</td>\n",
       "      <td>0.000000</td>\n",
       "      <td>0.000000</td>\n",
       "      <td>18.000000</td>\n",
       "      <td>...</td>\n",
       "      <td>1.00000</td>\n",
       "      <td>18.000000</td>\n",
       "      <td>-1.0</td>\n",
       "      <td>-1.000000</td>\n",
       "      <td>0.000000</td>\n",
       "      <td>0.0</td>\n",
       "      <td>73.000000</td>\n",
       "      <td>0.000000</td>\n",
       "      <td>74.000000</td>\n",
       "      <td>71.000000</td>\n",
       "    </tr>\n",
       "    <tr>\n",
       "      <th>50%</th>\n",
       "      <td>132.000000</td>\n",
       "      <td>1.000000</td>\n",
       "      <td>1.00000</td>\n",
       "      <td>32.000000</td>\n",
       "      <td>104.000000</td>\n",
       "      <td>30.000000</td>\n",
       "      <td>30.000000</td>\n",
       "      <td>30.000000</td>\n",
       "      <td>0.000000</td>\n",
       "      <td>40.000000</td>\n",
       "      <td>...</td>\n",
       "      <td>1.00000</td>\n",
       "      <td>104.000000</td>\n",
       "      <td>-1.0</td>\n",
       "      <td>252.000000</td>\n",
       "      <td>1.000000</td>\n",
       "      <td>0.0</td>\n",
       "      <td>93.500000</td>\n",
       "      <td>0.000000</td>\n",
       "      <td>114.000000</td>\n",
       "      <td>78.000000</td>\n",
       "    </tr>\n",
       "    <tr>\n",
       "      <th>75%</th>\n",
       "      <td>221.000000</td>\n",
       "      <td>2.000000</td>\n",
       "      <td>2.00000</td>\n",
       "      <td>1388.000000</td>\n",
       "      <td>1441.000000</td>\n",
       "      <td>1388.000000</td>\n",
       "      <td>386.000000</td>\n",
       "      <td>864.000000</td>\n",
       "      <td>0.000000</td>\n",
       "      <td>1430.000000</td>\n",
       "      <td>...</td>\n",
       "      <td>2.00000</td>\n",
       "      <td>1441.000000</td>\n",
       "      <td>-1.0</td>\n",
       "      <td>1869.000000</td>\n",
       "      <td>1.000000</td>\n",
       "      <td>0.0</td>\n",
       "      <td>141.000000</td>\n",
       "      <td>1.527525</td>\n",
       "      <td>154.000000</td>\n",
       "      <td>130.000000</td>\n",
       "    </tr>\n",
       "    <tr>\n",
       "      <th>max</th>\n",
       "      <td>99984.000000</td>\n",
       "      <td>186.000000</td>\n",
       "      <td>560.00000</td>\n",
       "      <td>109846.000000</td>\n",
       "      <td>773284.000000</td>\n",
       "      <td>1464.000000</td>\n",
       "      <td>1464.000000</td>\n",
       "      <td>1464.000000</td>\n",
       "      <td>1032.375901</td>\n",
       "      <td>1464.000000</td>\n",
       "      <td>...</td>\n",
       "      <td>560.00000</td>\n",
       "      <td>773284.000000</td>\n",
       "      <td>-1.0</td>\n",
       "      <td>65535.000000</td>\n",
       "      <td>186.000000</td>\n",
       "      <td>0.0</td>\n",
       "      <td>99973.000000</td>\n",
       "      <td>67071.906623</td>\n",
       "      <td>99973.000000</td>\n",
       "      <td>99973.000000</td>\n",
       "    </tr>\n",
       "  </tbody>\n",
       "</table>\n",
       "<p>8 rows × 64 columns</p>\n",
       "</div>"
      ],
      "text/plain": [
       "       Flow_Duration   Tot_Fwd_Pkts  Tot_Bwd_Pkts  TotLen_Fwd_Pkts  \\\n",
       "count  625783.000000  625783.000000  625783.00000    625783.000000   \n",
       "mean      635.422865       1.675566       1.46853       570.738980   \n",
       "std      3496.740723       4.309970       1.21949      1161.873195   \n",
       "min         0.000000       0.000000       1.00000         0.000000   \n",
       "25%        76.000000       0.000000       1.00000         0.000000   \n",
       "50%       132.000000       1.000000       1.00000        32.000000   \n",
       "75%       221.000000       2.000000       2.00000      1388.000000   \n",
       "max     99984.000000     186.000000     560.00000    109846.000000   \n",
       "\n",
       "       TotLen_Bwd_Pkts  Fwd_Pkt_Len_Max  Fwd_Pkt_Len_Min  Fwd_Pkt_Len_Mean  \\\n",
       "count    625783.000000    625783.000000    625783.000000     625783.000000   \n",
       "mean        929.280973       392.489726       348.126571        373.556651   \n",
       "std        1731.760875       619.575865       588.161845        596.552835   \n",
       "min           0.000000         0.000000         0.000000          0.000000   \n",
       "25%          18.000000         0.000000         0.000000          0.000000   \n",
       "50%         104.000000        30.000000        30.000000         30.000000   \n",
       "75%        1441.000000      1388.000000       386.000000        864.000000   \n",
       "max      773284.000000      1464.000000      1464.000000       1464.000000   \n",
       "\n",
       "       Fwd_Pkt_Len_Std  Bwd_Pkt_Len_Max  ...  Subflow_Bwd_Pkts  \\\n",
       "count    625783.000000    625783.000000  ...      625783.00000   \n",
       "mean         28.161094       681.424563  ...           1.46853   \n",
       "std         144.356190       694.997621  ...           1.21949   \n",
       "min           0.000000         0.000000  ...           1.00000   \n",
       "25%           0.000000        18.000000  ...           1.00000   \n",
       "50%           0.000000        40.000000  ...           1.00000   \n",
       "75%           0.000000      1430.000000  ...           2.00000   \n",
       "max        1032.375901      1464.000000  ...         560.00000   \n",
       "\n",
       "       Subflow_Bwd_Byts  Init_Fwd_Win_Byts  Init_Bwd_Win_Byts  \\\n",
       "count     625783.000000           625783.0      625783.000000   \n",
       "mean         929.280973               -1.0        5880.924744   \n",
       "std         1731.760875                0.0       11529.622909   \n",
       "min            0.000000               -1.0          -1.000000   \n",
       "25%           18.000000               -1.0          -1.000000   \n",
       "50%          104.000000               -1.0         252.000000   \n",
       "75%         1441.000000               -1.0        1869.000000   \n",
       "max       773284.000000               -1.0       65535.000000   \n",
       "\n",
       "       Fwd_Act_Data_Pkts  Fwd_Seg_Size_Min      Idle_Mean       Idle_Std  \\\n",
       "count      625783.000000          625783.0  625783.000000  625783.000000   \n",
       "mean            1.509913               0.0     502.503832      52.403995   \n",
       "std             4.332737               0.0    2112.957360    1153.184897   \n",
       "min             0.000000               0.0       0.000000       0.000000   \n",
       "25%             0.000000               0.0      73.000000       0.000000   \n",
       "50%             1.000000               0.0      93.500000       0.000000   \n",
       "75%             1.000000               0.0     141.000000       1.527525   \n",
       "max           186.000000               0.0   99973.000000   67071.906623   \n",
       "\n",
       "            Idle_Max       Idle_Min  \n",
       "count  625783.000000  625783.000000  \n",
       "mean      561.540512     467.264459  \n",
       "std      2866.497606    1931.909971  \n",
       "min         0.000000       0.000000  \n",
       "25%        74.000000      71.000000  \n",
       "50%       114.000000      78.000000  \n",
       "75%       154.000000     130.000000  \n",
       "max     99973.000000   99973.000000  \n",
       "\n",
       "[8 rows x 64 columns]"
      ]
     },
     "execution_count": 7,
     "metadata": {},
     "output_type": "execute_result"
    }
   ],
   "source": [
    "data = pd.read_csv('data/iot-intrusion_with_headers.csv')\n",
    "data.describe()"
   ]
  },
  {
   "cell_type": "code",
   "execution_count": 10,
   "id": "ebc28aac",
   "metadata": {},
   "outputs": [
    {
     "name": "stdout",
     "output_type": "stream",
     "text": [
      "0\n",
      "0\n",
      "0\n",
      "0\n",
      "0\n",
      "0\n",
      "0\n",
      "0\n",
      "0\n",
      "0\n",
      "0\n",
      "0\n",
      "0\n",
      "0\n",
      "0\n",
      "0\n",
      "0\n",
      "0\n",
      "0\n",
      "0\n",
      "0\n",
      "0\n",
      "0\n",
      "0\n",
      "0\n",
      "0\n",
      "0\n",
      "0\n",
      "0\n",
      "0\n",
      "0\n",
      "0\n",
      "0\n",
      "0\n",
      "0\n",
      "0\n",
      "0\n",
      "0\n",
      "0\n",
      "0\n",
      "0\n",
      "0\n",
      "0\n",
      "0\n",
      "0\n",
      "0\n",
      "0\n",
      "0\n",
      "0\n",
      "0\n",
      "0\n",
      "0\n",
      "0\n",
      "0\n",
      "0\n",
      "0\n",
      "0\n",
      "0\n",
      "0\n",
      "0\n",
      "0\n",
      "0\n",
      "0\n",
      "0\n",
      "0\n",
      "0\n"
     ]
    }
   ],
   "source": [
    "for s in data:\n",
    "    print(data[s].isna().sum())"
   ]
  },
  {
   "cell_type": "code",
   "execution_count": null,
   "id": "ab0e8d88",
   "metadata": {},
   "outputs": [],
   "source": [
    "d"
   ]
  },
  {
   "cell_type": "code",
   "execution_count": 7,
   "id": "fc6dd52e",
   "metadata": {},
   "outputs": [
    {
     "ename": "KeyError",
     "evalue": "\"['Flow_ID', 'Src_IP', 'Src_Port', 'Dst_IP', 'Dst_Port', 'Protocol', 'Timestamp', 'Active_Min', 'Active_Max', 'Active_Std', 'Active_Mean', 'ECE_Flag_Cnt', 'Fwd_Byts/b_Avg', 'Fwd_Pkts/b_Avg', 'Fwd_Blk_Rate_Avg', 'Bwd_Byts/b_Avg', 'CWE_Flag_Count', 'Bwd_PSH_Flags', 'Bwd_URG_Flags'] not found in axis\"",
     "output_type": "error",
     "traceback": [
      "\u001b[1;31m---------------------------------------------------------------------------\u001b[0m",
      "\u001b[1;31mKeyError\u001b[0m                                  Traceback (most recent call last)",
      "Cell \u001b[1;32mIn[7], line 1\u001b[0m\n\u001b[1;32m----> 1\u001b[0m \u001b[43mdata\u001b[49m\u001b[38;5;241;43m.\u001b[39;49m\u001b[43mdrop\u001b[49m\u001b[43m(\u001b[49m\u001b[43mcolumns\u001b[49m\u001b[38;5;241;43m=\u001b[39;49m\u001b[43mcolumns_to_delete\u001b[49m\u001b[43m,\u001b[49m\u001b[43m \u001b[49m\u001b[43minplace\u001b[49m\u001b[38;5;241;43m=\u001b[39;49m\u001b[38;5;28;43;01mTrue\u001b[39;49;00m\u001b[43m)\u001b[49m\n\u001b[0;32m      2\u001b[0m data\u001b[38;5;241m.\u001b[39mdrop(columns\u001b[38;5;241m=\u001b[39m[\u001b[38;5;124m'\u001b[39m\u001b[38;5;124mSub_Cat\u001b[39m\u001b[38;5;124m'\u001b[39m], inplace\u001b[38;5;241m=\u001b[39m\u001b[38;5;28;01mTrue\u001b[39;00m)\n",
      "File \u001b[1;32mc:\\Users\\zofia\\Desktop\\GSN\\projekt\\gsn_iot_anomalies_detection\\.venv\\Lib\\site-packages\\pandas\\core\\frame.py:5581\u001b[0m, in \u001b[0;36mDataFrame.drop\u001b[1;34m(self, labels, axis, index, columns, level, inplace, errors)\u001b[0m\n\u001b[0;32m   5433\u001b[0m \u001b[38;5;28;01mdef\u001b[39;00m \u001b[38;5;21mdrop\u001b[39m(\n\u001b[0;32m   5434\u001b[0m     \u001b[38;5;28mself\u001b[39m,\n\u001b[0;32m   5435\u001b[0m     labels: IndexLabel \u001b[38;5;241m|\u001b[39m \u001b[38;5;28;01mNone\u001b[39;00m \u001b[38;5;241m=\u001b[39m \u001b[38;5;28;01mNone\u001b[39;00m,\n\u001b[1;32m   (...)\u001b[0m\n\u001b[0;32m   5442\u001b[0m     errors: IgnoreRaise \u001b[38;5;241m=\u001b[39m \u001b[38;5;124m\"\u001b[39m\u001b[38;5;124mraise\u001b[39m\u001b[38;5;124m\"\u001b[39m,\n\u001b[0;32m   5443\u001b[0m ) \u001b[38;5;241m-\u001b[39m\u001b[38;5;241m>\u001b[39m DataFrame \u001b[38;5;241m|\u001b[39m \u001b[38;5;28;01mNone\u001b[39;00m:\n\u001b[0;32m   5444\u001b[0m \u001b[38;5;250m    \u001b[39m\u001b[38;5;124;03m\"\"\"\u001b[39;00m\n\u001b[0;32m   5445\u001b[0m \u001b[38;5;124;03m    Drop specified labels from rows or columns.\u001b[39;00m\n\u001b[0;32m   5446\u001b[0m \n\u001b[1;32m   (...)\u001b[0m\n\u001b[0;32m   5579\u001b[0m \u001b[38;5;124;03m            weight  1.0     0.8\u001b[39;00m\n\u001b[0;32m   5580\u001b[0m \u001b[38;5;124;03m    \"\"\"\u001b[39;00m\n\u001b[1;32m-> 5581\u001b[0m     \u001b[38;5;28;01mreturn\u001b[39;00m \u001b[38;5;28;43msuper\u001b[39;49m\u001b[43m(\u001b[49m\u001b[43m)\u001b[49m\u001b[38;5;241;43m.\u001b[39;49m\u001b[43mdrop\u001b[49m\u001b[43m(\u001b[49m\n\u001b[0;32m   5582\u001b[0m \u001b[43m        \u001b[49m\u001b[43mlabels\u001b[49m\u001b[38;5;241;43m=\u001b[39;49m\u001b[43mlabels\u001b[49m\u001b[43m,\u001b[49m\n\u001b[0;32m   5583\u001b[0m \u001b[43m        \u001b[49m\u001b[43maxis\u001b[49m\u001b[38;5;241;43m=\u001b[39;49m\u001b[43maxis\u001b[49m\u001b[43m,\u001b[49m\n\u001b[0;32m   5584\u001b[0m \u001b[43m        \u001b[49m\u001b[43mindex\u001b[49m\u001b[38;5;241;43m=\u001b[39;49m\u001b[43mindex\u001b[49m\u001b[43m,\u001b[49m\n\u001b[0;32m   5585\u001b[0m \u001b[43m        \u001b[49m\u001b[43mcolumns\u001b[49m\u001b[38;5;241;43m=\u001b[39;49m\u001b[43mcolumns\u001b[49m\u001b[43m,\u001b[49m\n\u001b[0;32m   5586\u001b[0m \u001b[43m        \u001b[49m\u001b[43mlevel\u001b[49m\u001b[38;5;241;43m=\u001b[39;49m\u001b[43mlevel\u001b[49m\u001b[43m,\u001b[49m\n\u001b[0;32m   5587\u001b[0m \u001b[43m        \u001b[49m\u001b[43minplace\u001b[49m\u001b[38;5;241;43m=\u001b[39;49m\u001b[43minplace\u001b[49m\u001b[43m,\u001b[49m\n\u001b[0;32m   5588\u001b[0m \u001b[43m        \u001b[49m\u001b[43merrors\u001b[49m\u001b[38;5;241;43m=\u001b[39;49m\u001b[43merrors\u001b[49m\u001b[43m,\u001b[49m\n\u001b[0;32m   5589\u001b[0m \u001b[43m    \u001b[49m\u001b[43m)\u001b[49m\n",
      "File \u001b[1;32mc:\\Users\\zofia\\Desktop\\GSN\\projekt\\gsn_iot_anomalies_detection\\.venv\\Lib\\site-packages\\pandas\\core\\generic.py:4788\u001b[0m, in \u001b[0;36mNDFrame.drop\u001b[1;34m(self, labels, axis, index, columns, level, inplace, errors)\u001b[0m\n\u001b[0;32m   4786\u001b[0m \u001b[38;5;28;01mfor\u001b[39;00m axis, labels \u001b[38;5;129;01min\u001b[39;00m axes\u001b[38;5;241m.\u001b[39mitems():\n\u001b[0;32m   4787\u001b[0m     \u001b[38;5;28;01mif\u001b[39;00m labels \u001b[38;5;129;01mis\u001b[39;00m \u001b[38;5;129;01mnot\u001b[39;00m \u001b[38;5;28;01mNone\u001b[39;00m:\n\u001b[1;32m-> 4788\u001b[0m         obj \u001b[38;5;241m=\u001b[39m \u001b[43mobj\u001b[49m\u001b[38;5;241;43m.\u001b[39;49m\u001b[43m_drop_axis\u001b[49m\u001b[43m(\u001b[49m\u001b[43mlabels\u001b[49m\u001b[43m,\u001b[49m\u001b[43m \u001b[49m\u001b[43maxis\u001b[49m\u001b[43m,\u001b[49m\u001b[43m \u001b[49m\u001b[43mlevel\u001b[49m\u001b[38;5;241;43m=\u001b[39;49m\u001b[43mlevel\u001b[49m\u001b[43m,\u001b[49m\u001b[43m \u001b[49m\u001b[43merrors\u001b[49m\u001b[38;5;241;43m=\u001b[39;49m\u001b[43merrors\u001b[49m\u001b[43m)\u001b[49m\n\u001b[0;32m   4790\u001b[0m \u001b[38;5;28;01mif\u001b[39;00m inplace:\n\u001b[0;32m   4791\u001b[0m     \u001b[38;5;28mself\u001b[39m\u001b[38;5;241m.\u001b[39m_update_inplace(obj)\n",
      "File \u001b[1;32mc:\\Users\\zofia\\Desktop\\GSN\\projekt\\gsn_iot_anomalies_detection\\.venv\\Lib\\site-packages\\pandas\\core\\generic.py:4830\u001b[0m, in \u001b[0;36mNDFrame._drop_axis\u001b[1;34m(self, labels, axis, level, errors, only_slice)\u001b[0m\n\u001b[0;32m   4828\u001b[0m         new_axis \u001b[38;5;241m=\u001b[39m axis\u001b[38;5;241m.\u001b[39mdrop(labels, level\u001b[38;5;241m=\u001b[39mlevel, errors\u001b[38;5;241m=\u001b[39merrors)\n\u001b[0;32m   4829\u001b[0m     \u001b[38;5;28;01melse\u001b[39;00m:\n\u001b[1;32m-> 4830\u001b[0m         new_axis \u001b[38;5;241m=\u001b[39m \u001b[43maxis\u001b[49m\u001b[38;5;241;43m.\u001b[39;49m\u001b[43mdrop\u001b[49m\u001b[43m(\u001b[49m\u001b[43mlabels\u001b[49m\u001b[43m,\u001b[49m\u001b[43m \u001b[49m\u001b[43merrors\u001b[49m\u001b[38;5;241;43m=\u001b[39;49m\u001b[43merrors\u001b[49m\u001b[43m)\u001b[49m\n\u001b[0;32m   4831\u001b[0m     indexer \u001b[38;5;241m=\u001b[39m axis\u001b[38;5;241m.\u001b[39mget_indexer(new_axis)\n\u001b[0;32m   4833\u001b[0m \u001b[38;5;66;03m# Case for non-unique axis\u001b[39;00m\n\u001b[0;32m   4834\u001b[0m \u001b[38;5;28;01melse\u001b[39;00m:\n",
      "File \u001b[1;32mc:\\Users\\zofia\\Desktop\\GSN\\projekt\\gsn_iot_anomalies_detection\\.venv\\Lib\\site-packages\\pandas\\core\\indexes\\base.py:7070\u001b[0m, in \u001b[0;36mIndex.drop\u001b[1;34m(self, labels, errors)\u001b[0m\n\u001b[0;32m   7068\u001b[0m \u001b[38;5;28;01mif\u001b[39;00m mask\u001b[38;5;241m.\u001b[39many():\n\u001b[0;32m   7069\u001b[0m     \u001b[38;5;28;01mif\u001b[39;00m errors \u001b[38;5;241m!=\u001b[39m \u001b[38;5;124m\"\u001b[39m\u001b[38;5;124mignore\u001b[39m\u001b[38;5;124m\"\u001b[39m:\n\u001b[1;32m-> 7070\u001b[0m         \u001b[38;5;28;01mraise\u001b[39;00m \u001b[38;5;167;01mKeyError\u001b[39;00m(\u001b[38;5;124mf\u001b[39m\u001b[38;5;124m\"\u001b[39m\u001b[38;5;132;01m{\u001b[39;00mlabels[mask]\u001b[38;5;241m.\u001b[39mtolist()\u001b[38;5;132;01m}\u001b[39;00m\u001b[38;5;124m not found in axis\u001b[39m\u001b[38;5;124m\"\u001b[39m)\n\u001b[0;32m   7071\u001b[0m     indexer \u001b[38;5;241m=\u001b[39m indexer[\u001b[38;5;241m~\u001b[39mmask]\n\u001b[0;32m   7072\u001b[0m \u001b[38;5;28;01mreturn\u001b[39;00m \u001b[38;5;28mself\u001b[39m\u001b[38;5;241m.\u001b[39mdelete(indexer)\n",
      "\u001b[1;31mKeyError\u001b[0m: \"['Flow_ID', 'Src_IP', 'Src_Port', 'Dst_IP', 'Dst_Port', 'Protocol', 'Timestamp', 'Active_Min', 'Active_Max', 'Active_Std', 'Active_Mean', 'ECE_Flag_Cnt', 'Fwd_Byts/b_Avg', 'Fwd_Pkts/b_Avg', 'Fwd_Blk_Rate_Avg', 'Bwd_Byts/b_Avg', 'CWE_Flag_Count', 'Bwd_PSH_Flags', 'Bwd_URG_Flags'] not found in axis\""
     ]
    }
   ],
   "source": [
    "data.drop(columns=columns_to_delete, inplace=True)\n",
    "data.drop(columns=['Sub_Cat'], inplace=True)"
   ]
  },
  {
   "cell_type": "code",
   "execution_count": 14,
   "id": "959bf30b",
   "metadata": {},
   "outputs": [],
   "source": [
    "data.to_pickle('data/pickles/iot-intrusion.pkl.gzip', compression='gzip')"
   ]
  },
  {
   "cell_type": "code",
   "execution_count": 9,
   "id": "0c7144ad",
   "metadata": {},
   "outputs": [],
   "source": [
    "data.drop(columns=['Sub_Cat'], inplace=True)"
   ]
  },
  {
   "cell_type": "code",
   "execution_count": 11,
   "id": "d0ac2dcb",
   "metadata": {},
   "outputs": [],
   "source": [
    "data.to_csv('data/iot-intrusion_with_headers.csv', index=False)"
   ]
  },
  {
   "cell_type": "code",
   "execution_count": 17,
   "id": "10cdfc0c",
   "metadata": {},
   "outputs": [
    {
     "data": {
      "text/html": [
       "<div><style>\n",
       ".dataframe > thead > tr,\n",
       ".dataframe > tbody > tr {\n",
       "  text-align: right;\n",
       "  white-space: pre-wrap;\n",
       "}\n",
       "</style>\n",
       "<small>shape: (5, 66)</small><table border=\"1\" class=\"dataframe\"><thead><tr><th>Flow_Duration</th><th>Tot_Fwd_Pkts</th><th>Tot_Bwd_Pkts</th><th>TotLen_Fwd_Pkts</th><th>TotLen_Bwd_Pkts</th><th>Fwd_Pkt_Len_Max</th><th>Fwd_Pkt_Len_Min</th><th>Fwd_Pkt_Len_Mean</th><th>Fwd_Pkt_Len_Std</th><th>Bwd_Pkt_Len_Max</th><th>Bwd_Pkt_Len_Min</th><th>Bwd_Pkt_Len_Mean</th><th>Bwd_Pkt_Len_Std</th><th>Flow_Byts/s</th><th>Flow_Pkts/s</th><th>Flow_IAT_Mean</th><th>Flow_IAT_Std</th><th>Flow_IAT_Max</th><th>Flow_IAT_Min</th><th>Fwd_IAT_Tot</th><th>Fwd_IAT_Mean</th><th>Fwd_IAT_Std</th><th>Fwd_IAT_Max</th><th>Fwd_IAT_Min</th><th>Bwd_IAT_Tot</th><th>Bwd_IAT_Mean</th><th>Bwd_IAT_Std</th><th>Bwd_IAT_Max</th><th>Bwd_IAT_Min</th><th>Fwd_PSH_Flags</th><th>Fwd_URG_Flags</th><th>Fwd_Header_Len</th><th>Bwd_Header_Len</th><th>Fwd_Pkts/s</th><th>Bwd_Pkts/s</th><th>Pkt_Len_Min</th><th>Pkt_Len_Max</th><th>Pkt_Len_Mean</th><th>Pkt_Len_Std</th><th>Pkt_Len_Var</th><th>FIN_Flag_Cnt</th><th>SYN_Flag_Cnt</th><th>RST_Flag_Cnt</th><th>PSH_Flag_Cnt</th><th>ACK_Flag_Cnt</th><th>URG_Flag_Cnt</th><th>Down/Up_Ratio</th><th>Pkt_Size_Avg</th><th>Fwd_Seg_Size_Avg</th><th>Bwd_Seg_Size_Avg</th><th>Bwd_Pkts/b_Avg</th><th>Bwd_Blk_Rate_Avg</th><th>Subflow_Fwd_Pkts</th><th>Subflow_Fwd_Byts</th><th>Subflow_Bwd_Pkts</th><th>Subflow_Bwd_Byts</th><th>Init_Fwd_Win_Byts</th><th>Init_Bwd_Win_Byts</th><th>Fwd_Act_Data_Pkts</th><th>Fwd_Seg_Size_Min</th><th>Idle_Mean</th><th>Idle_Std</th><th>Idle_Max</th><th>Idle_Min</th><th>Label</th><th>Cat</th></tr><tr><td>i64</td><td>i64</td><td>i64</td><td>f64</td><td>f64</td><td>f64</td><td>f64</td><td>f64</td><td>f64</td><td>f64</td><td>f64</td><td>f64</td><td>f64</td><td>f64</td><td>f64</td><td>f64</td><td>f64</td><td>f64</td><td>f64</td><td>f64</td><td>f64</td><td>f64</td><td>f64</td><td>f64</td><td>f64</td><td>f64</td><td>f64</td><td>f64</td><td>f64</td><td>i64</td><td>i64</td><td>i64</td><td>i64</td><td>f64</td><td>f64</td><td>f64</td><td>f64</td><td>f64</td><td>f64</td><td>f64</td><td>i64</td><td>i64</td><td>i64</td><td>i64</td><td>i64</td><td>i64</td><td>f64</td><td>f64</td><td>f64</td><td>f64</td><td>i64</td><td>i64</td><td>i64</td><td>i64</td><td>i64</td><td>i64</td><td>i64</td><td>i64</td><td>i64</td><td>i64</td><td>f64</td><td>f64</td><td>f64</td><td>f64</td><td>str</td><td>str</td></tr></thead><tbody><tr><td>75</td><td>1</td><td>1</td><td>982.0</td><td>1430.0</td><td>982.0</td><td>982.0</td><td>982.0</td><td>0.0</td><td>1430.0</td><td>1430.0</td><td>1430.0</td><td>0.0</td><td>3.2160e7</td><td>26666.666667</td><td>75.0</td><td>0.0</td><td>75.0</td><td>75.0</td><td>0.0</td><td>0.0</td><td>0.0</td><td>0.0</td><td>0.0</td><td>0.0</td><td>0.0</td><td>0.0</td><td>0.0</td><td>0.0</td><td>0</td><td>0</td><td>8</td><td>8</td><td>13333.333333</td><td>13333.333333</td><td>982.0</td><td>1430.0</td><td>1280.666667</td><td>258.652921</td><td>66901.333333</td><td>0</td><td>0</td><td>0</td><td>0</td><td>0</td><td>0</td><td>1.0</td><td>1921.0</td><td>982.0</td><td>1430.0</td><td>0</td><td>0</td><td>1</td><td>982</td><td>1</td><td>1430</td><td>-1</td><td>-1</td><td>1</td><td>0</td><td>75.0</td><td>0.0</td><td>75.0</td><td>75.0</td><td>&quot;Anomaly&quot;</td><td>&quot;Mirai&quot;</td></tr><tr><td>5310</td><td>1</td><td>2</td><td>0.0</td><td>0.0</td><td>0.0</td><td>0.0</td><td>0.0</td><td>0.0</td><td>0.0</td><td>0.0</td><td>0.0</td><td>0.0</td><td>0.0</td><td>564.971751</td><td>2655.0</td><td>2261.327486</td><td>4254.0</td><td>1056.0</td><td>0.0</td><td>0.0</td><td>0.0</td><td>0.0</td><td>0.0</td><td>5310.0</td><td>5310.0</td><td>0.0</td><td>5310.0</td><td>5310.0</td><td>0</td><td>0</td><td>20</td><td>44</td><td>188.323917</td><td>376.647834</td><td>0.0</td><td>0.0</td><td>0.0</td><td>0.0</td><td>0.0</td><td>0</td><td>1</td><td>0</td><td>0</td><td>0</td><td>0</td><td>2.0</td><td>0.0</td><td>0.0</td><td>0.0</td><td>0</td><td>0</td><td>1</td><td>0</td><td>2</td><td>0</td><td>-1</td><td>14600</td><td>0</td><td>0</td><td>2655.0</td><td>2261.327486</td><td>4254.0</td><td>1056.0</td><td>&quot;Anomaly&quot;</td><td>&quot;DoS&quot;</td></tr><tr><td>141</td><td>0</td><td>3</td><td>0.0</td><td>2806.0</td><td>0.0</td><td>0.0</td><td>0.0</td><td>0.0</td><td>1388.0</td><td>30.0</td><td>935.333333</td><td>784.041666</td><td>1.9901e7</td><td>21276.595745</td><td>70.5</td><td>0.707107</td><td>71.0</td><td>70.0</td><td>0.0</td><td>0.0</td><td>0.0</td><td>0.0</td><td>0.0</td><td>141.0</td><td>70.5</td><td>0.707107</td><td>71.0</td><td>70.0</td><td>0</td><td>0</td><td>0</td><td>96</td><td>0.0</td><td>21276.595745</td><td>30.0</td><td>1388.0</td><td>1048.5</td><td>679.0</td><td>461041.0</td><td>0</td><td>0</td><td>0</td><td>0</td><td>1</td><td>0</td><td>0.0</td><td>1398.0</td><td>0.0</td><td>935.333333</td><td>0</td><td>0</td><td>0</td><td>0</td><td>3</td><td>2806</td><td>-1</td><td>1869</td><td>0</td><td>0</td><td>70.5</td><td>0.707107</td><td>71.0</td><td>70.0</td><td>&quot;Anomaly&quot;</td><td>&quot;Scan&quot;</td></tr><tr><td>151</td><td>0</td><td>2</td><td>0.0</td><td>2776.0</td><td>0.0</td><td>0.0</td><td>0.0</td><td>0.0</td><td>1388.0</td><td>1388.0</td><td>1388.0</td><td>0.0</td><td>1.8384e7</td><td>13245.033113</td><td>151.0</td><td>0.0</td><td>151.0</td><td>151.0</td><td>0.0</td><td>0.0</td><td>0.0</td><td>0.0</td><td>0.0</td><td>151.0</td><td>151.0</td><td>0.0</td><td>151.0</td><td>151.0</td><td>0</td><td>0</td><td>0</td><td>64</td><td>0.0</td><td>13245.033113</td><td>1388.0</td><td>1388.0</td><td>1388.0</td><td>0.0</td><td>0.0</td><td>0</td><td>0</td><td>0</td><td>0</td><td>1</td><td>0</td><td>0.0</td><td>2082.0</td><td>0.0</td><td>1388.0</td><td>0</td><td>0</td><td>0</td><td>0</td><td>2</td><td>2776</td><td>-1</td><td>1869</td><td>0</td><td>0</td><td>151.0</td><td>0.0</td><td>151.0</td><td>151.0</td><td>&quot;Anomaly&quot;</td><td>&quot;Mirai&quot;</td></tr><tr><td>153</td><td>2</td><td>1</td><td>886.0</td><td>420.0</td><td>452.0</td><td>434.0</td><td>443.0</td><td>12.727922</td><td>420.0</td><td>420.0</td><td>420.0</td><td>0.0</td><td>8.5359e6</td><td>19607.843137</td><td>76.5</td><td>0.707107</td><td>77.0</td><td>76.0</td><td>76.0</td><td>76.0</td><td>0.0</td><td>76.0</td><td>76.0</td><td>0.0</td><td>0.0</td><td>0.0</td><td>0.0</td><td>0.0</td><td>0</td><td>0</td><td>16</td><td>8</td><td>13071.895425</td><td>6535.947712</td><td>420.0</td><td>452.0</td><td>431.5</td><td>15.176737</td><td>230.333333</td><td>0</td><td>0</td><td>0</td><td>0</td><td>0</td><td>0</td><td>0.0</td><td>575.333333</td><td>443.0</td><td>420.0</td><td>0</td><td>0</td><td>2</td><td>886</td><td>1</td><td>420</td><td>-1</td><td>-1</td><td>2</td><td>0</td><td>76.5</td><td>0.707107</td><td>77.0</td><td>76.0</td><td>&quot;Anomaly&quot;</td><td>&quot;Mirai&quot;</td></tr></tbody></table></div>"
      ],
      "text/plain": [
       "shape: (5, 66)\n",
       "┌─────────────┬─────────────┬─────────────┬────────────┬───┬──────────┬──────────┬─────────┬───────┐\n",
       "│ Flow_Durati ┆ Tot_Fwd_Pkt ┆ Tot_Bwd_Pkt ┆ TotLen_Fwd ┆ … ┆ Idle_Max ┆ Idle_Min ┆ Label   ┆ Cat   │\n",
       "│ on          ┆ s           ┆ s           ┆ _Pkts      ┆   ┆ ---      ┆ ---      ┆ ---     ┆ ---   │\n",
       "│ ---         ┆ ---         ┆ ---         ┆ ---        ┆   ┆ f64      ┆ f64      ┆ str     ┆ str   │\n",
       "│ i64         ┆ i64         ┆ i64         ┆ f64        ┆   ┆          ┆          ┆         ┆       │\n",
       "╞═════════════╪═════════════╪═════════════╪════════════╪═══╪══════════╪══════════╪═════════╪═══════╡\n",
       "│ 75          ┆ 1           ┆ 1           ┆ 982.0      ┆ … ┆ 75.0     ┆ 75.0     ┆ Anomaly ┆ Mirai │\n",
       "│ 5310        ┆ 1           ┆ 2           ┆ 0.0        ┆ … ┆ 4254.0   ┆ 1056.0   ┆ Anomaly ┆ DoS   │\n",
       "│ 141         ┆ 0           ┆ 3           ┆ 0.0        ┆ … ┆ 71.0     ┆ 70.0     ┆ Anomaly ┆ Scan  │\n",
       "│ 151         ┆ 0           ┆ 2           ┆ 0.0        ┆ … ┆ 151.0    ┆ 151.0    ┆ Anomaly ┆ Mirai │\n",
       "│ 153         ┆ 2           ┆ 1           ┆ 886.0      ┆ … ┆ 77.0     ┆ 76.0     ┆ Anomaly ┆ Mirai │\n",
       "└─────────────┴─────────────┴─────────────┴────────────┴───┴──────────┴──────────┴─────────┴───────┘"
      ]
     },
     "execution_count": 17,
     "metadata": {},
     "output_type": "execute_result"
    }
   ],
   "source": [
    "import polars as pl\n",
    "\n",
    "df = pl.read_csv('data/iot-intrusion_with_headers.csv')\n",
    "\n",
    "df.head()"
   ]
  },
  {
   "cell_type": "code",
   "execution_count": 18,
   "id": "6e57e780",
   "metadata": {},
   "outputs": [],
   "source": [
    "df = df.filter((~pl.col(\"Flow_Byts/s\").is_infinite()) & (~pl.col(\"Flow_Byts/s\").is_infinite()))"
   ]
  },
  {
   "cell_type": "code",
   "execution_count": 22,
   "id": "f894d714",
   "metadata": {},
   "outputs": [],
   "source": [
    "df.write_csv('data/iot-intrusion_with_headers.csv')"
   ]
  },
  {
   "cell_type": "code",
   "execution_count": 11,
   "id": "0c5256b4",
   "metadata": {},
   "outputs": [
    {
     "data": {
      "text/html": [
       "<div>\n",
       "<style scoped>\n",
       "    .dataframe tbody tr th:only-of-type {\n",
       "        vertical-align: middle;\n",
       "    }\n",
       "\n",
       "    .dataframe tbody tr th {\n",
       "        vertical-align: top;\n",
       "    }\n",
       "\n",
       "    .dataframe thead th {\n",
       "        text-align: right;\n",
       "    }\n",
       "</style>\n",
       "<table border=\"1\" class=\"dataframe\">\n",
       "  <thead>\n",
       "    <tr style=\"text-align: right;\">\n",
       "      <th></th>\n",
       "      <th>Flow_Duration</th>\n",
       "      <th>Tot_Fwd_Pkts</th>\n",
       "      <th>Tot_Bwd_Pkts</th>\n",
       "      <th>TotLen_Fwd_Pkts</th>\n",
       "      <th>TotLen_Bwd_Pkts</th>\n",
       "      <th>Fwd_Pkt_Len_Max</th>\n",
       "      <th>Fwd_Pkt_Len_Min</th>\n",
       "      <th>Fwd_Pkt_Len_Mean</th>\n",
       "      <th>Fwd_Pkt_Len_Std</th>\n",
       "      <th>Bwd_Pkt_Len_Max</th>\n",
       "      <th>...</th>\n",
       "      <th>Init_Fwd_Win_Byts</th>\n",
       "      <th>Init_Bwd_Win_Byts</th>\n",
       "      <th>Fwd_Act_Data_Pkts</th>\n",
       "      <th>Fwd_Seg_Size_Min</th>\n",
       "      <th>Idle_Mean</th>\n",
       "      <th>Idle_Std</th>\n",
       "      <th>Idle_Max</th>\n",
       "      <th>Idle_Min</th>\n",
       "      <th>Label</th>\n",
       "      <th>Cat</th>\n",
       "    </tr>\n",
       "  </thead>\n",
       "  <tbody>\n",
       "    <tr>\n",
       "      <th>0</th>\n",
       "      <td>75</td>\n",
       "      <td>1</td>\n",
       "      <td>1</td>\n",
       "      <td>982.0</td>\n",
       "      <td>1430.0</td>\n",
       "      <td>982.0</td>\n",
       "      <td>982.0</td>\n",
       "      <td>982.0</td>\n",
       "      <td>0.000000</td>\n",
       "      <td>1430.0</td>\n",
       "      <td>...</td>\n",
       "      <td>-1</td>\n",
       "      <td>-1</td>\n",
       "      <td>1</td>\n",
       "      <td>0</td>\n",
       "      <td>75.0</td>\n",
       "      <td>0.000000</td>\n",
       "      <td>75.0</td>\n",
       "      <td>75.0</td>\n",
       "      <td>Anomaly</td>\n",
       "      <td>Mirai</td>\n",
       "    </tr>\n",
       "    <tr>\n",
       "      <th>1</th>\n",
       "      <td>5310</td>\n",
       "      <td>1</td>\n",
       "      <td>2</td>\n",
       "      <td>0.0</td>\n",
       "      <td>0.0</td>\n",
       "      <td>0.0</td>\n",
       "      <td>0.0</td>\n",
       "      <td>0.0</td>\n",
       "      <td>0.000000</td>\n",
       "      <td>0.0</td>\n",
       "      <td>...</td>\n",
       "      <td>-1</td>\n",
       "      <td>14600</td>\n",
       "      <td>0</td>\n",
       "      <td>0</td>\n",
       "      <td>2655.0</td>\n",
       "      <td>2261.327486</td>\n",
       "      <td>4254.0</td>\n",
       "      <td>1056.0</td>\n",
       "      <td>Anomaly</td>\n",
       "      <td>DoS</td>\n",
       "    </tr>\n",
       "    <tr>\n",
       "      <th>2</th>\n",
       "      <td>141</td>\n",
       "      <td>0</td>\n",
       "      <td>3</td>\n",
       "      <td>0.0</td>\n",
       "      <td>2806.0</td>\n",
       "      <td>0.0</td>\n",
       "      <td>0.0</td>\n",
       "      <td>0.0</td>\n",
       "      <td>0.000000</td>\n",
       "      <td>1388.0</td>\n",
       "      <td>...</td>\n",
       "      <td>-1</td>\n",
       "      <td>1869</td>\n",
       "      <td>0</td>\n",
       "      <td>0</td>\n",
       "      <td>70.5</td>\n",
       "      <td>0.707107</td>\n",
       "      <td>71.0</td>\n",
       "      <td>70.0</td>\n",
       "      <td>Anomaly</td>\n",
       "      <td>Scan</td>\n",
       "    </tr>\n",
       "    <tr>\n",
       "      <th>3</th>\n",
       "      <td>151</td>\n",
       "      <td>0</td>\n",
       "      <td>2</td>\n",
       "      <td>0.0</td>\n",
       "      <td>2776.0</td>\n",
       "      <td>0.0</td>\n",
       "      <td>0.0</td>\n",
       "      <td>0.0</td>\n",
       "      <td>0.000000</td>\n",
       "      <td>1388.0</td>\n",
       "      <td>...</td>\n",
       "      <td>-1</td>\n",
       "      <td>1869</td>\n",
       "      <td>0</td>\n",
       "      <td>0</td>\n",
       "      <td>151.0</td>\n",
       "      <td>0.000000</td>\n",
       "      <td>151.0</td>\n",
       "      <td>151.0</td>\n",
       "      <td>Anomaly</td>\n",
       "      <td>Mirai</td>\n",
       "    </tr>\n",
       "    <tr>\n",
       "      <th>4</th>\n",
       "      <td>153</td>\n",
       "      <td>2</td>\n",
       "      <td>1</td>\n",
       "      <td>886.0</td>\n",
       "      <td>420.0</td>\n",
       "      <td>452.0</td>\n",
       "      <td>434.0</td>\n",
       "      <td>443.0</td>\n",
       "      <td>12.727922</td>\n",
       "      <td>420.0</td>\n",
       "      <td>...</td>\n",
       "      <td>-1</td>\n",
       "      <td>-1</td>\n",
       "      <td>2</td>\n",
       "      <td>0</td>\n",
       "      <td>76.5</td>\n",
       "      <td>0.707107</td>\n",
       "      <td>77.0</td>\n",
       "      <td>76.0</td>\n",
       "      <td>Anomaly</td>\n",
       "      <td>Mirai</td>\n",
       "    </tr>\n",
       "  </tbody>\n",
       "</table>\n",
       "<p>5 rows × 66 columns</p>\n",
       "</div>"
      ],
      "text/plain": [
       "   Flow_Duration  Tot_Fwd_Pkts  Tot_Bwd_Pkts  TotLen_Fwd_Pkts  \\\n",
       "0             75             1             1            982.0   \n",
       "1           5310             1             2              0.0   \n",
       "2            141             0             3              0.0   \n",
       "3            151             0             2              0.0   \n",
       "4            153             2             1            886.0   \n",
       "\n",
       "   TotLen_Bwd_Pkts  Fwd_Pkt_Len_Max  Fwd_Pkt_Len_Min  Fwd_Pkt_Len_Mean  \\\n",
       "0           1430.0            982.0            982.0             982.0   \n",
       "1              0.0              0.0              0.0               0.0   \n",
       "2           2806.0              0.0              0.0               0.0   \n",
       "3           2776.0              0.0              0.0               0.0   \n",
       "4            420.0            452.0            434.0             443.0   \n",
       "\n",
       "   Fwd_Pkt_Len_Std  Bwd_Pkt_Len_Max  ...  Init_Fwd_Win_Byts  \\\n",
       "0         0.000000           1430.0  ...                 -1   \n",
       "1         0.000000              0.0  ...                 -1   \n",
       "2         0.000000           1388.0  ...                 -1   \n",
       "3         0.000000           1388.0  ...                 -1   \n",
       "4        12.727922            420.0  ...                 -1   \n",
       "\n",
       "   Init_Bwd_Win_Byts  Fwd_Act_Data_Pkts  Fwd_Seg_Size_Min  Idle_Mean  \\\n",
       "0                 -1                  1                 0       75.0   \n",
       "1              14600                  0                 0     2655.0   \n",
       "2               1869                  0                 0       70.5   \n",
       "3               1869                  0                 0      151.0   \n",
       "4                 -1                  2                 0       76.5   \n",
       "\n",
       "      Idle_Std  Idle_Max  Idle_Min    Label    Cat  \n",
       "0     0.000000      75.0      75.0  Anomaly  Mirai  \n",
       "1  2261.327486    4254.0    1056.0  Anomaly    DoS  \n",
       "2     0.707107      71.0      70.0  Anomaly   Scan  \n",
       "3     0.000000     151.0     151.0  Anomaly  Mirai  \n",
       "4     0.707107      77.0      76.0  Anomaly  Mirai  \n",
       "\n",
       "[5 rows x 66 columns]"
      ]
     },
     "execution_count": 11,
     "metadata": {},
     "output_type": "execute_result"
    }
   ],
   "source": [
    "intru = pd.read_pickle('data/pickles/iot-intrusion.pkl.gzip', compression='gzip')\n",
    "intru.head()"
   ]
  },
  {
   "cell_type": "code",
   "execution_count": 13,
   "id": "d2c99750",
   "metadata": {},
   "outputs": [],
   "source": [
    "import numpy as np"
   ]
  },
  {
   "cell_type": "code",
   "execution_count": 16,
   "id": "441f270c",
   "metadata": {},
   "outputs": [
    {
     "name": "stdout",
     "output_type": "stream",
     "text": [
      "625783 368\n"
     ]
    },
    {
     "data": {
      "text/plain": [
       "Flow_Byts/s     0.000000\n",
       "Flow_Pkts/s    20.005401\n",
       "dtype: float64"
      ]
     },
     "execution_count": 16,
     "metadata": {},
     "output_type": "execute_result"
    }
   ],
   "source": [
    "sickcols = intru[['Flow_Byts/s', 'Flow_Pkts/s']]\n",
    "print(len(sickcols), len(sickcols[sickcols['Flow_Pkts/s'] == np.inf]))\n",
    "sickcols.apply(min)"
   ]
  },
  {
   "cell_type": "code",
   "execution_count": 10,
   "id": "7f1d1ad1",
   "metadata": {},
   "outputs": [],
   "source": [
    "intru.drop(columns=['Sub_Cat'], inplace=True)\n",
    "intru.to_pickle('data/pickles/iot-intrusion.pkl.gzip', compression='gzip')"
   ]
  },
  {
   "cell_type": "code",
   "execution_count": 6,
   "id": "30c54e24",
   "metadata": {},
   "outputs": [
    {
     "data": {
      "text/plain": [
       "array(['Mirai', 'DoS', 'Scan', 'Normal', 'MITM ARP Spoofing'],\n",
       "      dtype=object)"
      ]
     },
     "execution_count": 6,
     "metadata": {},
     "output_type": "execute_result"
    }
   ],
   "source": [
    "intru['Cat'].unique()"
   ]
  },
  {
   "cell_type": "markdown",
   "id": "17b84aed",
   "metadata": {},
   "source": [
    "# IOT-23"
   ]
  },
  {
   "cell_type": "code",
   "execution_count": 2,
   "id": "a4265ded",
   "metadata": {},
   "outputs": [
    {
     "data": {
      "text/plain": [
       "['Attack.csv',\n",
       " 'C&C.csv',\n",
       " 'DDoS[1].csv',\n",
       " 'DDoS[2].csv',\n",
       " 'FileDownload.csv',\n",
       " 'HeartBeat.csv',\n",
       " 'Mirai.csv',\n",
       " 'Normal-001.csv',\n",
       " 'Okiru[1].csv',\n",
       " 'Okiru[2].csv',\n",
       " 'PortScan2.csv',\n",
       " 'PortScan[1].csv',\n",
       " 'Torii.csv']"
      ]
     },
     "execution_count": 2,
     "metadata": {},
     "output_type": "execute_result"
    }
   ],
   "source": [
    "import os\n",
    "files = os.listdir('data/IoT-23')\n",
    "files"
   ]
  },
  {
   "cell_type": "code",
   "execution_count": 17,
   "id": "1dce7bec",
   "metadata": {},
   "outputs": [],
   "source": [
    "iot23 = pl.read_csv('data/IoT-23/Mirai.csv')"
   ]
  },
  {
   "cell_type": "code",
   "execution_count": 26,
   "id": "a7550233",
   "metadata": {},
   "outputs": [
    {
     "data": {
      "text/html": [
       "<div><style>\n",
       ".dataframe > thead > tr,\n",
       ".dataframe > tbody > tr {\n",
       "  text-align: right;\n",
       "  white-space: pre-wrap;\n",
       "}\n",
       "</style>\n",
       "<small>shape: (5, 66)</small><table border=\"1\" class=\"dataframe\"><thead><tr><th>Flow_Duration</th><th>Tot_Fwd_Pkts</th><th>Tot_Bwd_Pkts</th><th>TotLen_Fwd_Pkts</th><th>TotLen_Bwd_Pkts</th><th>Fwd_Pkt_Len_Max</th><th>Fwd_Pkt_Len_Min</th><th>Fwd_Pkt_Len_Mean</th><th>Fwd_Pkt_Len_Std</th><th>Bwd_Pkt_Len_Max</th><th>Bwd_Pkt_Len_Min</th><th>Bwd_Pkt_Len_Mean</th><th>Bwd_Pkt_Len_Std</th><th>Flow_Byts/s</th><th>Flow_Pkts/s</th><th>Flow_IAT_Mean</th><th>Flow_IAT_Std</th><th>Flow_IAT_Max</th><th>Flow_IAT_Min</th><th>Fwd_IAT_Tot</th><th>Fwd_IAT_Mean</th><th>Bwd_IAT_Mean</th><th>Fwd_IAT_Max</th><th>Fwd_IAT_Min</th><th>Bwd_IAT_Tot</th><th>Bwd_IAT_Mean.1</th><th>Bwd_IAT_Std</th><th>Bwd_IAT_Max</th><th>Bwd_IAT_Min</th><th>Fwd_PSH_Flags</th><th>Fwd_URG_Flags</th><th>Fwd_Header_Len</th><th>Bwd_Header_Len</th><th>Fwd_Pkts/s</th><th>Bwd_Pkts/s</th><th>Pkt_Len_Min</th><th>Pkt_Len_Max</th><th>Pkt_Len_Mean</th><th>Pkt_Len_Std</th><th>Pkt_Len_Var</th><th>FIN_Flag_Cnt</th><th>SYN_Flag_Cnt</th><th>RST_Flag_Cnt</th><th>PSH_Flag_Cnt</th><th>ACK_Flag_Cnt</th><th>URG_Flag_Cnt</th><th>Down/Up_Ratio</th><th>Pkt_Size_Avg</th><th>Fwd_Seg_Size_Avg</th><th>Bwd_Seg_Size_Avg</th><th>Bwd_Pkts/b_Avg</th><th>Bwd_Blk_Rate_Avg</th><th>Subflow_Fwd_Pkts</th><th>Subflow_Fwd_Byts</th><th>Subflow_Bwd_Pkts</th><th>Subflow_Bwd_Byts</th><th>Init_Fwd_Win_Byts</th><th>Init_Bwd_Win_Byts</th><th>Fwd_Act_Data_Pkts</th><th>Fwd_Seg_Size_Min</th><th>Idle_Mean</th><th>Idle_Std</th><th>Idle_Max</th><th>Idle_Min</th><th>Label</th><th>Cat</th></tr><tr><td>i64</td><td>i64</td><td>i64</td><td>f64</td><td>f64</td><td>f64</td><td>f64</td><td>f64</td><td>f64</td><td>f64</td><td>f64</td><td>f64</td><td>f64</td><td>f64</td><td>f64</td><td>f64</td><td>f64</td><td>f64</td><td>f64</td><td>f64</td><td>f64</td><td>f64</td><td>f64</td><td>f64</td><td>f64</td><td>f64</td><td>f64</td><td>f64</td><td>f64</td><td>i64</td><td>i64</td><td>i64</td><td>i64</td><td>f64</td><td>f64</td><td>f64</td><td>f64</td><td>f64</td><td>f64</td><td>f64</td><td>i64</td><td>i64</td><td>i64</td><td>i64</td><td>i64</td><td>i64</td><td>f64</td><td>f64</td><td>f64</td><td>f64</td><td>i64</td><td>i64</td><td>i64</td><td>i64</td><td>i64</td><td>i64</td><td>i64</td><td>i64</td><td>i64</td><td>i64</td><td>f64</td><td>f64</td><td>f64</td><td>f64</td><td>str</td><td>str</td></tr></thead><tbody><tr><td>70117486</td><td>16</td><td>12</td><td>30.0</td><td>8.0</td><td>7.0</td><td>0.0</td><td>1.875</td><td>2.446085</td><td>2.0</td><td>0.0</td><td>0.666667</td><td>0.984732</td><td>0.541948</td><td>0.39933</td><td>2.5969e6</td><td>1.1643e7</td><td>6.0060465e7</td><td>2.0</td><td>7.0117486e7</td><td>4.6745e6</td><td>1.5537e7</td><td>6.0060465e7</td><td>5.0</td><td>7.0102246e7</td><td>6.3729e6</td><td>1.8062e7</td><td>6.0076702e7</td><td>2.0</td><td>0</td><td>0</td><td>528</td><td>400</td><td>0.228188</td><td>0.171141</td><td>0.0</td><td>7.0</td><td>1.310345</td><td>2.001846</td><td>4.007389</td><td>0</td><td>4</td><td>0</td><td>12</td><td>26</td><td>0</td><td>0.0</td><td>1.357143</td><td>1.875</td><td>0.666667</td><td>4</td><td>830</td><td>0</td><td>1</td><td>0</td><td>0</td><td>29200</td><td>114</td><td>8</td><td>32</td><td>1.5520e15</td><td>2.7007e7</td><td>1.5520e15</td><td>1.5520e15</td><td>&quot;Anomaly&quot;</td><td>&quot;Mirai&quot;</td></tr><tr><td>60092710</td><td>8</td><td>4</td><td>8.0</td><td>8.0</td><td>2.0</td><td>0.0</td><td>1.0</td><td>1.069045</td><td>2.0</td><td>2.0</td><td>2.0</td><td>0.0</td><td>0.266255</td><td>0.199691</td><td>5.4630e6</td><td>1.8108e7</td><td>6.0060472e7</td><td>6.0</td><td>6.009271e7</td><td>8.5847e6</td><td>2.2699e7</td><td>6.0060472e7</td><td>6.0</td><td>6.0076471e7</td><td>2.0025e7</td><td>3.4685e7</td><td>6.0076459e7</td><td>6.0</td><td>1</td><td>0</td><td>256</td><td>128</td><td>0.133128</td><td>0.066564</td><td>0.0</td><td>2.0</td><td>1.384615</td><td>0.960769</td><td>0.923077</td><td>0</td><td>0</td><td>0</td><td>8</td><td>12</td><td>0</td><td>0.0</td><td>1.5</td><td>1.0</td><td>2.0</td><td>4</td><td>504</td><td>0</td><td>0</td><td>0</td><td>0</td><td>229</td><td>114</td><td>3</td><td>32</td><td>1.5520e15</td><td>3.1661e7</td><td>1.5520e15</td><td>1.5520e15</td><td>&quot;Anomaly&quot;</td><td>&quot;Mirai&quot;</td></tr><tr><td>60083969</td><td>8</td><td>4</td><td>8.0</td><td>8.0</td><td>2.0</td><td>0.0</td><td>1.0</td><td>1.069045</td><td>2.0</td><td>2.0</td><td>2.0</td><td>0.0</td><td>0.266294</td><td>0.19972</td><td>5.462179e6</td><td>1.8105e7</td><td>6.0052247e7</td><td>5.0</td><td>6.0083969e7</td><td>8.5834e6</td><td>2.2696e7</td><td>6.0052247e7</td><td>5.0</td><td>6.0068736e7</td><td>2.0022912e7</td><td>3.4681e7</td><td>6.0068721e7</td><td>6.0</td><td>1</td><td>0</td><td>256</td><td>128</td><td>0.133147</td><td>0.066573</td><td>0.0</td><td>2.0</td><td>1.384615</td><td>0.960769</td><td>0.923077</td><td>0</td><td>0</td><td>0</td><td>8</td><td>12</td><td>0</td><td>0.0</td><td>1.5</td><td>1.0</td><td>2.0</td><td>4</td><td>512</td><td>0</td><td>0</td><td>0</td><td>0</td><td>229</td><td>114</td><td>3</td><td>32</td><td>1.5520e15</td><td>3.1657e7</td><td>1.5520e15</td><td>1.5520e15</td><td>&quot;Anomaly&quot;</td><td>&quot;Mirai&quot;</td></tr><tr><td>15737</td><td>4</td><td>2</td><td>4.0</td><td>4.0</td><td>2.0</td><td>0.0</td><td>1.0</td><td>1.154701</td><td>2.0</td><td>2.0</td><td>2.0</td><td>0.0</td><td>508.356103</td><td>381.267078</td><td>3147.4</td><td>6890.969475</td><td>15473.0</td><td>5.0</td><td>15737.0</td><td>5245.666667</td><td>9071.039099</td><td>15720.0</td><td>6.0</td><td>5.0</td><td>5.0</td><td>0.0</td><td>5.0</td><td>5.0</td><td>1</td><td>0</td><td>128</td><td>64</td><td>254.178052</td><td>127.089026</td><td>0.0</td><td>2.0</td><td>1.428571</td><td>0.9759</td><td>0.952381</td><td>0</td><td>0</td><td>0</td><td>4</td><td>6</td><td>0</td><td>0.0</td><td>1.666667</td><td>1.0</td><td>2.0</td><td>4</td><td>516</td><td>0</td><td>0</td><td>0</td><td>0</td><td>229</td><td>114</td><td>1</td><td>32</td><td>1.5520e15</td><td>7775.175475</td><td>1.5520e15</td><td>1.5520e15</td><td>&quot;Anomaly&quot;</td><td>&quot;Mirai&quot;</td></tr><tr><td>329079</td><td>18</td><td>12</td><td>30.0</td><td>122.0</td><td>7.0</td><td>0.0</td><td>1.666667</td><td>2.566756</td><td>44.0</td><td>0.0</td><td>10.166667</td><td>16.297425</td><td>461.895168</td><td>91.16352</td><td>11347.551724</td><td>46909.314785</td><td>250353.0</td><td>2.0</td><td>329079.0</td><td>19357.588235</td><td>60737.546997</td><td>250353.0</td><td>2.0</td><td>281358.0</td><td>25578.0</td><td>79743.73055</td><td>265593.0</td><td>2.0</td><td>0</td><td>0</td><td>616</td><td>424</td><td>54.698112</td><td>36.465408</td><td>0.0</td><td>44.0</td><td>4.903226</td><td>10.922011</td><td>119.290323</td><td>0</td><td>4</td><td>2</td><td>12</td><td>28</td><td>0</td><td>0.0</td><td>5.066667</td><td>1.666667</td><td>10.166667</td><td>12</td><td>541</td><td>0</td><td>1</td><td>0</td><td>4</td><td>29200</td><td>114</td><td>6</td><td>32</td><td>1.5520e15</td><td>125041.078748</td><td>1.5520e15</td><td>1.5520e15</td><td>&quot;Anomaly&quot;</td><td>&quot;Mirai&quot;</td></tr></tbody></table></div>"
      ],
      "text/plain": [
       "shape: (5, 66)\n",
       "┌─────────────┬────────────┬────────────┬────────────┬───┬───────────┬───────────┬─────────┬───────┐\n",
       "│ Flow_Durati ┆ Tot_Fwd_Pk ┆ Tot_Bwd_Pk ┆ TotLen_Fwd ┆ … ┆ Idle_Max  ┆ Idle_Min  ┆ Label   ┆ Cat   │\n",
       "│ on          ┆ ts         ┆ ts         ┆ _Pkts      ┆   ┆ ---       ┆ ---       ┆ ---     ┆ ---   │\n",
       "│ ---         ┆ ---        ┆ ---        ┆ ---        ┆   ┆ f64       ┆ f64       ┆ str     ┆ str   │\n",
       "│ i64         ┆ i64        ┆ i64        ┆ f64        ┆   ┆           ┆           ┆         ┆       │\n",
       "╞═════════════╪════════════╪════════════╪════════════╪═══╪═══════════╪═══════════╪═════════╪═══════╡\n",
       "│ 70117486    ┆ 16         ┆ 12         ┆ 30.0       ┆ … ┆ 1.5520e15 ┆ 1.5520e15 ┆ Anomaly ┆ Mirai │\n",
       "│ 60092710    ┆ 8          ┆ 4          ┆ 8.0        ┆ … ┆ 1.5520e15 ┆ 1.5520e15 ┆ Anomaly ┆ Mirai │\n",
       "│ 60083969    ┆ 8          ┆ 4          ┆ 8.0        ┆ … ┆ 1.5520e15 ┆ 1.5520e15 ┆ Anomaly ┆ Mirai │\n",
       "│ 15737       ┆ 4          ┆ 2          ┆ 4.0        ┆ … ┆ 1.5520e15 ┆ 1.5520e15 ┆ Anomaly ┆ Mirai │\n",
       "│ 329079      ┆ 18         ┆ 12         ┆ 30.0       ┆ … ┆ 1.5520e15 ┆ 1.5520e15 ┆ Anomaly ┆ Mirai │\n",
       "└─────────────┴────────────┴────────────┴────────────┴───┴───────────┴───────────┴─────────┴───────┘"
      ]
     },
     "execution_count": 26,
     "metadata": {},
     "output_type": "execute_result"
    }
   ],
   "source": [
    "iot23.head()\n"
   ]
  },
  {
   "cell_type": "code",
   "execution_count": 19,
   "id": "efea1433",
   "metadata": {},
   "outputs": [],
   "source": [
    "iot23 = iot23.drop(columns_to_delete)"
   ]
  },
  {
   "cell_type": "code",
   "execution_count": 20,
   "id": "b6e21769",
   "metadata": {},
   "outputs": [],
   "source": [
    "for ds in ['FileDownload.csv', 'HeartBeat.csv', 'Torii.csv','C&C.csv']:\n",
    "    df = pl.read_csv(f'data/IoT-23/{ds}')\n",
    "    df = df.drop(columns_to_delete)\n",
    "    iot23 = pl.concat([iot23, df], how=\"vertical_relaxed\")\n",
    "    del(df)"
   ]
  },
  {
   "cell_type": "code",
   "execution_count": 21,
   "id": "81e7c7ef",
   "metadata": {},
   "outputs": [],
   "source": [
    "for ds in ['PortScan1.csv', 'Normal-001.csv', 'Okiru1.csv','Attack.csv', 'DDoS1.csv']:\n",
    "    df = pl.read_csv(f'data/IoT-23/{ds}', n_rows=500000)\n",
    "    df = df.drop(columns_to_delete)\n",
    "    iot23 = pl.concat([iot23, df], how=\"vertical_relaxed\")\n",
    "    del(df)"
   ]
  },
  {
   "cell_type": "code",
   "execution_count": 25,
   "id": "c179137c",
   "metadata": {},
   "outputs": [],
   "source": [
    "iot23 = iot23.rename({'Sub_Cat': 'Cat'})"
   ]
  },
  {
   "cell_type": "code",
   "execution_count": 31,
   "id": "4ee179d1",
   "metadata": {},
   "outputs": [],
   "source": [
    "for name, col in zip(iot23.columns[:-2], iot23[:-2]):\n",
    "    if col.is_infinite().any():\n",
    "        print(name)\n",
    "        print(col.is_infinite().sum())\n"
   ]
  },
  {
   "cell_type": "code",
   "execution_count": 29,
   "id": "b151a42c",
   "metadata": {},
   "outputs": [],
   "source": [
    "iot23 = iot23.filter((~pl.col(\"Flow_Pkts/s\").is_infinite()) & (~pl.col(\"Flow_Byts/s\").is_infinite()))"
   ]
  },
  {
   "cell_type": "code",
   "execution_count": 30,
   "id": "3f0598d8",
   "metadata": {},
   "outputs": [
    {
     "data": {
      "text/plain": [
       "2579493"
      ]
     },
     "execution_count": 30,
     "metadata": {},
     "output_type": "execute_result"
    }
   ],
   "source": [
    "len(iot23)"
   ]
  },
  {
   "cell_type": "code",
   "execution_count": 32,
   "id": "930ca2d8",
   "metadata": {},
   "outputs": [],
   "source": [
    "iot23.write_csv('data/iot23.csv')"
   ]
  },
  {
   "cell_type": "code",
   "execution_count": 4,
   "id": "3ca986ab",
   "metadata": {},
   "outputs": [
    {
     "name": "stdout",
     "output_type": "stream",
     "text": [
      "File: Torii.csv, len: 33858\n"
     ]
    }
   ],
   "source": [
    "#iot_dataset = pd.DataFrame()\n",
    "for file in ['Torii.csv']:\n",
    "    df = pd.read_csv(f'data/IoT-23/{file}')\n",
    "    df.drop(columns=columns_to_delete, inplace=True)\n",
    "    print(f'File: {file}, len: {len(df)}')\n",
    "    df.to_pickle(f'data/pickles/iot-23/{file}.pkl.gzip', compression='gzip')\n",
    "    del(df)\n",
    "    #iot_dataset = pd.concat([iot_dataset, df], ignore_index=True)\n",
    "#print(f'Wgole IoT-23: {len(iot_dataset)}')"
   ]
  },
  {
   "cell_type": "code",
   "execution_count": null,
   "id": "8c9f03c2",
   "metadata": {},
   "outputs": [
    {
     "data": {
      "text/html": [
       "<div>\n",
       "<style scoped>\n",
       "    .dataframe tbody tr th:only-of-type {\n",
       "        vertical-align: middle;\n",
       "    }\n",
       "\n",
       "    .dataframe tbody tr th {\n",
       "        vertical-align: top;\n",
       "    }\n",
       "\n",
       "    .dataframe thead th {\n",
       "        text-align: right;\n",
       "    }\n",
       "</style>\n",
       "<table border=\"1\" class=\"dataframe\">\n",
       "  <thead>\n",
       "    <tr style=\"text-align: right;\">\n",
       "      <th></th>\n",
       "      <th>Flow_ID</th>\n",
       "      <th>Src_IP</th>\n",
       "      <th>Src_Port</th>\n",
       "      <th>Dst_IP</th>\n",
       "      <th>Dst_Port</th>\n",
       "      <th>Protocol</th>\n",
       "      <th>Timestamp</th>\n",
       "      <th>Flow_Duration</th>\n",
       "      <th>Tot_Fwd_Pkts</th>\n",
       "      <th>Tot_Bwd_Pkts</th>\n",
       "      <th>...</th>\n",
       "      <th>Active_Mean</th>\n",
       "      <th>Active_Std</th>\n",
       "      <th>Active_Max</th>\n",
       "      <th>Active_Min</th>\n",
       "      <th>Idle_Mean</th>\n",
       "      <th>Idle_Std</th>\n",
       "      <th>Idle_Max</th>\n",
       "      <th>Idle_Min</th>\n",
       "      <th>Label</th>\n",
       "      <th>Sub_Cat</th>\n",
       "    </tr>\n",
       "  </thead>\n",
       "  <tbody>\n",
       "    <tr>\n",
       "      <th>0</th>\n",
       "      <td>192.168.100.103-132.4.113.255-37302-24074-6</td>\n",
       "      <td>192.168.100.103</td>\n",
       "      <td>37302</td>\n",
       "      <td>132.4.113.255</td>\n",
       "      <td>24074</td>\n",
       "      <td>6</td>\n",
       "      <td>11/5/2018 19:48</td>\n",
       "      <td>15029179</td>\n",
       "      <td>5</td>\n",
       "      <td>0</td>\n",
       "      <td>...</td>\n",
       "      <td>0</td>\n",
       "      <td>0</td>\n",
       "      <td>0</td>\n",
       "      <td>0</td>\n",
       "      <td>1.530000e+15</td>\n",
       "      <td>4.592048e+06</td>\n",
       "      <td>1.530000e+15</td>\n",
       "      <td>1.530000e+15</td>\n",
       "      <td>Anomaly</td>\n",
       "      <td>C&amp;C</td>\n",
       "    </tr>\n",
       "    <tr>\n",
       "      <th>1</th>\n",
       "      <td>192.168.100.103-112.10.214.241-60417-32407-6</td>\n",
       "      <td>192.168.100.103</td>\n",
       "      <td>60417</td>\n",
       "      <td>112.10.214.241</td>\n",
       "      <td>32407</td>\n",
       "      <td>6</td>\n",
       "      <td>12/5/2018 3:03</td>\n",
       "      <td>15028776</td>\n",
       "      <td>5</td>\n",
       "      <td>0</td>\n",
       "      <td>...</td>\n",
       "      <td>0</td>\n",
       "      <td>0</td>\n",
       "      <td>0</td>\n",
       "      <td>0</td>\n",
       "      <td>1.530000e+15</td>\n",
       "      <td>4.591899e+06</td>\n",
       "      <td>1.530000e+15</td>\n",
       "      <td>1.530000e+15</td>\n",
       "      <td>Anomaly</td>\n",
       "      <td>C&amp;C</td>\n",
       "    </tr>\n",
       "    <tr>\n",
       "      <th>2</th>\n",
       "      <td>192.168.100.103-196.167.58.124-44544-52407-6</td>\n",
       "      <td>192.168.100.103</td>\n",
       "      <td>44544</td>\n",
       "      <td>196.167.58.124</td>\n",
       "      <td>52407</td>\n",
       "      <td>6</td>\n",
       "      <td>13/05/2018 11:13:03 PM</td>\n",
       "      <td>15028673</td>\n",
       "      <td>5</td>\n",
       "      <td>0</td>\n",
       "      <td>...</td>\n",
       "      <td>0</td>\n",
       "      <td>0</td>\n",
       "      <td>0</td>\n",
       "      <td>0</td>\n",
       "      <td>1.530000e+15</td>\n",
       "      <td>4.591839e+06</td>\n",
       "      <td>1.530000e+15</td>\n",
       "      <td>1.530000e+15</td>\n",
       "      <td>Anomaly</td>\n",
       "      <td>C&amp;C</td>\n",
       "    </tr>\n",
       "    <tr>\n",
       "      <th>3</th>\n",
       "      <td>192.168.1.193-134.209.72.171-50196-4554-6</td>\n",
       "      <td>192.168.1.193</td>\n",
       "      <td>50196</td>\n",
       "      <td>134.209.72.171</td>\n",
       "      <td>4554</td>\n",
       "      <td>6</td>\n",
       "      <td>28/02/2019 02:51:38 PM</td>\n",
       "      <td>1261042</td>\n",
       "      <td>8</td>\n",
       "      <td>5</td>\n",
       "      <td>...</td>\n",
       "      <td>0</td>\n",
       "      <td>0</td>\n",
       "      <td>0</td>\n",
       "      <td>0</td>\n",
       "      <td>1.551383e+15</td>\n",
       "      <td>3.696443e+05</td>\n",
       "      <td>1.551383e+15</td>\n",
       "      <td>1.551383e+15</td>\n",
       "      <td>Anomaly</td>\n",
       "      <td>C&amp;C</td>\n",
       "    </tr>\n",
       "    <tr>\n",
       "      <th>4</th>\n",
       "      <td>192.168.1.193-134.209.72.171-50198-4554-6</td>\n",
       "      <td>192.168.1.193</td>\n",
       "      <td>50198</td>\n",
       "      <td>134.209.72.171</td>\n",
       "      <td>4554</td>\n",
       "      <td>6</td>\n",
       "      <td>28/02/2019 02:51:54 PM</td>\n",
       "      <td>210629</td>\n",
       "      <td>6</td>\n",
       "      <td>5</td>\n",
       "      <td>...</td>\n",
       "      <td>0</td>\n",
       "      <td>0</td>\n",
       "      <td>0</td>\n",
       "      <td>0</td>\n",
       "      <td>1.551384e+15</td>\n",
       "      <td>5.628725e+04</td>\n",
       "      <td>1.551384e+15</td>\n",
       "      <td>1.551384e+15</td>\n",
       "      <td>Anomaly</td>\n",
       "      <td>C&amp;C</td>\n",
       "    </tr>\n",
       "  </tbody>\n",
       "</table>\n",
       "<p>5 rows × 85 columns</p>\n",
       "</div>"
      ],
      "text/plain": [
       "                                        Flow_ID           Src_IP  Src_Port  \\\n",
       "0   192.168.100.103-132.4.113.255-37302-24074-6  192.168.100.103     37302   \n",
       "1  192.168.100.103-112.10.214.241-60417-32407-6  192.168.100.103     60417   \n",
       "2  192.168.100.103-196.167.58.124-44544-52407-6  192.168.100.103     44544   \n",
       "3     192.168.1.193-134.209.72.171-50196-4554-6    192.168.1.193     50196   \n",
       "4     192.168.1.193-134.209.72.171-50198-4554-6    192.168.1.193     50198   \n",
       "\n",
       "           Dst_IP  Dst_Port  Protocol               Timestamp  Flow_Duration  \\\n",
       "0   132.4.113.255     24074         6         11/5/2018 19:48       15029179   \n",
       "1  112.10.214.241     32407         6          12/5/2018 3:03       15028776   \n",
       "2  196.167.58.124     52407         6  13/05/2018 11:13:03 PM       15028673   \n",
       "3  134.209.72.171      4554         6  28/02/2019 02:51:38 PM        1261042   \n",
       "4  134.209.72.171      4554         6  28/02/2019 02:51:54 PM         210629   \n",
       "\n",
       "   Tot_Fwd_Pkts  Tot_Bwd_Pkts  ...  Active_Mean  Active_Std  Active_Max  \\\n",
       "0             5             0  ...            0           0           0   \n",
       "1             5             0  ...            0           0           0   \n",
       "2             5             0  ...            0           0           0   \n",
       "3             8             5  ...            0           0           0   \n",
       "4             6             5  ...            0           0           0   \n",
       "\n",
       "   Active_Min     Idle_Mean      Idle_Std      Idle_Max      Idle_Min  \\\n",
       "0           0  1.530000e+15  4.592048e+06  1.530000e+15  1.530000e+15   \n",
       "1           0  1.530000e+15  4.591899e+06  1.530000e+15  1.530000e+15   \n",
       "2           0  1.530000e+15  4.591839e+06  1.530000e+15  1.530000e+15   \n",
       "3           0  1.551383e+15  3.696443e+05  1.551383e+15  1.551383e+15   \n",
       "4           0  1.551384e+15  5.628725e+04  1.551384e+15  1.551384e+15   \n",
       "\n",
       "     Label  Sub_Cat  \n",
       "0  Anomaly      C&C  \n",
       "1  Anomaly      C&C  \n",
       "2  Anomaly      C&C  \n",
       "3  Anomaly      C&C  \n",
       "4  Anomaly      C&C  \n",
       "\n",
       "[5 rows x 85 columns]"
      ]
     },
     "execution_count": 4,
     "metadata": {},
     "output_type": "execute_result"
    }
   ],
   "source": [
    "iot23 = pd.read_csv('data/IoT-23/C&C.csv')\n",
    "iot23.head()"
   ]
  },
  {
   "cell_type": "code",
   "execution_count": null,
   "id": "34c3db5d",
   "metadata": {},
   "outputs": [
    {
     "data": {
      "text/plain": [
       "Active_Min          0\n",
       "Active_Max          0\n",
       "Active_Std          0\n",
       "Active_Mean         0\n",
       "ECE_Flag_Cnt        0\n",
       "Fwd_Byts/b_Avg      0\n",
       "Fwd_Pkts/b_Avg      0\n",
       "Fwd_Blk_Rate_Avg    0\n",
       "Bwd_Byts/b_Avg      0\n",
       "CWE_Flag_Count      0\n",
       "Bwd_PSH_Flags       0\n",
       "Bwd_URG_Flags       0\n",
       "dtype: int64"
      ]
     },
     "execution_count": 6,
     "metadata": {},
     "output_type": "execute_result"
    }
   ],
   "source": [
    "iot23[columns_to_delete].apply(max)"
   ]
  },
  {
   "cell_type": "code",
   "execution_count": null,
   "id": "304488dd",
   "metadata": {},
   "outputs": [
    {
     "name": "stdout",
     "output_type": "stream",
     "text": [
      "85 86\n",
      "{'Fwd_IAT_Std', 'Cat'}\n",
      "{'Bwd_IAT_Mean.1'}\n"
     ]
    }
   ],
   "source": [
    "print(len(iot23.columns),\n",
    "len(data.columns))\n",
    "print(set(data.columns) - set(iot23.columns))\n",
    "print(set(iot23.columns) - set(data.columns))"
   ]
  },
  {
   "cell_type": "markdown",
   "id": "fc651121",
   "metadata": {},
   "source": [
    "# MQTT"
   ]
  },
  {
   "cell_type": "code",
   "execution_count": null,
   "id": "8cac320e",
   "metadata": {},
   "outputs": [],
   "source": [
    "mqtt = pl.read_csv('data/MQTT-IoT-IDS2020.csv')\n",
    "mqtt.head()"
   ]
  },
  {
   "cell_type": "code",
   "execution_count": 15,
   "id": "371c704d",
   "metadata": {},
   "outputs": [
    {
     "ename": "NameError",
     "evalue": "name 'mqtt' is not defined",
     "output_type": "error",
     "traceback": [
      "\u001b[1;31m---------------------------------------------------------------------------\u001b[0m",
      "\u001b[1;31mNameError\u001b[0m                                 Traceback (most recent call last)",
      "Cell \u001b[1;32mIn[15], line 1\u001b[0m\n\u001b[1;32m----> 1\u001b[0m \u001b[38;5;28;01mdel\u001b[39;00m(\u001b[43mmqtt\u001b[49m)\n",
      "\u001b[1;31mNameError\u001b[0m: name 'mqtt' is not defined"
     ]
    }
   ],
   "source": [
    "del(mqtt)"
   ]
  },
  {
   "cell_type": "code",
   "execution_count": null,
   "id": "f292c6d0",
   "metadata": {},
   "outputs": [],
   "source": [
    "mqtt.to_pickle('data/pickles/mqtt.pickle.gzip', compression='gzip')"
   ]
  },
  {
   "cell_type": "code",
   "execution_count": 17,
   "id": "988232b5",
   "metadata": {},
   "outputs": [],
   "source": [
    "d2 = pd.read_pickle('data/pickles/mqtt.pickle.gzip', compression='gzip')"
   ]
  },
  {
   "cell_type": "code",
   "execution_count": 30,
   "id": "194b09f0",
   "metadata": {},
   "outputs": [
    {
     "data": {
      "text/plain": [
       "730801.2000000001"
      ]
     },
     "execution_count": 30,
     "metadata": {},
     "output_type": "execute_result"
    }
   ],
   "source": [
    "3654006*0.2"
   ]
  },
  {
   "cell_type": "code",
   "execution_count": 33,
   "id": "a7bd1c6e",
   "metadata": {},
   "outputs": [
    {
     "name": "stdout",
     "output_type": "stream",
     "text": [
      "730801 2923205\n"
     ]
    }
   ],
   "source": [
    "test_mqtt = d2.sample(frac=0.2)\n",
    "d2 = d2.drop(test_mqtt.index)\n",
    "print(len(test_mqtt), len(d2))\n"
   ]
  },
  {
   "cell_type": "code",
   "execution_count": 35,
   "id": "fbcb4eeb",
   "metadata": {},
   "outputs": [
    {
     "ename": "MemoryError",
     "evalue": "Unable to allocate 914. MiB for an array with shape (41, 2923205) and data type float64",
     "output_type": "error",
     "traceback": [
      "\u001b[1;31m---------------------------------------------------------------------------\u001b[0m",
      "\u001b[1;31mMemoryError\u001b[0m                               Traceback (most recent call last)",
      "Cell \u001b[1;32mIn[35], line 2\u001b[0m\n\u001b[0;32m      1\u001b[0m test_mqtt\u001b[38;5;241m.\u001b[39mreset_index()\n\u001b[1;32m----> 2\u001b[0m \u001b[43md2\u001b[49m\u001b[38;5;241;43m.\u001b[39;49m\u001b[43mreset_index\u001b[49m\u001b[43m(\u001b[49m\u001b[43m)\u001b[49m\n",
      "File \u001b[1;32mc:\\Users\\zofia\\Desktop\\GSN\\projekt\\gsn_iot_anomalies_detection\\.venv\\Lib\\site-packages\\pandas\\core\\frame.py:6417\u001b[0m, in \u001b[0;36mDataFrame.reset_index\u001b[1;34m(self, level, drop, inplace, col_level, col_fill, allow_duplicates, names)\u001b[0m\n\u001b[0;32m   6415\u001b[0m     new_obj \u001b[38;5;241m=\u001b[39m \u001b[38;5;28mself\u001b[39m\n\u001b[0;32m   6416\u001b[0m \u001b[38;5;28;01melse\u001b[39;00m:\n\u001b[1;32m-> 6417\u001b[0m     new_obj \u001b[38;5;241m=\u001b[39m \u001b[38;5;28;43mself\u001b[39;49m\u001b[38;5;241;43m.\u001b[39;49m\u001b[43mcopy\u001b[49m\u001b[43m(\u001b[49m\u001b[43mdeep\u001b[49m\u001b[38;5;241;43m=\u001b[39;49m\u001b[38;5;28;43;01mNone\u001b[39;49;00m\u001b[43m)\u001b[49m\n\u001b[0;32m   6418\u001b[0m \u001b[38;5;28;01mif\u001b[39;00m allow_duplicates \u001b[38;5;129;01mis\u001b[39;00m \u001b[38;5;129;01mnot\u001b[39;00m lib\u001b[38;5;241m.\u001b[39mno_default:\n\u001b[0;32m   6419\u001b[0m     allow_duplicates \u001b[38;5;241m=\u001b[39m validate_bool_kwarg(allow_duplicates, \u001b[38;5;124m\"\u001b[39m\u001b[38;5;124mallow_duplicates\u001b[39m\u001b[38;5;124m\"\u001b[39m)\n",
      "File \u001b[1;32mc:\\Users\\zofia\\Desktop\\GSN\\projekt\\gsn_iot_anomalies_detection\\.venv\\Lib\\site-packages\\pandas\\core\\generic.py:6811\u001b[0m, in \u001b[0;36mNDFrame.copy\u001b[1;34m(self, deep)\u001b[0m\n\u001b[0;32m   6662\u001b[0m \u001b[38;5;129m@final\u001b[39m\n\u001b[0;32m   6663\u001b[0m \u001b[38;5;28;01mdef\u001b[39;00m \u001b[38;5;21mcopy\u001b[39m(\u001b[38;5;28mself\u001b[39m, deep: bool_t \u001b[38;5;241m|\u001b[39m \u001b[38;5;28;01mNone\u001b[39;00m \u001b[38;5;241m=\u001b[39m \u001b[38;5;28;01mTrue\u001b[39;00m) \u001b[38;5;241m-\u001b[39m\u001b[38;5;241m>\u001b[39m Self:\n\u001b[0;32m   6664\u001b[0m \u001b[38;5;250m    \u001b[39m\u001b[38;5;124;03m\"\"\"\u001b[39;00m\n\u001b[0;32m   6665\u001b[0m \u001b[38;5;124;03m    Make a copy of this object's indices and data.\u001b[39;00m\n\u001b[0;32m   6666\u001b[0m \n\u001b[1;32m   (...)\u001b[0m\n\u001b[0;32m   6809\u001b[0m \u001b[38;5;124;03m    dtype: int64\u001b[39;00m\n\u001b[0;32m   6810\u001b[0m \u001b[38;5;124;03m    \"\"\"\u001b[39;00m\n\u001b[1;32m-> 6811\u001b[0m     data \u001b[38;5;241m=\u001b[39m \u001b[38;5;28;43mself\u001b[39;49m\u001b[38;5;241;43m.\u001b[39;49m\u001b[43m_mgr\u001b[49m\u001b[38;5;241;43m.\u001b[39;49m\u001b[43mcopy\u001b[49m\u001b[43m(\u001b[49m\u001b[43mdeep\u001b[49m\u001b[38;5;241;43m=\u001b[39;49m\u001b[43mdeep\u001b[49m\u001b[43m)\u001b[49m\n\u001b[0;32m   6812\u001b[0m     \u001b[38;5;28mself\u001b[39m\u001b[38;5;241m.\u001b[39m_clear_item_cache()\n\u001b[0;32m   6813\u001b[0m     \u001b[38;5;28;01mreturn\u001b[39;00m \u001b[38;5;28mself\u001b[39m\u001b[38;5;241m.\u001b[39m_constructor_from_mgr(data, axes\u001b[38;5;241m=\u001b[39mdata\u001b[38;5;241m.\u001b[39maxes)\u001b[38;5;241m.\u001b[39m__finalize__(\n\u001b[0;32m   6814\u001b[0m         \u001b[38;5;28mself\u001b[39m, method\u001b[38;5;241m=\u001b[39m\u001b[38;5;124m\"\u001b[39m\u001b[38;5;124mcopy\u001b[39m\u001b[38;5;124m\"\u001b[39m\n\u001b[0;32m   6815\u001b[0m     )\n",
      "File \u001b[1;32mc:\\Users\\zofia\\Desktop\\GSN\\projekt\\gsn_iot_anomalies_detection\\.venv\\Lib\\site-packages\\pandas\\core\\internals\\managers.py:593\u001b[0m, in \u001b[0;36mBaseBlockManager.copy\u001b[1;34m(self, deep)\u001b[0m\n\u001b[0;32m    590\u001b[0m     \u001b[38;5;28;01melse\u001b[39;00m:\n\u001b[0;32m    591\u001b[0m         new_axes \u001b[38;5;241m=\u001b[39m \u001b[38;5;28mlist\u001b[39m(\u001b[38;5;28mself\u001b[39m\u001b[38;5;241m.\u001b[39maxes)\n\u001b[1;32m--> 593\u001b[0m res \u001b[38;5;241m=\u001b[39m \u001b[38;5;28;43mself\u001b[39;49m\u001b[38;5;241;43m.\u001b[39;49m\u001b[43mapply\u001b[49m\u001b[43m(\u001b[49m\u001b[38;5;124;43m\"\u001b[39;49m\u001b[38;5;124;43mcopy\u001b[39;49m\u001b[38;5;124;43m\"\u001b[39;49m\u001b[43m,\u001b[49m\u001b[43m \u001b[49m\u001b[43mdeep\u001b[49m\u001b[38;5;241;43m=\u001b[39;49m\u001b[43mdeep\u001b[49m\u001b[43m)\u001b[49m\n\u001b[0;32m    594\u001b[0m res\u001b[38;5;241m.\u001b[39maxes \u001b[38;5;241m=\u001b[39m new_axes\n\u001b[0;32m    596\u001b[0m \u001b[38;5;28;01mif\u001b[39;00m \u001b[38;5;28mself\u001b[39m\u001b[38;5;241m.\u001b[39mndim \u001b[38;5;241m>\u001b[39m \u001b[38;5;241m1\u001b[39m:\n\u001b[0;32m    597\u001b[0m     \u001b[38;5;66;03m# Avoid needing to re-compute these\u001b[39;00m\n",
      "File \u001b[1;32mc:\\Users\\zofia\\Desktop\\GSN\\projekt\\gsn_iot_anomalies_detection\\.venv\\Lib\\site-packages\\pandas\\core\\internals\\managers.py:363\u001b[0m, in \u001b[0;36mBaseBlockManager.apply\u001b[1;34m(self, f, align_keys, **kwargs)\u001b[0m\n\u001b[0;32m    361\u001b[0m         applied \u001b[38;5;241m=\u001b[39m b\u001b[38;5;241m.\u001b[39mapply(f, \u001b[38;5;241m*\u001b[39m\u001b[38;5;241m*\u001b[39mkwargs)\n\u001b[0;32m    362\u001b[0m     \u001b[38;5;28;01melse\u001b[39;00m:\n\u001b[1;32m--> 363\u001b[0m         applied \u001b[38;5;241m=\u001b[39m \u001b[38;5;28;43mgetattr\u001b[39;49m\u001b[43m(\u001b[49m\u001b[43mb\u001b[49m\u001b[43m,\u001b[49m\u001b[43m \u001b[49m\u001b[43mf\u001b[49m\u001b[43m)\u001b[49m\u001b[43m(\u001b[49m\u001b[38;5;241;43m*\u001b[39;49m\u001b[38;5;241;43m*\u001b[39;49m\u001b[43mkwargs\u001b[49m\u001b[43m)\u001b[49m\n\u001b[0;32m    364\u001b[0m     result_blocks \u001b[38;5;241m=\u001b[39m extend_blocks(applied, result_blocks)\n\u001b[0;32m    366\u001b[0m out \u001b[38;5;241m=\u001b[39m \u001b[38;5;28mtype\u001b[39m(\u001b[38;5;28mself\u001b[39m)\u001b[38;5;241m.\u001b[39mfrom_blocks(result_blocks, \u001b[38;5;28mself\u001b[39m\u001b[38;5;241m.\u001b[39maxes)\n",
      "File \u001b[1;32mc:\\Users\\zofia\\Desktop\\GSN\\projekt\\gsn_iot_anomalies_detection\\.venv\\Lib\\site-packages\\pandas\\core\\internals\\blocks.py:796\u001b[0m, in \u001b[0;36mBlock.copy\u001b[1;34m(self, deep)\u001b[0m\n\u001b[0;32m    794\u001b[0m refs: BlockValuesRefs \u001b[38;5;241m|\u001b[39m \u001b[38;5;28;01mNone\u001b[39;00m\n\u001b[0;32m    795\u001b[0m \u001b[38;5;28;01mif\u001b[39;00m deep:\n\u001b[1;32m--> 796\u001b[0m     values \u001b[38;5;241m=\u001b[39m \u001b[43mvalues\u001b[49m\u001b[38;5;241;43m.\u001b[39;49m\u001b[43mcopy\u001b[49m\u001b[43m(\u001b[49m\u001b[43m)\u001b[49m\n\u001b[0;32m    797\u001b[0m     refs \u001b[38;5;241m=\u001b[39m \u001b[38;5;28;01mNone\u001b[39;00m\n\u001b[0;32m    798\u001b[0m \u001b[38;5;28;01melse\u001b[39;00m:\n",
      "\u001b[1;31mMemoryError\u001b[0m: Unable to allocate 914. MiB for an array with shape (41, 2923205) and data type float64"
     ]
    }
   ],
   "source": [
    "test_mqtt.reset_index()\n",
    "d2.reset_index()"
   ]
  },
  {
   "cell_type": "code",
   "execution_count": 14,
   "id": "a132ee32",
   "metadata": {},
   "outputs": [],
   "source": [
    "mqtt = pl.read_csv('data/mqtt_train_dataset.csv')"
   ]
  },
  {
   "cell_type": "code",
   "execution_count": 15,
   "id": "9a671b9f",
   "metadata": {},
   "outputs": [
    {
     "data": {
      "text/plain": [
       "2923190"
      ]
     },
     "execution_count": 15,
     "metadata": {},
     "output_type": "execute_result"
    }
   ],
   "source": [
    "len(mqtt)"
   ]
  },
  {
   "cell_type": "code",
   "execution_count": 8,
   "id": "7d54a744",
   "metadata": {},
   "outputs": [],
   "source": [
    "df = mqtt[:, :-2].cast(pl.Float32)"
   ]
  },
  {
   "cell_type": "code",
   "execution_count": 19,
   "id": "28e47204",
   "metadata": {},
   "outputs": [],
   "source": [
    "for name, col in zip(df.columns, df):\n",
    "    if col.is_nan().any():\n",
    "        print(name)\n",
    "        print(col.is_infinite().sum())\n",
    "\n",
    "    #df.apply(pl.is_infinite())"
   ]
  },
  {
   "cell_type": "code",
   "execution_count": null,
   "id": "87ed9635",
   "metadata": {},
   "outputs": [],
   "source": [
    "mqtt = mqtt.filter((~pl.col(\"Flow_Pkts/s\").is_infinite()) & (~pl.col(\"Flow_Byts/s\").is_infinite()))"
   ]
  },
  {
   "cell_type": "code",
   "execution_count": 18,
   "id": "2565f58c",
   "metadata": {},
   "outputs": [
    {
     "data": {
      "text/plain": [
       "2923205"
      ]
     },
     "execution_count": 18,
     "metadata": {},
     "output_type": "execute_result"
    }
   ],
   "source": [
    "len(df)"
   ]
  },
  {
   "cell_type": "code",
   "execution_count": 20,
   "id": "6e142bff",
   "metadata": {},
   "outputs": [],
   "source": [
    "mqtt.write_csv('data/mqtt_train_dataset.csv')"
   ]
  },
  {
   "cell_type": "code",
   "execution_count": 39,
   "id": "59791989",
   "metadata": {},
   "outputs": [],
   "source": [
    "test_mqtt.to_csv('data/mqtt_test_dataset.csv', index=False)"
   ]
  },
  {
   "cell_type": "code",
   "execution_count": 25,
   "id": "f3de8f0e",
   "metadata": {},
   "outputs": [],
   "source": [
    "import gc\n"
   ]
  },
  {
   "cell_type": "code",
   "execution_count": 38,
   "id": "294d07b8",
   "metadata": {},
   "outputs": [
    {
     "data": {
      "text/plain": [
       "614"
      ]
     },
     "execution_count": 38,
     "metadata": {},
     "output_type": "execute_result"
    }
   ],
   "source": [
    "gc.collect()"
   ]
  },
  {
   "cell_type": "code",
   "execution_count": null,
   "id": "c78e4123",
   "metadata": {},
   "outputs": [],
   "source": [
    "mqtt.drop(columns=['Flow_ID', 'Src_IP', 'Src_Port', 'Dst_IP', 'Dst_Port', 'Protocol', 'Timestamp'], inplace=True)"
   ]
  },
  {
   "cell_type": "code",
   "execution_count": null,
   "id": "3d13bb30",
   "metadata": {},
   "outputs": [],
   "source": [
    "mqtt.drop(columns=columns_to_delete, inplace=True)"
   ]
  },
  {
   "cell_type": "code",
   "execution_count": null,
   "id": "be097c27",
   "metadata": {},
   "outputs": [],
   "source": [
    "columns_to_delete = ['Active_Min', 'Active_Max', 'Active_Std', 'Active_Mean', 'ECE_Flag_Cnt',\n",
    "'Fwd_Byts/b_Avg', 'Fwd_Pkts/b_Avg', 'Fwd_Blk_Rate_Avg', 'Bwd_Byts/b_Avg', 'CWE_Flag_Count', 'Bwd_PSH_Flags', 'Bwd_URG_Flags']\n",
    "\n",
    "#Subflow_Bwd_Pkts"
   ]
  },
  {
   "cell_type": "code",
   "execution_count": null,
   "id": "2f24c8bb",
   "metadata": {},
   "outputs": [
    {
     "data": {
      "text/plain": [
       "66"
      ]
     },
     "execution_count": 71,
     "metadata": {},
     "output_type": "execute_result"
    }
   ],
   "source": [
    "len(mqtt.columns)"
   ]
  },
  {
   "cell_type": "code",
   "execution_count": null,
   "id": "13d89e54",
   "metadata": {},
   "outputs": [
    {
     "data": {
      "text/html": [
       "<div>\n",
       "<style scoped>\n",
       "    .dataframe tbody tr th:only-of-type {\n",
       "        vertical-align: middle;\n",
       "    }\n",
       "\n",
       "    .dataframe tbody tr th {\n",
       "        vertical-align: top;\n",
       "    }\n",
       "\n",
       "    .dataframe thead th {\n",
       "        text-align: right;\n",
       "    }\n",
       "</style>\n",
       "<table border=\"1\" class=\"dataframe\">\n",
       "  <thead>\n",
       "    <tr style=\"text-align: right;\">\n",
       "      <th></th>\n",
       "      <th>Flow_Duration</th>\n",
       "      <th>Tot_Fwd_Pkts</th>\n",
       "      <th>Tot_Bwd_Pkts</th>\n",
       "      <th>TotLen_Fwd_Pkts</th>\n",
       "      <th>TotLen_Bwd_Pkts</th>\n",
       "      <th>Fwd_Pkt_Len_Max</th>\n",
       "      <th>Fwd_Pkt_Len_Min</th>\n",
       "      <th>Fwd_Pkt_Len_Mean</th>\n",
       "      <th>Fwd_Pkt_Len_Std</th>\n",
       "      <th>Bwd_Pkt_Len_Max</th>\n",
       "      <th>...</th>\n",
       "      <th>Active_Mean</th>\n",
       "      <th>Active_Std</th>\n",
       "      <th>Active_Max</th>\n",
       "      <th>Active_Min</th>\n",
       "      <th>Idle_Mean</th>\n",
       "      <th>Idle_Std</th>\n",
       "      <th>Idle_Max</th>\n",
       "      <th>Idle_Min</th>\n",
       "      <th>Label</th>\n",
       "      <th>Cat</th>\n",
       "    </tr>\n",
       "  </thead>\n",
       "  <tbody>\n",
       "  </tbody>\n",
       "</table>\n",
       "<p>0 rows × 78 columns</p>\n",
       "</div>"
      ],
      "text/plain": [
       "Empty DataFrame\n",
       "Columns: [Flow_Duration, Tot_Fwd_Pkts, Tot_Bwd_Pkts, TotLen_Fwd_Pkts, TotLen_Bwd_Pkts, Fwd_Pkt_Len_Max, Fwd_Pkt_Len_Min, Fwd_Pkt_Len_Mean, Fwd_Pkt_Len_Std, Bwd_Pkt_Len_Max, Bwd_Pkt_Len_Min, Bwd_Pkt_Len_Mean, Bwd_Pkt_Len_Std, Flow_Byts/s, Flow_Pkts/s, Flow_IAT_Mean, Flow_IAT_Std, Flow_IAT_Max, Flow_IAT_Min, Fwd_IAT_Tot, Fwd_IAT_Mean, Fwd_IAT_Std, Fwd_IAT_Max, Fwd_IAT_Min, Bwd_IAT_Tot, Bwd_IAT_Mean, Bwd_IAT_Std, Bwd_IAT_Max, Bwd_IAT_Min, Fwd_PSH_Flags, Bwd_PSH_Flags, Fwd_URG_Flags, Bwd_URG_Flags, Fwd_Header_Len, Bwd_Header_Len, Fwd_Pkts/s, Bwd_Pkts/s, Pkt_Len_Min, Pkt_Len_Max, Pkt_Len_Mean, Pkt_Len_Std, Pkt_Len_Var, FIN_Flag_Cnt, SYN_Flag_Cnt, RST_Flag_Cnt, PSH_Flag_Cnt, ACK_Flag_Cnt, URG_Flag_Cnt, CWE_Flag_Count, ECE_Flag_Cnt, Down/Up_Ratio, Pkt_Size_Avg, Fwd_Seg_Size_Avg, Bwd_Seg_Size_Avg, Fwd_Byts/b_Avg, Fwd_Pkts/b_Avg, Fwd_Blk_Rate_Avg, Bwd_Byts/b_Avg, Bwd_Pkts/b_Avg, Bwd_Blk_Rate_Avg, Subflow_Fwd_Pkts, Subflow_Fwd_Byts, Subflow_Bwd_Pkts, Subflow_Bwd_Byts, Init_Fwd_Win_Byts, Init_Bwd_Win_Byts, Fwd_Act_Data_Pkts, Fwd_Seg_Size_Min, Active_Mean, Active_Std, Active_Max, Active_Min, Idle_Mean, Idle_Std, Idle_Max, Idle_Min, Label, Cat]\n",
       "Index: []\n",
       "\n",
       "[0 rows x 78 columns]"
      ]
     },
     "execution_count": 63,
     "metadata": {},
     "output_type": "execute_result"
    }
   ],
   "source": [
    "mqtt[mqtt['ECE_Flag_Cnt'] != 0] #\t\t\t\t\t \n"
   ]
  },
  {
   "cell_type": "code",
   "execution_count": null,
   "id": "cc36a846",
   "metadata": {},
   "outputs": [
    {
     "data": {
      "text/plain": [
       "Active_Min           6659.00000\n",
       "Active_Max          26785.00000\n",
       "Active_Std           8598.65825\n",
       "Active_Mean          9044.62500\n",
       "ECE_Flag_Cnt            1.00000\n",
       "Fwd_Byts/b_Avg          0.00000\n",
       "Fwd_Pkts/b_Avg          0.00000\n",
       "Fwd_Blk_Rate_Avg        0.00000\n",
       "Bwd_Byts/b_Avg          0.00000\n",
       "CWE_Flag_Count          1.00000\n",
       "Bwd_PSH_Flags           1.00000\n",
       "Bwd_URG_Flags           1.00000\n",
       "dtype: float64"
      ]
     },
     "execution_count": 69,
     "metadata": {},
     "output_type": "execute_result"
    }
   ],
   "source": [
    "data[columns_to_delete].apply(max)"
   ]
  },
  {
   "cell_type": "code",
   "execution_count": 20,
   "id": "f1501fe9",
   "metadata": {},
   "outputs": [
    {
     "data": {
      "text/plain": [
       "array(['MQTT_bruteforce', 'Sparta', 'Normal', 'Scan_sU', 'Scan_A'],\n",
       "      dtype=object)"
      ]
     },
     "execution_count": 20,
     "metadata": {},
     "output_type": "execute_result"
    }
   ],
   "source": [
    "d2['Cat'].unique()"
   ]
  },
  {
   "cell_type": "markdown",
   "id": "e0d4aae3",
   "metadata": {},
   "source": [
    "# BoT"
   ]
  },
  {
   "cell_type": "code",
   "execution_count": 3,
   "id": "8974eb18",
   "metadata": {},
   "outputs": [
    {
     "name": "stderr",
     "output_type": "stream",
     "text": [
      "<>:1: SyntaxWarning: invalid escape sequence '\\B'\n",
      "<>:1: SyntaxWarning: invalid escape sequence '\\B'\n",
      "C:\\Users\\zofia\\AppData\\Local\\Temp\\ipykernel_15128\\960181782.py:1: SyntaxWarning: invalid escape sequence '\\B'\n",
      "  bot = pl.read_csv('data\\BoT\\DoS\\DoS_HTTP\\DoS_HTTP1.csv') #.filter(pl.col('Label') == 'Normal')\n"
     ]
    },
    {
     "data": {
      "text/html": [
       "<div><style>\n",
       ".dataframe > thead > tr,\n",
       ".dataframe > tbody > tr {\n",
       "  text-align: right;\n",
       "  white-space: pre-wrap;\n",
       "}\n",
       "</style>\n",
       "<small>shape: (5, 86)</small><table border=\"1\" class=\"dataframe\"><thead><tr><th>Flow_ID</th><th>Src_IP</th><th>Src_Port</th><th>Dst_IP</th><th>Dst_Port</th><th>Protocol</th><th>Timestamp</th><th>Flow_Duration</th><th>Tot_Fwd_Pkts</th><th>Tot_Bwd_Pkts</th><th>TotLen_Fwd_Pkts</th><th>TotLen_Bwd_Pkts</th><th>Fwd_Pkt_Len_Max</th><th>Fwd_Pkt_Len_Min</th><th>Fwd_Pkt_Len_Mean</th><th>Fwd_Pkt_Len_Std</th><th>Bwd_Pkt_Len_Max</th><th>Bwd_Pkt_Len_Min</th><th>Bwd_Pkt_Len_Mean</th><th>Bwd_Pkt_Len_Std</th><th>Flow_Byts/s</th><th>Flow_Pkts/s</th><th>Flow_IAT_Mean</th><th>Flow_IAT_Std</th><th>Flow_IAT_Max</th><th>Flow_IAT_Min</th><th>Fwd_IAT_Tot</th><th>Fwd_IAT_Mean</th><th>Bwd_IAT_Mean</th><th>Fwd_IAT_Max</th><th>Fwd_IAT_Min</th><th>Bwd_IAT_Tot</th><th>Fwd_IAT_Std</th><th>Bwd_IAT_Std</th><th>Bwd_IAT_Max</th><th>Bwd_IAT_Min</th><th>Fwd_PSH_Flags</th><th>&hellip;</th><th>FIN_Flag_Cnt</th><th>SYN_Flag_Cnt</th><th>RST_Flag_Cnt</th><th>PSH_Flag_Cnt</th><th>ACK_Flag_Cnt</th><th>URG_Flag_Cnt</th><th>CWE_Flag_Count</th><th>ECE_Flag_Cnt</th><th>Down/Up_Ratio</th><th>Pkt_Size_Avg</th><th>Fwd_Seg_Size_Avg</th><th>Bwd_Seg_Size_Avg</th><th>Fwd_Byts/b_Avg</th><th>Fwd_Pkts/b_Avg</th><th>Fwd_Blk_Rate_Avg</th><th>Bwd_Byts/b_Avg</th><th>Bwd_Pkts/b_Avg</th><th>Bwd_Blk_Rate_Avg</th><th>Subflow_Fwd_Pkts</th><th>Subflow_Fwd_Byts</th><th>Subflow_Bwd_Pkts</th><th>Subflow_Bwd_Byts</th><th>Init_Fwd_Win_Byts</th><th>Init_Bwd_Win_Byts</th><th>Fwd_Act_Data_Pkts</th><th>Fwd_Seg_Size_Min</th><th>Active_Mean</th><th>Active_Std</th><th>Active_Max</th><th>Active_Min</th><th>Idle_Mean</th><th>Idle_Std</th><th>Idle_Max</th><th>Idle_Min</th><th>Label</th><th>Cat</th><th>Sub_Cat</th></tr><tr><td>str</td><td>str</td><td>i64</td><td>str</td><td>i64</td><td>i64</td><td>str</td><td>i64</td><td>i64</td><td>i64</td><td>f64</td><td>f64</td><td>f64</td><td>f64</td><td>f64</td><td>f64</td><td>f64</td><td>f64</td><td>f64</td><td>f64</td><td>f64</td><td>f64</td><td>f64</td><td>f64</td><td>f64</td><td>f64</td><td>f64</td><td>f64</td><td>f64</td><td>f64</td><td>f64</td><td>f64</td><td>f64</td><td>f64</td><td>f64</td><td>f64</td><td>i64</td><td>&hellip;</td><td>i64</td><td>i64</td><td>i64</td><td>i64</td><td>i64</td><td>i64</td><td>i64</td><td>i64</td><td>f64</td><td>f64</td><td>f64</td><td>f64</td><td>i64</td><td>i64</td><td>i64</td><td>i64</td><td>i64</td><td>i64</td><td>i64</td><td>i64</td><td>i64</td><td>i64</td><td>i64</td><td>i64</td><td>i64</td><td>i64</td><td>f64</td><td>f64</td><td>f64</td><td>f64</td><td>f64</td><td>f64</td><td>f64</td><td>f64</td><td>str</td><td>str</td><td>str</td></tr></thead><tbody><tr><td>&quot;192.168.100.150-192.168.100.3-…</td><td>&quot;192.168.100.150&quot;</td><td>51370</td><td>&quot;192.168.100.3&quot;</td><td>80</td><td>6</td><td>&quot;04/06/2018 01:02:02 AM&quot;</td><td>5003748</td><td>3</td><td>5</td><td>309.0</td><td>494.0</td><td>309.0</td><td>0.0</td><td>103.0</td><td>178.401233</td><td>494.0</td><td>0.0</td><td>98.8</td><td>220.923516</td><td>160.479704</td><td>1.598802</td><td>714821.142857</td><td>1.8908e6</td><td>5.002799e6</td><td>20.0</td><td>869.0</td><td>434.5</td><td>1.250937e6</td><td>849.0</td><td>20.0</td><td>5.003748e6</td><td>586.191522</td><td>2.5013e6</td><td>5.00282e6</td><td>38.0</td><td>0</td><td>&hellip;</td><td>0</td><td>1</td><td>0</td><td>0</td><td>0</td><td>0</td><td>0</td><td>0</td><td>1.0</td><td>100.375</td><td>103.0</td><td>98.8</td><td>0</td><td>0</td><td>0</td><td>0</td><td>0</td><td>0</td><td>3</td><td>309</td><td>5</td><td>494</td><td>-1</td><td>235</td><td>1</td><td>0</td><td>0.0</td><td>0.0</td><td>0.0</td><td>0.0</td><td>0.0</td><td>0.0</td><td>0.0</td><td>0.0</td><td>&quot;Anomaly&quot;</td><td>&quot;DoS&quot;</td><td>&quot;DoS_HTTP&quot;</td></tr><tr><td>&quot;192.168.100.150-192.168.100.3-…</td><td>&quot;192.168.100.150&quot;</td><td>51368</td><td>&quot;192.168.100.3&quot;</td><td>80</td><td>6</td><td>&quot;04/06/2018 01:02:02 AM&quot;</td><td>5004214</td><td>3</td><td>5</td><td>390.0</td><td>494.0</td><td>390.0</td><td>0.0</td><td>130.0</td><td>225.166605</td><td>494.0</td><td>0.0</td><td>98.8</td><td>220.923516</td><td>176.651118</td><td>1.598653</td><td>714887.714286</td><td>1.8910e6</td><td>5.003245e6</td><td>30.0</td><td>767.0</td><td>383.5</td><td>1251053.5</td><td>730.0</td><td>37.0</td><td>5.004214e6</td><td>490.024999</td><td>2.5015e6</td><td>5.003275e6</td><td>140.0</td><td>0</td><td>&hellip;</td><td>0</td><td>1</td><td>0</td><td>0</td><td>0</td><td>0</td><td>0</td><td>0</td><td>1.0</td><td>110.5</td><td>130.0</td><td>98.8</td><td>0</td><td>0</td><td>0</td><td>0</td><td>0</td><td>0</td><td>3</td><td>390</td><td>5</td><td>494</td><td>-1</td><td>235</td><td>1</td><td>0</td><td>0.0</td><td>0.0</td><td>0.0</td><td>0.0</td><td>0.0</td><td>0.0</td><td>0.0</td><td>0.0</td><td>&quot;Anomaly&quot;</td><td>&quot;DoS&quot;</td><td>&quot;DoS_HTTP&quot;</td></tr><tr><td>&quot;192.168.100.150-192.168.100.3-…</td><td>&quot;192.168.100.150&quot;</td><td>51372</td><td>&quot;192.168.100.3&quot;</td><td>80</td><td>6</td><td>&quot;04/06/2018 01:02:02 AM&quot;</td><td>5003495</td><td>3</td><td>5</td><td>311.0</td><td>494.0</td><td>311.0</td><td>0.0</td><td>103.666667</td><td>179.555934</td><td>494.0</td><td>0.0</td><td>98.8</td><td>220.923516</td><td>160.88754</td><td>1.598882</td><td>714785.0</td><td>1.8907e6</td><td>5.002475e6</td><td>26.0</td><td>930.0</td><td>465.0</td><td>1.2509e6</td><td>786.0</td><td>144.0</td><td>5.003495e6</td><td>453.962554</td><td>2.5011e6</td><td>5.002553e6</td><td>50.0</td><td>0</td><td>&hellip;</td><td>0</td><td>1</td><td>0</td><td>0</td><td>0</td><td>0</td><td>0</td><td>0</td><td>1.0</td><td>100.625</td><td>103.666667</td><td>98.8</td><td>0</td><td>0</td><td>0</td><td>0</td><td>0</td><td>0</td><td>3</td><td>311</td><td>5</td><td>494</td><td>-1</td><td>235</td><td>1</td><td>0</td><td>0.0</td><td>0.0</td><td>0.0</td><td>0.0</td><td>0.0</td><td>0.0</td><td>0.0</td><td>0.0</td><td>&quot;Anomaly&quot;</td><td>&quot;DoS&quot;</td><td>&quot;DoS_HTTP&quot;</td></tr><tr><td>&quot;192.168.100.150-192.168.100.3-…</td><td>&quot;192.168.100.150&quot;</td><td>51374</td><td>&quot;192.168.100.3&quot;</td><td>80</td><td>6</td><td>&quot;04/06/2018 01:02:02 AM&quot;</td><td>5003215</td><td>3</td><td>5</td><td>410.0</td><td>494.0</td><td>410.0</td><td>0.0</td><td>136.666667</td><td>236.71361</td><td>494.0</td><td>0.0</td><td>98.8</td><td>220.923516</td><td>180.68382</td><td>1.598972</td><td>714745.0</td><td>1.8906e6</td><td>5.002282e6</td><td>14.0</td><td>876.0</td><td>438.0</td><td>1.2508e6</td><td>862.0</td><td>14.0</td><td>5.003215e6</td><td>599.62655</td><td>2.5010e6</td><td>5.002312e6</td><td>23.0</td><td>0</td><td>&hellip;</td><td>0</td><td>1</td><td>0</td><td>0</td><td>0</td><td>0</td><td>0</td><td>0</td><td>1.0</td><td>113.0</td><td>136.666667</td><td>98.8</td><td>0</td><td>0</td><td>0</td><td>0</td><td>0</td><td>0</td><td>3</td><td>410</td><td>5</td><td>494</td><td>-1</td><td>235</td><td>1</td><td>0</td><td>0.0</td><td>0.0</td><td>0.0</td><td>0.0</td><td>0.0</td><td>0.0</td><td>0.0</td><td>0.0</td><td>&quot;Anomaly&quot;</td><td>&quot;DoS&quot;</td><td>&quot;DoS_HTTP&quot;</td></tr><tr><td>&quot;192.168.100.150-192.168.100.3-…</td><td>&quot;192.168.100.150&quot;</td><td>51376</td><td>&quot;192.168.100.3&quot;</td><td>80</td><td>6</td><td>&quot;04/06/2018 01:02:02 AM&quot;</td><td>5002975</td><td>3</td><td>5</td><td>399.0</td><td>494.0</td><td>399.0</td><td>0.0</td><td>133.0</td><td>230.362757</td><td>494.0</td><td>0.0</td><td>98.8</td><td>220.923516</td><td>178.493796</td><td>1.599049</td><td>714710.714286</td><td>1.8905e6</td><td>5.001968e6</td><td>15.0</td><td>943.0</td><td>471.5</td><td>1.2507e6</td><td>927.0</td><td>16.0</td><td>5.002975e6</td><td>644.174278</td><td>2.5008e6</td><td>5.001983e6</td><td>24.0</td><td>0</td><td>&hellip;</td><td>0</td><td>1</td><td>0</td><td>0</td><td>0</td><td>0</td><td>0</td><td>0</td><td>1.0</td><td>111.625</td><td>133.0</td><td>98.8</td><td>0</td><td>0</td><td>0</td><td>0</td><td>0</td><td>0</td><td>3</td><td>399</td><td>5</td><td>494</td><td>-1</td><td>235</td><td>1</td><td>0</td><td>0.0</td><td>0.0</td><td>0.0</td><td>0.0</td><td>0.0</td><td>0.0</td><td>0.0</td><td>0.0</td><td>&quot;Anomaly&quot;</td><td>&quot;DoS&quot;</td><td>&quot;DoS_HTTP&quot;</td></tr></tbody></table></div>"
      ],
      "text/plain": [
       "shape: (5, 86)\n",
       "┌───────────────┬──────────────┬──────────┬──────────────┬───┬──────────┬─────────┬─────┬──────────┐\n",
       "│ Flow_ID       ┆ Src_IP       ┆ Src_Port ┆ Dst_IP       ┆ … ┆ Idle_Min ┆ Label   ┆ Cat ┆ Sub_Cat  │\n",
       "│ ---           ┆ ---          ┆ ---      ┆ ---          ┆   ┆ ---      ┆ ---     ┆ --- ┆ ---      │\n",
       "│ str           ┆ str          ┆ i64      ┆ str          ┆   ┆ f64      ┆ str     ┆ str ┆ str      │\n",
       "╞═══════════════╪══════════════╪══════════╪══════════════╪═══╪══════════╪═════════╪═════╪══════════╡\n",
       "│ 192.168.100.1 ┆ 192.168.100. ┆ 51370    ┆ 192.168.100. ┆ … ┆ 0.0      ┆ Anomaly ┆ DoS ┆ DoS_HTTP │\n",
       "│ 50-192.168.10 ┆ 150          ┆          ┆ 3            ┆   ┆          ┆         ┆     ┆          │\n",
       "│ 0.3-…         ┆              ┆          ┆              ┆   ┆          ┆         ┆     ┆          │\n",
       "│ 192.168.100.1 ┆ 192.168.100. ┆ 51368    ┆ 192.168.100. ┆ … ┆ 0.0      ┆ Anomaly ┆ DoS ┆ DoS_HTTP │\n",
       "│ 50-192.168.10 ┆ 150          ┆          ┆ 3            ┆   ┆          ┆         ┆     ┆          │\n",
       "│ 0.3-…         ┆              ┆          ┆              ┆   ┆          ┆         ┆     ┆          │\n",
       "│ 192.168.100.1 ┆ 192.168.100. ┆ 51372    ┆ 192.168.100. ┆ … ┆ 0.0      ┆ Anomaly ┆ DoS ┆ DoS_HTTP │\n",
       "│ 50-192.168.10 ┆ 150          ┆          ┆ 3            ┆   ┆          ┆         ┆     ┆          │\n",
       "│ 0.3-…         ┆              ┆          ┆              ┆   ┆          ┆         ┆     ┆          │\n",
       "│ 192.168.100.1 ┆ 192.168.100. ┆ 51374    ┆ 192.168.100. ┆ … ┆ 0.0      ┆ Anomaly ┆ DoS ┆ DoS_HTTP │\n",
       "│ 50-192.168.10 ┆ 150          ┆          ┆ 3            ┆   ┆          ┆         ┆     ┆          │\n",
       "│ 0.3-…         ┆              ┆          ┆              ┆   ┆          ┆         ┆     ┆          │\n",
       "│ 192.168.100.1 ┆ 192.168.100. ┆ 51376    ┆ 192.168.100. ┆ … ┆ 0.0      ┆ Anomaly ┆ DoS ┆ DoS_HTTP │\n",
       "│ 50-192.168.10 ┆ 150          ┆          ┆ 3            ┆   ┆          ┆         ┆     ┆          │\n",
       "│ 0.3-…         ┆              ┆          ┆              ┆   ┆          ┆         ┆     ┆          │\n",
       "└───────────────┴──────────────┴──────────┴──────────────┴───┴──────────┴─────────┴─────┴──────────┘"
      ]
     },
     "execution_count": 3,
     "metadata": {},
     "output_type": "execute_result"
    }
   ],
   "source": [
    "bot = pl.read_csv('data\\BoT\\DoS\\DoS_HTTP\\DoS_HTTP1.csv') #.filter(pl.col('Label') == 'Normal')\n",
    "bot.head()"
   ]
  },
  {
   "cell_type": "code",
   "execution_count": 4,
   "id": "99aa7213",
   "metadata": {},
   "outputs": [
    {
     "data": {
      "text/plain": [
       "52466"
      ]
     },
     "execution_count": 4,
     "metadata": {},
     "output_type": "execute_result"
    }
   ],
   "source": [
    "len(bot)"
   ]
  },
  {
   "cell_type": "code",
   "execution_count": 8,
   "id": "c5a2f02c",
   "metadata": {},
   "outputs": [],
   "source": [
    "bot = bot.drop(columns_to_delete + ['Sub_Cat'])"
   ]
  },
  {
   "cell_type": "code",
   "execution_count": 4,
   "id": "795908a7",
   "metadata": {},
   "outputs": [
    {
     "data": {
      "text/plain": [
       "array(['DDoS_HTTP', 'Normal'], dtype=object)"
      ]
     },
     "execution_count": 4,
     "metadata": {},
     "output_type": "execute_result"
    }
   ],
   "source": [
    "bot['Sub_Cat'].unique()"
   ]
  },
  {
   "cell_type": "code",
   "execution_count": 37,
   "id": "0d563637",
   "metadata": {},
   "outputs": [
    {
     "name": "stdout",
     "output_type": "stream",
     "text": [
      "['DDoS_HTTP', 'DDoS_TCP', 'DDoS_UDP']\n",
      "['DoS_HTTP', 'DoS_TCP', 'DoS_UDP']\n",
      "['OS', 'Service']\n",
      "['Data_Exfiltration', 'Keylogging']\n"
     ]
    }
   ],
   "source": [
    "categories = os.listdir('data/BoT')\n",
    "for cat in categories:\n",
    "    print(os.listdir(f'data/BoT/{cat}'))"
   ]
  },
  {
   "cell_type": "code",
   "execution_count": 75,
   "id": "9efb5dd3",
   "metadata": {},
   "outputs": [
    {
     "data": {
      "text/plain": [
       "['data/BoT\\\\DDoS\\\\DDoS_HTTP\\\\DDoS_HTTP1.csv',\n",
       " 'data/BoT\\\\DDoS\\\\DDoS_TCP\\\\DDoS_TCP1.csv',\n",
       " 'data/BoT\\\\DDoS\\\\DDoS_UDP\\\\DDoS_UDP1.csv',\n",
       " 'data/BoT\\\\DoS\\\\DoS_HTTP\\\\DoS_HTTP1.csv',\n",
       " 'data/BoT\\\\DoS\\\\DoS_TCP\\\\DoS_TCP1.csv',\n",
       " 'data/BoT\\\\DoS\\\\DoS_UDP\\\\DoS_UDP1.csv']"
      ]
     },
     "execution_count": 75,
     "metadata": {},
     "output_type": "execute_result"
    }
   ],
   "source": [
    "from glob import glob\n",
    "\n",
    "glob('data/BoT/*DoS/*/*1.csv')"
   ]
  },
  {
   "cell_type": "code",
   "execution_count": 9,
   "id": "babd95f5",
   "metadata": {},
   "outputs": [],
   "source": [
    "for ds in ['data/BoT/Scan/OS/OS.csv', 'data/BoT/Scan/Service/Service.csv', 'data/BoT/DDoS/DDoS_HTTP/DDoS_HTTP1.csv',\n",
    "           'data/BoT/Theft/Data_Exfiltration/Data_Exfiltration.csv', 'data/BoT/Theft/Data_Exfiltration/Data_Exfiltration.csv']:\n",
    "    df = pl.read_csv(ds)\n",
    "    df = df.drop(columns_to_delete + ['Sub_Cat'])\n",
    "    bot = pl.concat([bot, df], how=\"vertical_relaxed\")\n",
    "    del(df)"
   ]
  },
  {
   "cell_type": "code",
   "execution_count": 10,
   "id": "9fda0736",
   "metadata": {},
   "outputs": [
    {
     "name": "stdout",
     "output_type": "stream",
     "text": [
      "normal: 1879, anomaly: 1402071\n",
      "normal: 397, anomaly: 2279947\n",
      "normal: 3105, anomaly: 1725909\n",
      "normal: 330, anomaly: 1543740\n"
     ]
    }
   ],
   "source": [
    "for ds in ['data/BoT/DDoS/DDoS_TCP/DDoS_TCP1.csv', 'data/BoT/DDoS/DDoS_UDP/DDoS_UDP1.csv', \n",
    "           'data/BoT/DoS/DoS_TCP/DoS_TCP1.csv', 'data/BoT/DoS/DoS_UDP/DoS_UDP1.csv' ]:\n",
    "    df = pl.read_csv(ds)\n",
    "    df = df.drop(columns_to_delete + ['Sub_Cat'])\n",
    "    df_normal = df.filter(pl.col('Label') == 'Normal')\n",
    "    df_anomaly = df.filter(pl.col('Label') != 'Normal')\n",
    "    print(f'normal: {len(df_normal)}, anomaly: {len(df_anomaly)}')\n",
    "    bot = pl.concat([bot, df_normal], how=\"vertical_relaxed\")\n",
    "    bot = pl.concat([bot, df_anomaly[:400000, :]], how=\"vertical_relaxed\")\n",
    "    del(df, df_anomaly, df_normal)"
   ]
  },
  {
   "cell_type": "code",
   "execution_count": 18,
   "id": "0bf336a0",
   "metadata": {},
   "outputs": [
    {
     "data": {
      "text/plain": [
       "2576876"
      ]
     },
     "execution_count": 18,
     "metadata": {},
     "output_type": "execute_result"
    }
   ],
   "source": [
    "len(bot)"
   ]
  },
  {
   "cell_type": "code",
   "execution_count": 16,
   "id": "82ec6d7d",
   "metadata": {},
   "outputs": [
    {
     "name": "stdout",
     "output_type": "stream",
     "text": [
      "Flow_Byts/s\n",
      "7\n",
      "Flow_Pkts/s\n",
      "98\n"
     ]
    }
   ],
   "source": [
    "for name, col in zip(bot.columns[:-2], bot[:-2]):\n",
    "    if col.is_infinite().any():\n",
    "        print(name)\n",
    "        print(col.is_infinite().sum())"
   ]
  },
  {
   "cell_type": "code",
   "execution_count": 17,
   "id": "6d7c000d",
   "metadata": {},
   "outputs": [],
   "source": [
    "bot = bot.filter((~pl.col(\"Flow_Pkts/s\").is_infinite()) & (~pl.col(\"Flow_Byts/s\").is_infinite()))"
   ]
  },
  {
   "cell_type": "code",
   "execution_count": 19,
   "id": "b786b399",
   "metadata": {},
   "outputs": [],
   "source": [
    "bot.write_csv('data/bot-iot.csv')"
   ]
  },
  {
   "cell_type": "markdown",
   "id": "ccd32757",
   "metadata": {},
   "source": [
    "# polars"
   ]
  },
  {
   "cell_type": "code",
   "execution_count": 3,
   "id": "2c1709cb",
   "metadata": {},
   "outputs": [],
   "source": [
    "import polars as pl"
   ]
  },
  {
   "cell_type": "code",
   "execution_count": 9,
   "id": "fb0c04ed",
   "metadata": {},
   "outputs": [],
   "source": [
    "portscan = pl.scan_csv(\"data/IoT-23/PortScan2.csv\")"
   ]
  },
  {
   "cell_type": "code",
   "execution_count": 19,
   "id": "d1ab22fa",
   "metadata": {},
   "outputs": [],
   "source": [
    "upload = portscan.columns\n",
    "for col in columns_to_delete:\n",
    "    upload.remove(col)"
   ]
  },
  {
   "cell_type": "code",
   "execution_count": 15,
   "id": "2db5562b",
   "metadata": {},
   "outputs": [
    {
     "data": {
      "text/plain": [
       "['Flow_ID',\n",
       " 'Src_IP',\n",
       " 'Src_Port',\n",
       " 'Dst_IP',\n",
       " 'Dst_Port',\n",
       " 'Protocol',\n",
       " 'Timestamp',\n",
       " 'Flow_Duration',\n",
       " 'Tot_Fwd_Pkts',\n",
       " 'Tot_Bwd_Pkts',\n",
       " 'TotLen_Fwd_Pkts',\n",
       " 'TotLen_Bwd_Pkts',\n",
       " 'Fwd_Pkt_Len_Max',\n",
       " 'Fwd_Pkt_Len_Min',\n",
       " 'Fwd_Pkt_Len_Mean',\n",
       " 'Fwd_Pkt_Len_Std',\n",
       " 'Bwd_Pkt_Len_Max',\n",
       " 'Bwd_Pkt_Len_Min',\n",
       " 'Bwd_Pkt_Len_Mean',\n",
       " 'Bwd_Pkt_Len_Std',\n",
       " 'Flow_Byts/s',\n",
       " 'Flow_Pkts/s',\n",
       " 'Flow_IAT_Mean',\n",
       " 'Flow_IAT_Std',\n",
       " 'Flow_IAT_Max',\n",
       " 'Flow_IAT_Min',\n",
       " 'Fwd_IAT_Tot',\n",
       " 'Fwd_IAT_Mean',\n",
       " 'Bwd_IAT_Mean',\n",
       " 'Fwd_IAT_Max',\n",
       " 'Fwd_IAT_Min',\n",
       " 'Bwd_IAT_Tot',\n",
       " 'Bwd_IAT_Mean.1',\n",
       " 'Bwd_IAT_Std',\n",
       " 'Bwd_IAT_Max',\n",
       " 'Bwd_IAT_Min',\n",
       " 'Fwd_PSH_Flags',\n",
       " 'Bwd_PSH_Flags',\n",
       " 'Fwd_URG_Flags',\n",
       " 'Bwd_URG_Flags',\n",
       " 'Fwd_Header_Len',\n",
       " 'Bwd_Header_Len',\n",
       " 'Fwd_Pkts/s',\n",
       " 'Bwd_Pkts/s',\n",
       " 'Pkt_Len_Min',\n",
       " 'Pkt_Len_Max',\n",
       " 'Pkt_Len_Mean',\n",
       " 'Pkt_Len_Std',\n",
       " 'Pkt_Len_Var',\n",
       " 'FIN_Flag_Cnt',\n",
       " 'SYN_Flag_Cnt',\n",
       " 'RST_Flag_Cnt',\n",
       " 'PSH_Flag_Cnt',\n",
       " 'ACK_Flag_Cnt',\n",
       " 'URG_Flag_Cnt',\n",
       " 'CWE_Flag_Count',\n",
       " 'ECE_Flag_Cnt',\n",
       " 'Down/Up_Ratio',\n",
       " 'Pkt_Size_Avg',\n",
       " 'Fwd_Seg_Size_Avg',\n",
       " 'Bwd_Seg_Size_Avg',\n",
       " 'Fwd_Byts/b_Avg',\n",
       " 'Fwd_Pkts/b_Avg',\n",
       " 'Fwd_Blk_Rate_Avg',\n",
       " 'Bwd_Byts/b_Avg',\n",
       " 'Bwd_Pkts/b_Avg',\n",
       " 'Bwd_Blk_Rate_Avg',\n",
       " 'Subflow_Fwd_Pkts',\n",
       " 'Subflow_Fwd_Byts',\n",
       " 'Subflow_Bwd_Pkts',\n",
       " 'Subflow_Bwd_Byts',\n",
       " 'Init_Fwd_Win_Byts',\n",
       " 'Init_Bwd_Win_Byts',\n",
       " 'Fwd_Act_Data_Pkts',\n",
       " 'Fwd_Seg_Size_Min',\n",
       " 'Active_Mean',\n",
       " 'Active_Std',\n",
       " 'Active_Max',\n",
       " 'Active_Min',\n",
       " 'Idle_Mean',\n",
       " 'Idle_Std',\n",
       " 'Idle_Max',\n",
       " 'Idle_Min',\n",
       " 'Label',\n",
       " 'Sub_Cat']"
      ]
     },
     "execution_count": 15,
     "metadata": {},
     "output_type": "execute_result"
    }
   ],
   "source": [
    "portscan.columns"
   ]
  },
  {
   "cell_type": "code",
   "execution_count": 20,
   "id": "593d5f27",
   "metadata": {},
   "outputs": [
    {
     "data": {
      "text/plain": [
       "['Flow_Duration',\n",
       " 'Tot_Fwd_Pkts',\n",
       " 'Tot_Bwd_Pkts',\n",
       " 'TotLen_Fwd_Pkts',\n",
       " 'TotLen_Bwd_Pkts',\n",
       " 'Fwd_Pkt_Len_Max',\n",
       " 'Fwd_Pkt_Len_Min',\n",
       " 'Fwd_Pkt_Len_Mean',\n",
       " 'Fwd_Pkt_Len_Std',\n",
       " 'Bwd_Pkt_Len_Max',\n",
       " 'Bwd_Pkt_Len_Min',\n",
       " 'Bwd_Pkt_Len_Mean',\n",
       " 'Bwd_Pkt_Len_Std',\n",
       " 'Flow_Byts/s',\n",
       " 'Flow_Pkts/s',\n",
       " 'Flow_IAT_Mean',\n",
       " 'Flow_IAT_Std',\n",
       " 'Flow_IAT_Max',\n",
       " 'Flow_IAT_Min',\n",
       " 'Fwd_IAT_Tot',\n",
       " 'Fwd_IAT_Mean',\n",
       " 'Bwd_IAT_Mean',\n",
       " 'Fwd_IAT_Max',\n",
       " 'Fwd_IAT_Min',\n",
       " 'Bwd_IAT_Tot',\n",
       " 'Bwd_IAT_Mean.1',\n",
       " 'Bwd_IAT_Std',\n",
       " 'Bwd_IAT_Max',\n",
       " 'Bwd_IAT_Min',\n",
       " 'Fwd_PSH_Flags',\n",
       " 'Fwd_URG_Flags',\n",
       " 'Fwd_Header_Len',\n",
       " 'Bwd_Header_Len',\n",
       " 'Fwd_Pkts/s',\n",
       " 'Bwd_Pkts/s',\n",
       " 'Pkt_Len_Min',\n",
       " 'Pkt_Len_Max',\n",
       " 'Pkt_Len_Mean',\n",
       " 'Pkt_Len_Std',\n",
       " 'Pkt_Len_Var',\n",
       " 'FIN_Flag_Cnt',\n",
       " 'SYN_Flag_Cnt',\n",
       " 'RST_Flag_Cnt',\n",
       " 'PSH_Flag_Cnt',\n",
       " 'ACK_Flag_Cnt',\n",
       " 'URG_Flag_Cnt',\n",
       " 'Down/Up_Ratio',\n",
       " 'Pkt_Size_Avg',\n",
       " 'Fwd_Seg_Size_Avg',\n",
       " 'Bwd_Seg_Size_Avg',\n",
       " 'Bwd_Pkts/b_Avg',\n",
       " 'Bwd_Blk_Rate_Avg',\n",
       " 'Subflow_Fwd_Pkts',\n",
       " 'Subflow_Fwd_Byts',\n",
       " 'Subflow_Bwd_Pkts',\n",
       " 'Subflow_Bwd_Byts',\n",
       " 'Init_Fwd_Win_Byts',\n",
       " 'Init_Bwd_Win_Byts',\n",
       " 'Fwd_Act_Data_Pkts',\n",
       " 'Fwd_Seg_Size_Min',\n",
       " 'Idle_Mean',\n",
       " 'Idle_Std',\n",
       " 'Idle_Max',\n",
       " 'Idle_Min',\n",
       " 'Label',\n",
       " 'Sub_Cat']"
      ]
     },
     "execution_count": 20,
     "metadata": {},
     "output_type": "execute_result"
    }
   ],
   "source": [
    "upload"
   ]
  },
  {
   "cell_type": "code",
   "execution_count": 22,
   "id": "b973efcd",
   "metadata": {},
   "outputs": [],
   "source": [
    "port2 = pl.read_csv(columns=upload, source=\"data/IoT-23/PortScan2.csv\")"
   ]
  },
  {
   "cell_type": "code",
   "execution_count": 30,
   "id": "adf4155d",
   "metadata": {},
   "outputs": [
    {
     "ename": "MemoryError",
     "evalue": "Unable to allocate 488. MiB for an array with shape (10, 6402252) and data type int64",
     "output_type": "error",
     "traceback": [
      "\u001b[1;31m---------------------------------------------------------------------------\u001b[0m",
      "\u001b[1;31mMemoryError\u001b[0m                               Traceback (most recent call last)",
      "Cell \u001b[1;32mIn[30], line 1\u001b[0m\n\u001b[1;32m----> 1\u001b[0m port2 \u001b[38;5;241m=\u001b[39m \u001b[43mpd\u001b[49m\u001b[38;5;241;43m.\u001b[39;49m\u001b[43mread_csv\u001b[49m\u001b[43m(\u001b[49m\u001b[38;5;124;43m\"\u001b[39;49m\u001b[38;5;124;43mPortScan2.csv\u001b[39;49m\u001b[38;5;124;43m\"\u001b[39;49m\u001b[43m)\u001b[49m\n",
      "File \u001b[1;32mc:\\Users\\zofia\\Desktop\\GSN\\projekt\\gsn_iot_anomalies_detection\\.venv\\Lib\\site-packages\\pandas\\io\\parsers\\readers.py:1026\u001b[0m, in \u001b[0;36mread_csv\u001b[1;34m(filepath_or_buffer, sep, delimiter, header, names, index_col, usecols, dtype, engine, converters, true_values, false_values, skipinitialspace, skiprows, skipfooter, nrows, na_values, keep_default_na, na_filter, verbose, skip_blank_lines, parse_dates, infer_datetime_format, keep_date_col, date_parser, date_format, dayfirst, cache_dates, iterator, chunksize, compression, thousands, decimal, lineterminator, quotechar, quoting, doublequote, escapechar, comment, encoding, encoding_errors, dialect, on_bad_lines, delim_whitespace, low_memory, memory_map, float_precision, storage_options, dtype_backend)\u001b[0m\n\u001b[0;32m   1013\u001b[0m kwds_defaults \u001b[38;5;241m=\u001b[39m _refine_defaults_read(\n\u001b[0;32m   1014\u001b[0m     dialect,\n\u001b[0;32m   1015\u001b[0m     delimiter,\n\u001b[1;32m   (...)\u001b[0m\n\u001b[0;32m   1022\u001b[0m     dtype_backend\u001b[38;5;241m=\u001b[39mdtype_backend,\n\u001b[0;32m   1023\u001b[0m )\n\u001b[0;32m   1024\u001b[0m kwds\u001b[38;5;241m.\u001b[39mupdate(kwds_defaults)\n\u001b[1;32m-> 1026\u001b[0m \u001b[38;5;28;01mreturn\u001b[39;00m \u001b[43m_read\u001b[49m\u001b[43m(\u001b[49m\u001b[43mfilepath_or_buffer\u001b[49m\u001b[43m,\u001b[49m\u001b[43m \u001b[49m\u001b[43mkwds\u001b[49m\u001b[43m)\u001b[49m\n",
      "File \u001b[1;32mc:\\Users\\zofia\\Desktop\\GSN\\projekt\\gsn_iot_anomalies_detection\\.venv\\Lib\\site-packages\\pandas\\io\\parsers\\readers.py:626\u001b[0m, in \u001b[0;36m_read\u001b[1;34m(filepath_or_buffer, kwds)\u001b[0m\n\u001b[0;32m    623\u001b[0m     \u001b[38;5;28;01mreturn\u001b[39;00m parser\n\u001b[0;32m    625\u001b[0m \u001b[38;5;28;01mwith\u001b[39;00m parser:\n\u001b[1;32m--> 626\u001b[0m     \u001b[38;5;28;01mreturn\u001b[39;00m \u001b[43mparser\u001b[49m\u001b[38;5;241;43m.\u001b[39;49m\u001b[43mread\u001b[49m\u001b[43m(\u001b[49m\u001b[43mnrows\u001b[49m\u001b[43m)\u001b[49m\n",
      "File \u001b[1;32mc:\\Users\\zofia\\Desktop\\GSN\\projekt\\gsn_iot_anomalies_detection\\.venv\\Lib\\site-packages\\pandas\\io\\parsers\\readers.py:1968\u001b[0m, in \u001b[0;36mTextFileReader.read\u001b[1;34m(self, nrows)\u001b[0m\n\u001b[0;32m   1965\u001b[0m     \u001b[38;5;28;01melse\u001b[39;00m:\n\u001b[0;32m   1966\u001b[0m         new_col_dict \u001b[38;5;241m=\u001b[39m col_dict\n\u001b[1;32m-> 1968\u001b[0m     df \u001b[38;5;241m=\u001b[39m \u001b[43mDataFrame\u001b[49m\u001b[43m(\u001b[49m\n\u001b[0;32m   1969\u001b[0m \u001b[43m        \u001b[49m\u001b[43mnew_col_dict\u001b[49m\u001b[43m,\u001b[49m\n\u001b[0;32m   1970\u001b[0m \u001b[43m        \u001b[49m\u001b[43mcolumns\u001b[49m\u001b[38;5;241;43m=\u001b[39;49m\u001b[43mcolumns\u001b[49m\u001b[43m,\u001b[49m\n\u001b[0;32m   1971\u001b[0m \u001b[43m        \u001b[49m\u001b[43mindex\u001b[49m\u001b[38;5;241;43m=\u001b[39;49m\u001b[43mindex\u001b[49m\u001b[43m,\u001b[49m\n\u001b[0;32m   1972\u001b[0m \u001b[43m        \u001b[49m\u001b[43mcopy\u001b[49m\u001b[38;5;241;43m=\u001b[39;49m\u001b[38;5;129;43;01mnot\u001b[39;49;00m\u001b[43m \u001b[49m\u001b[43musing_copy_on_write\u001b[49m\u001b[43m(\u001b[49m\u001b[43m)\u001b[49m\u001b[43m,\u001b[49m\n\u001b[0;32m   1973\u001b[0m \u001b[43m    \u001b[49m\u001b[43m)\u001b[49m\n\u001b[0;32m   1975\u001b[0m     \u001b[38;5;28mself\u001b[39m\u001b[38;5;241m.\u001b[39m_currow \u001b[38;5;241m+\u001b[39m\u001b[38;5;241m=\u001b[39m new_rows\n\u001b[0;32m   1976\u001b[0m \u001b[38;5;28;01mreturn\u001b[39;00m df\n",
      "File \u001b[1;32mc:\\Users\\zofia\\Desktop\\GSN\\projekt\\gsn_iot_anomalies_detection\\.venv\\Lib\\site-packages\\pandas\\core\\frame.py:778\u001b[0m, in \u001b[0;36mDataFrame.__init__\u001b[1;34m(self, data, index, columns, dtype, copy)\u001b[0m\n\u001b[0;32m    772\u001b[0m     mgr \u001b[38;5;241m=\u001b[39m \u001b[38;5;28mself\u001b[39m\u001b[38;5;241m.\u001b[39m_init_mgr(\n\u001b[0;32m    773\u001b[0m         data, axes\u001b[38;5;241m=\u001b[39m{\u001b[38;5;124m\"\u001b[39m\u001b[38;5;124mindex\u001b[39m\u001b[38;5;124m\"\u001b[39m: index, \u001b[38;5;124m\"\u001b[39m\u001b[38;5;124mcolumns\u001b[39m\u001b[38;5;124m\"\u001b[39m: columns}, dtype\u001b[38;5;241m=\u001b[39mdtype, copy\u001b[38;5;241m=\u001b[39mcopy\n\u001b[0;32m    774\u001b[0m     )\n\u001b[0;32m    776\u001b[0m \u001b[38;5;28;01melif\u001b[39;00m \u001b[38;5;28misinstance\u001b[39m(data, \u001b[38;5;28mdict\u001b[39m):\n\u001b[0;32m    777\u001b[0m     \u001b[38;5;66;03m# GH#38939 de facto copy defaults to False only in non-dict cases\u001b[39;00m\n\u001b[1;32m--> 778\u001b[0m     mgr \u001b[38;5;241m=\u001b[39m \u001b[43mdict_to_mgr\u001b[49m\u001b[43m(\u001b[49m\u001b[43mdata\u001b[49m\u001b[43m,\u001b[49m\u001b[43m \u001b[49m\u001b[43mindex\u001b[49m\u001b[43m,\u001b[49m\u001b[43m \u001b[49m\u001b[43mcolumns\u001b[49m\u001b[43m,\u001b[49m\u001b[43m \u001b[49m\u001b[43mdtype\u001b[49m\u001b[38;5;241;43m=\u001b[39;49m\u001b[43mdtype\u001b[49m\u001b[43m,\u001b[49m\u001b[43m \u001b[49m\u001b[43mcopy\u001b[49m\u001b[38;5;241;43m=\u001b[39;49m\u001b[43mcopy\u001b[49m\u001b[43m,\u001b[49m\u001b[43m \u001b[49m\u001b[43mtyp\u001b[49m\u001b[38;5;241;43m=\u001b[39;49m\u001b[43mmanager\u001b[49m\u001b[43m)\u001b[49m\n\u001b[0;32m    779\u001b[0m \u001b[38;5;28;01melif\u001b[39;00m \u001b[38;5;28misinstance\u001b[39m(data, ma\u001b[38;5;241m.\u001b[39mMaskedArray):\n\u001b[0;32m    780\u001b[0m     \u001b[38;5;28;01mfrom\u001b[39;00m \u001b[38;5;21;01mnumpy\u001b[39;00m\u001b[38;5;21;01m.\u001b[39;00m\u001b[38;5;21;01mma\u001b[39;00m \u001b[38;5;28;01mimport\u001b[39;00m mrecords\n",
      "File \u001b[1;32mc:\\Users\\zofia\\Desktop\\GSN\\projekt\\gsn_iot_anomalies_detection\\.venv\\Lib\\site-packages\\pandas\\core\\internals\\construction.py:503\u001b[0m, in \u001b[0;36mdict_to_mgr\u001b[1;34m(data, index, columns, dtype, typ, copy)\u001b[0m\n\u001b[0;32m    499\u001b[0m     \u001b[38;5;28;01melse\u001b[39;00m:\n\u001b[0;32m    500\u001b[0m         \u001b[38;5;66;03m# dtype check to exclude e.g. range objects, scalars\u001b[39;00m\n\u001b[0;32m    501\u001b[0m         arrays \u001b[38;5;241m=\u001b[39m [x\u001b[38;5;241m.\u001b[39mcopy() \u001b[38;5;28;01mif\u001b[39;00m \u001b[38;5;28mhasattr\u001b[39m(x, \u001b[38;5;124m\"\u001b[39m\u001b[38;5;124mdtype\u001b[39m\u001b[38;5;124m\"\u001b[39m) \u001b[38;5;28;01melse\u001b[39;00m x \u001b[38;5;28;01mfor\u001b[39;00m x \u001b[38;5;129;01min\u001b[39;00m arrays]\n\u001b[1;32m--> 503\u001b[0m \u001b[38;5;28;01mreturn\u001b[39;00m \u001b[43marrays_to_mgr\u001b[49m\u001b[43m(\u001b[49m\u001b[43marrays\u001b[49m\u001b[43m,\u001b[49m\u001b[43m \u001b[49m\u001b[43mcolumns\u001b[49m\u001b[43m,\u001b[49m\u001b[43m \u001b[49m\u001b[43mindex\u001b[49m\u001b[43m,\u001b[49m\u001b[43m \u001b[49m\u001b[43mdtype\u001b[49m\u001b[38;5;241;43m=\u001b[39;49m\u001b[43mdtype\u001b[49m\u001b[43m,\u001b[49m\u001b[43m \u001b[49m\u001b[43mtyp\u001b[49m\u001b[38;5;241;43m=\u001b[39;49m\u001b[43mtyp\u001b[49m\u001b[43m,\u001b[49m\u001b[43m \u001b[49m\u001b[43mconsolidate\u001b[49m\u001b[38;5;241;43m=\u001b[39;49m\u001b[43mcopy\u001b[49m\u001b[43m)\u001b[49m\n",
      "File \u001b[1;32mc:\\Users\\zofia\\Desktop\\GSN\\projekt\\gsn_iot_anomalies_detection\\.venv\\Lib\\site-packages\\pandas\\core\\internals\\construction.py:152\u001b[0m, in \u001b[0;36marrays_to_mgr\u001b[1;34m(arrays, columns, index, dtype, verify_integrity, typ, consolidate)\u001b[0m\n\u001b[0;32m    149\u001b[0m axes \u001b[38;5;241m=\u001b[39m [columns, index]\n\u001b[0;32m    151\u001b[0m \u001b[38;5;28;01mif\u001b[39;00m typ \u001b[38;5;241m==\u001b[39m \u001b[38;5;124m\"\u001b[39m\u001b[38;5;124mblock\u001b[39m\u001b[38;5;124m\"\u001b[39m:\n\u001b[1;32m--> 152\u001b[0m     \u001b[38;5;28;01mreturn\u001b[39;00m \u001b[43mcreate_block_manager_from_column_arrays\u001b[49m\u001b[43m(\u001b[49m\n\u001b[0;32m    153\u001b[0m \u001b[43m        \u001b[49m\u001b[43marrays\u001b[49m\u001b[43m,\u001b[49m\u001b[43m \u001b[49m\u001b[43maxes\u001b[49m\u001b[43m,\u001b[49m\u001b[43m \u001b[49m\u001b[43mconsolidate\u001b[49m\u001b[38;5;241;43m=\u001b[39;49m\u001b[43mconsolidate\u001b[49m\u001b[43m,\u001b[49m\u001b[43m \u001b[49m\u001b[43mrefs\u001b[49m\u001b[38;5;241;43m=\u001b[39;49m\u001b[43mrefs\u001b[49m\n\u001b[0;32m    154\u001b[0m \u001b[43m    \u001b[49m\u001b[43m)\u001b[49m\n\u001b[0;32m    155\u001b[0m \u001b[38;5;28;01melif\u001b[39;00m typ \u001b[38;5;241m==\u001b[39m \u001b[38;5;124m\"\u001b[39m\u001b[38;5;124marray\u001b[39m\u001b[38;5;124m\"\u001b[39m:\n\u001b[0;32m    156\u001b[0m     \u001b[38;5;28;01mreturn\u001b[39;00m ArrayManager(arrays, [index, columns])\n",
      "File \u001b[1;32mc:\\Users\\zofia\\Desktop\\GSN\\projekt\\gsn_iot_anomalies_detection\\.venv\\Lib\\site-packages\\pandas\\core\\internals\\managers.py:2139\u001b[0m, in \u001b[0;36mcreate_block_manager_from_column_arrays\u001b[1;34m(arrays, axes, consolidate, refs)\u001b[0m\n\u001b[0;32m   2121\u001b[0m \u001b[38;5;28;01mdef\u001b[39;00m \u001b[38;5;21mcreate_block_manager_from_column_arrays\u001b[39m(\n\u001b[0;32m   2122\u001b[0m     arrays: \u001b[38;5;28mlist\u001b[39m[ArrayLike],\n\u001b[0;32m   2123\u001b[0m     axes: \u001b[38;5;28mlist\u001b[39m[Index],\n\u001b[1;32m   (...)\u001b[0m\n\u001b[0;32m   2135\u001b[0m     \u001b[38;5;66;03m# These last three are sufficient to allow us to safely pass\u001b[39;00m\n\u001b[0;32m   2136\u001b[0m     \u001b[38;5;66;03m#  verify_integrity=False below.\u001b[39;00m\n\u001b[0;32m   2138\u001b[0m     \u001b[38;5;28;01mtry\u001b[39;00m:\n\u001b[1;32m-> 2139\u001b[0m         blocks \u001b[38;5;241m=\u001b[39m \u001b[43m_form_blocks\u001b[49m\u001b[43m(\u001b[49m\u001b[43marrays\u001b[49m\u001b[43m,\u001b[49m\u001b[43m \u001b[49m\u001b[43mconsolidate\u001b[49m\u001b[43m,\u001b[49m\u001b[43m \u001b[49m\u001b[43mrefs\u001b[49m\u001b[43m)\u001b[49m\n\u001b[0;32m   2140\u001b[0m         mgr \u001b[38;5;241m=\u001b[39m BlockManager(blocks, axes, verify_integrity\u001b[38;5;241m=\u001b[39m\u001b[38;5;28;01mFalse\u001b[39;00m)\n\u001b[0;32m   2141\u001b[0m     \u001b[38;5;28;01mexcept\u001b[39;00m \u001b[38;5;167;01mValueError\u001b[39;00m \u001b[38;5;28;01mas\u001b[39;00m e:\n",
      "File \u001b[1;32mc:\\Users\\zofia\\Desktop\\GSN\\projekt\\gsn_iot_anomalies_detection\\.venv\\Lib\\site-packages\\pandas\\core\\internals\\managers.py:2212\u001b[0m, in \u001b[0;36m_form_blocks\u001b[1;34m(arrays, consolidate, refs)\u001b[0m\n\u001b[0;32m   2209\u001b[0m \u001b[38;5;28;01mif\u001b[39;00m \u001b[38;5;28missubclass\u001b[39m(dtype\u001b[38;5;241m.\u001b[39mtype, (\u001b[38;5;28mstr\u001b[39m, \u001b[38;5;28mbytes\u001b[39m)):\n\u001b[0;32m   2210\u001b[0m     dtype \u001b[38;5;241m=\u001b[39m np\u001b[38;5;241m.\u001b[39mdtype(\u001b[38;5;28mobject\u001b[39m)\n\u001b[1;32m-> 2212\u001b[0m values, placement \u001b[38;5;241m=\u001b[39m \u001b[43m_stack_arrays\u001b[49m\u001b[43m(\u001b[49m\u001b[38;5;28;43mlist\u001b[39;49m\u001b[43m(\u001b[49m\u001b[43mtup_block\u001b[49m\u001b[43m)\u001b[49m\u001b[43m,\u001b[49m\u001b[43m \u001b[49m\u001b[43mdtype\u001b[49m\u001b[43m)\u001b[49m\n\u001b[0;32m   2213\u001b[0m \u001b[38;5;28;01mif\u001b[39;00m is_dtlike:\n\u001b[0;32m   2214\u001b[0m     values \u001b[38;5;241m=\u001b[39m ensure_wrapped_if_datetimelike(values)\n",
      "File \u001b[1;32mc:\\Users\\zofia\\Desktop\\GSN\\projekt\\gsn_iot_anomalies_detection\\.venv\\Lib\\site-packages\\pandas\\core\\internals\\managers.py:2252\u001b[0m, in \u001b[0;36m_stack_arrays\u001b[1;34m(tuples, dtype)\u001b[0m\n\u001b[0;32m   2249\u001b[0m first \u001b[38;5;241m=\u001b[39m arrays[\u001b[38;5;241m0\u001b[39m]\n\u001b[0;32m   2250\u001b[0m shape \u001b[38;5;241m=\u001b[39m (\u001b[38;5;28mlen\u001b[39m(arrays),) \u001b[38;5;241m+\u001b[39m first\u001b[38;5;241m.\u001b[39mshape\n\u001b[1;32m-> 2252\u001b[0m stacked \u001b[38;5;241m=\u001b[39m \u001b[43mnp\u001b[49m\u001b[38;5;241;43m.\u001b[39;49m\u001b[43mempty\u001b[49m\u001b[43m(\u001b[49m\u001b[43mshape\u001b[49m\u001b[43m,\u001b[49m\u001b[43m \u001b[49m\u001b[43mdtype\u001b[49m\u001b[38;5;241;43m=\u001b[39;49m\u001b[43mdtype\u001b[49m\u001b[43m)\u001b[49m\n\u001b[0;32m   2253\u001b[0m \u001b[38;5;28;01mfor\u001b[39;00m i, arr \u001b[38;5;129;01min\u001b[39;00m \u001b[38;5;28menumerate\u001b[39m(arrays):\n\u001b[0;32m   2254\u001b[0m     stacked[i] \u001b[38;5;241m=\u001b[39m arr\n",
      "\u001b[1;31mMemoryError\u001b[0m: Unable to allocate 488. MiB for an array with shape (10, 6402252) and data type int64"
     ]
    }
   ],
   "source": [
    "port2 = pd.read_csv(\"PortScan2.csv\")"
   ]
  },
  {
   "cell_type": "code",
   "execution_count": 25,
   "id": "a360d3cc",
   "metadata": {},
   "outputs": [
    {
     "ename": "TypeError",
     "evalue": "DataFrame object does not support `Series` assignment by index\n\nUse `DataFrame.with_columns`.",
     "output_type": "error",
     "traceback": [
      "\u001b[1;31m---------------------------------------------------------------------------\u001b[0m",
      "\u001b[1;31mTypeError\u001b[0m                                 Traceback (most recent call last)",
      "Cell \u001b[1;32mIn[25], line 1\u001b[0m\n\u001b[1;32m----> 1\u001b[0m \u001b[43mport2\u001b[49m\u001b[43m[\u001b[49m\u001b[38;5;124;43m\"\u001b[39;49m\u001b[38;5;124;43mCat\u001b[39;49m\u001b[38;5;124;43m\"\u001b[39;49m\u001b[43m]\u001b[49m \u001b[38;5;241m=\u001b[39m \u001b[38;5;124m\"\u001b[39m\u001b[38;5;124mPortScan\u001b[39m\u001b[38;5;124m\"\u001b[39m\n",
      "File \u001b[1;32mc:\\Users\\zofia\\Desktop\\GSN\\projekt\\gsn_iot_anomalies_detection\\.venv\\Lib\\site-packages\\polars\\dataframe\\frame.py:1199\u001b[0m, in \u001b[0;36mDataFrame.__setitem__\u001b[1;34m(self, key, value)\u001b[0m\n\u001b[0;32m   1194\u001b[0m \u001b[38;5;28;01mif\u001b[39;00m \u001b[38;5;28misinstance\u001b[39m(key, \u001b[38;5;28mstr\u001b[39m):\n\u001b[0;32m   1195\u001b[0m     msg \u001b[38;5;241m=\u001b[39m (\n\u001b[0;32m   1196\u001b[0m         \u001b[38;5;124m\"\u001b[39m\u001b[38;5;124mDataFrame object does not support `Series` assignment by index\u001b[39m\u001b[38;5;124m\"\u001b[39m\n\u001b[0;32m   1197\u001b[0m         \u001b[38;5;124m\"\u001b[39m\u001b[38;5;130;01m\\n\u001b[39;00m\u001b[38;5;130;01m\\n\u001b[39;00m\u001b[38;5;124mUse `DataFrame.with_columns`.\u001b[39m\u001b[38;5;124m\"\u001b[39m\n\u001b[0;32m   1198\u001b[0m     )\n\u001b[1;32m-> 1199\u001b[0m     \u001b[38;5;28;01mraise\u001b[39;00m \u001b[38;5;167;01mTypeError\u001b[39;00m(msg)\n\u001b[0;32m   1201\u001b[0m \u001b[38;5;66;03m# df[[\"C\", \"D\"]]\u001b[39;00m\n\u001b[0;32m   1202\u001b[0m \u001b[38;5;28;01melif\u001b[39;00m \u001b[38;5;28misinstance\u001b[39m(key, \u001b[38;5;28mlist\u001b[39m):\n\u001b[0;32m   1203\u001b[0m     \u001b[38;5;66;03m# TODO: Use python sequence constructors\u001b[39;00m\n",
      "\u001b[1;31mTypeError\u001b[0m: DataFrame object does not support `Series` assignment by index\n\nUse `DataFrame.with_columns`."
     ]
    }
   ],
   "source": [
    "port2[\"Cat\"] = \"PortScan\""
   ]
  },
  {
   "cell_type": "markdown",
   "id": "3af9c253",
   "metadata": {},
   "source": [
    "# Notatki"
   ]
  },
  {
   "cell_type": "markdown",
   "id": "6f6fe6f1",
   "metadata": {},
   "source": [
    "IoT-23: Label (binary) & Sub_Cat\n",
    "\n",
    "MQTT: Label (binary) & Cat\n",
    "\n",
    "Intrusion: Label & Cat & Sub_Cat\n",
    "\n",
    "BoT: Label & Cat & Sub_Cat\n",
    "\n",
    "Przerobić datasety, aby wszystkie miały Label + Cat (dla intrusion i Bot wyrzucic Sub_cat, iot-23 zmienic nazwe)"
   ]
  }
 ],
 "metadata": {
  "colab": {
   "include_colab_link": true,
   "provenance": []
  },
  "kernelspec": {
   "display_name": "Python 3",
   "language": "python",
   "name": "python3"
  },
  "language_info": {
   "codemirror_mode": {
    "name": "ipython",
    "version": 3
   },
   "file_extension": ".py",
   "mimetype": "text/x-python",
   "name": "python",
   "nbconvert_exporter": "python",
   "pygments_lexer": "ipython3",
   "version": "3.12.3"
  }
 },
 "nbformat": 4,
 "nbformat_minor": 5
}
